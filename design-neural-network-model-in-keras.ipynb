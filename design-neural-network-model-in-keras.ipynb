{
 "cells": [
  {
   "cell_type": "markdown",
   "id": "f1a9e75d",
   "metadata": {
    "papermill": {
     "duration": 0.009793,
     "end_time": "2022-05-28T08:09:24.897832",
     "exception": false,
     "start_time": "2022-05-28T08:09:24.888039",
     "status": "completed"
    },
    "tags": []
   },
   "source": [
    "<div style=\"color:#D81F26;\n",
    "           display:fill;\n",
    "           border-radius:200px;\n",
    "           border-style: solid;\n",
    "           border-width: 6px;\n",
    "           border-color:#000000;\n",
    "           background-color:#f5f5f5;\n",
    "           font-size:30px;\n",
    "           font-family:Verdana;\n",
    "           letter-spacing:0.5px\">\n",
    "<h1 style=\"text-align: center;\n",
    "           padding: 15px;\n",
    "           color:#D81F26;\">\n",
    "Design Neural Network model in Keras\n",
    "</h1>\n",
    "</div>"
   ]
  },
  {
   "cell_type": "markdown",
   "id": "7e2d7211",
   "metadata": {
    "papermill": {
     "duration": 0.006058,
     "end_time": "2022-05-28T08:09:24.910543",
     "exception": false,
     "start_time": "2022-05-28T08:09:24.904485",
     "status": "completed"
    },
    "tags": []
   },
   "source": [
    "<br>\n",
    "<br>\n",
    "<br>\n",
    "<a href=\"https://imgbb.com/\" class=\"center\"><img src=\"https://i.ibb.co/TT8Wrm7/Keras.png\" alt=\"Keras\" border=\"0\"></a>\n",
    "<br>\n",
    "<br>\n",
    "<br>"
   ]
  },
  {
   "cell_type": "markdown",
   "id": "d5dda482",
   "metadata": {
    "papermill": {
     "duration": 0.006109,
     "end_time": "2022-05-28T08:09:24.923098",
     "exception": false,
     "start_time": "2022-05-28T08:09:24.916989",
     "status": "completed"
    },
    "tags": []
   },
   "source": [
    "**Note: It is an educational notebook just to do my homework for the Filoger Neural Network course that teaching by Amin Alipour.**"
   ]
  },
  {
   "cell_type": "markdown",
   "id": "185e5191",
   "metadata": {
    "papermill": {
     "duration": 0.00624,
     "end_time": "2022-05-28T08:09:24.935673",
     "exception": false,
     "start_time": "2022-05-28T08:09:24.929433",
     "status": "completed"
    },
    "tags": []
   },
   "source": [
    "<a href=\"https://ibb.co/yQ290CT\"><img src=\"https://i.ibb.co/XCHQXPB/NN-08.jpg\" alt=\"NN-08\" border=\"0\"></a>"
   ]
  },
  {
   "cell_type": "markdown",
   "id": "f8d972b4",
   "metadata": {
    "papermill": {
     "duration": 0.006359,
     "end_time": "2022-05-28T08:09:24.948514",
     "exception": false,
     "start_time": "2022-05-28T08:09:24.942155",
     "status": "completed"
    },
    "tags": []
   },
   "source": [
    "# <p style=\"border-radius:15px;border-style:solid;border-color:#838996;border-width:3px;background-color:#f2f3f4;padding: 20px;font-family:Verdana;color:#D81F26;font-size:30px;text-align: center;\">Import Libraries</p>"
   ]
  },
  {
   "cell_type": "code",
   "execution_count": 1,
   "id": "ab975cce",
   "metadata": {
    "_cell_guid": "b1076dfc-b9ad-4769-8c92-a6c4dae69d19",
    "_uuid": "8f2839f25d086af736a60e9eeb907d3b93b6e0e5",
    "execution": {
     "iopub.execute_input": "2022-05-28T08:09:24.964285Z",
     "iopub.status.busy": "2022-05-28T08:09:24.963730Z",
     "iopub.status.idle": "2022-05-28T08:09:26.165805Z",
     "shell.execute_reply": "2022-05-28T08:09:26.164733Z"
    },
    "papermill": {
     "duration": 1.212985,
     "end_time": "2022-05-28T08:09:26.168502",
     "exception": false,
     "start_time": "2022-05-28T08:09:24.955517",
     "status": "completed"
    },
    "tags": []
   },
   "outputs": [],
   "source": [
    "import numpy as np # linear algebra\n",
    "import pandas as pd # data processing, CSV file I/O (e.g. pd.read_csv)\n",
    "\n",
    "import seaborn as sns\n",
    "\n",
    "import matplotlib.pyplot as plt"
   ]
  },
  {
   "cell_type": "code",
   "execution_count": 2,
   "id": "f3228810",
   "metadata": {
    "execution": {
     "iopub.execute_input": "2022-05-28T08:09:26.184443Z",
     "iopub.status.busy": "2022-05-28T08:09:26.183911Z",
     "iopub.status.idle": "2022-05-28T08:09:32.375759Z",
     "shell.execute_reply": "2022-05-28T08:09:32.374673Z"
    },
    "papermill": {
     "duration": 6.202783,
     "end_time": "2022-05-28T08:09:32.378251",
     "exception": false,
     "start_time": "2022-05-28T08:09:26.175468",
     "status": "completed"
    },
    "tags": []
   },
   "outputs": [],
   "source": [
    "import keras\n",
    "\n",
    "from keras.models import Sequential\n",
    "from keras.layers import Dense\n",
    "\n",
    "from keras.utils.vis_utils import plot_model"
   ]
  },
  {
   "cell_type": "markdown",
   "id": "206fed3e",
   "metadata": {
    "papermill": {
     "duration": 0.006355,
     "end_time": "2022-05-28T08:09:32.391384",
     "exception": false,
     "start_time": "2022-05-28T08:09:32.385029",
     "status": "completed"
    },
    "tags": []
   },
   "source": [
    "# <p style=\"border-radius:15px;border-style:solid;border-color:#838996;border-width:3px;background-color:#f2f3f4;padding: 20px;font-family:Verdana;color:#D81F26;font-size:30px;text-align: center;\">Read Datasets</p>"
   ]
  },
  {
   "cell_type": "code",
   "execution_count": 3,
   "id": "9a316e2e",
   "metadata": {
    "execution": {
     "iopub.execute_input": "2022-05-28T08:09:32.407557Z",
     "iopub.status.busy": "2022-05-28T08:09:32.406689Z",
     "iopub.status.idle": "2022-05-28T08:09:32.454057Z",
     "shell.execute_reply": "2022-05-28T08:09:32.453068Z"
    },
    "papermill": {
     "duration": 0.058172,
     "end_time": "2022-05-28T08:09:32.456632",
     "exception": false,
     "start_time": "2022-05-28T08:09:32.398460",
     "status": "completed"
    },
    "tags": []
   },
   "outputs": [
    {
     "data": {
      "text/html": [
       "<div>\n",
       "<style scoped>\n",
       "    .dataframe tbody tr th:only-of-type {\n",
       "        vertical-align: middle;\n",
       "    }\n",
       "\n",
       "    .dataframe tbody tr th {\n",
       "        vertical-align: top;\n",
       "    }\n",
       "\n",
       "    .dataframe thead th {\n",
       "        text-align: right;\n",
       "    }\n",
       "</style>\n",
       "<table border=\"1\" class=\"dataframe\">\n",
       "  <thead>\n",
       "    <tr style=\"text-align: right;\">\n",
       "      <th></th>\n",
       "      <th>Cement</th>\n",
       "      <th>Blast Furnace Slag</th>\n",
       "      <th>Fly Ash</th>\n",
       "      <th>Water</th>\n",
       "      <th>Superplasticizer</th>\n",
       "      <th>Coarse Aggregate</th>\n",
       "      <th>Fine Aggregate</th>\n",
       "      <th>Age</th>\n",
       "      <th>Strength</th>\n",
       "    </tr>\n",
       "  </thead>\n",
       "  <tbody>\n",
       "    <tr>\n",
       "      <th>0</th>\n",
       "      <td>540.0</td>\n",
       "      <td>0.0</td>\n",
       "      <td>0.0</td>\n",
       "      <td>162.0</td>\n",
       "      <td>2.5</td>\n",
       "      <td>1040.0</td>\n",
       "      <td>676.0</td>\n",
       "      <td>28</td>\n",
       "      <td>79.99</td>\n",
       "    </tr>\n",
       "    <tr>\n",
       "      <th>1</th>\n",
       "      <td>540.0</td>\n",
       "      <td>0.0</td>\n",
       "      <td>0.0</td>\n",
       "      <td>162.0</td>\n",
       "      <td>2.5</td>\n",
       "      <td>1055.0</td>\n",
       "      <td>676.0</td>\n",
       "      <td>28</td>\n",
       "      <td>61.89</td>\n",
       "    </tr>\n",
       "    <tr>\n",
       "      <th>2</th>\n",
       "      <td>332.5</td>\n",
       "      <td>142.5</td>\n",
       "      <td>0.0</td>\n",
       "      <td>228.0</td>\n",
       "      <td>0.0</td>\n",
       "      <td>932.0</td>\n",
       "      <td>594.0</td>\n",
       "      <td>270</td>\n",
       "      <td>40.27</td>\n",
       "    </tr>\n",
       "    <tr>\n",
       "      <th>3</th>\n",
       "      <td>332.5</td>\n",
       "      <td>142.5</td>\n",
       "      <td>0.0</td>\n",
       "      <td>228.0</td>\n",
       "      <td>0.0</td>\n",
       "      <td>932.0</td>\n",
       "      <td>594.0</td>\n",
       "      <td>365</td>\n",
       "      <td>41.05</td>\n",
       "    </tr>\n",
       "    <tr>\n",
       "      <th>4</th>\n",
       "      <td>198.6</td>\n",
       "      <td>132.4</td>\n",
       "      <td>0.0</td>\n",
       "      <td>192.0</td>\n",
       "      <td>0.0</td>\n",
       "      <td>978.4</td>\n",
       "      <td>825.5</td>\n",
       "      <td>360</td>\n",
       "      <td>44.30</td>\n",
       "    </tr>\n",
       "  </tbody>\n",
       "</table>\n",
       "</div>"
      ],
      "text/plain": [
       "   Cement  Blast Furnace Slag  Fly Ash  Water  Superplasticizer  \\\n",
       "0   540.0                 0.0      0.0  162.0               2.5   \n",
       "1   540.0                 0.0      0.0  162.0               2.5   \n",
       "2   332.5               142.5      0.0  228.0               0.0   \n",
       "3   332.5               142.5      0.0  228.0               0.0   \n",
       "4   198.6               132.4      0.0  192.0               0.0   \n",
       "\n",
       "   Coarse Aggregate  Fine Aggregate  Age  Strength  \n",
       "0            1040.0           676.0   28     79.99  \n",
       "1            1055.0           676.0   28     61.89  \n",
       "2             932.0           594.0  270     40.27  \n",
       "3             932.0           594.0  365     41.05  \n",
       "4             978.4           825.5  360     44.30  "
      ]
     },
     "execution_count": 3,
     "metadata": {},
     "output_type": "execute_result"
    }
   ],
   "source": [
    "concrete_data = pd.read_csv('../input/concrete-data/concrete_data.csv')\n",
    "concrete_data.head()"
   ]
  },
  {
   "cell_type": "markdown",
   "id": "e5103310",
   "metadata": {
    "papermill": {
     "duration": 0.006762,
     "end_time": "2022-05-28T08:09:32.470686",
     "exception": false,
     "start_time": "2022-05-28T08:09:32.463924",
     "status": "completed"
    },
    "tags": []
   },
   "source": [
    "<p style = \"font-size : 15px; color : #D81F26 ; font-family : 'fantasy'; \"><b>Split data into predictors and target</b></p>"
   ]
  },
  {
   "cell_type": "code",
   "execution_count": 4,
   "id": "befeef25",
   "metadata": {
    "execution": {
     "iopub.execute_input": "2022-05-28T08:09:32.486363Z",
     "iopub.status.busy": "2022-05-28T08:09:32.485918Z",
     "iopub.status.idle": "2022-05-28T08:09:32.498945Z",
     "shell.execute_reply": "2022-05-28T08:09:32.497888Z"
    },
    "papermill": {
     "duration": 0.02335,
     "end_time": "2022-05-28T08:09:32.501106",
     "exception": false,
     "start_time": "2022-05-28T08:09:32.477756",
     "status": "completed"
    },
    "tags": []
   },
   "outputs": [],
   "source": [
    "#concrete_data_columns = concrete_data.columns\n",
    "predictors = concrete_data[['Cement', 'Superplasticizer', 'Age']]\n",
    "target = concrete_data['Strength'] # Strength column"
   ]
  },
  {
   "cell_type": "code",
   "execution_count": 5,
   "id": "6f37f98e",
   "metadata": {
    "execution": {
     "iopub.execute_input": "2022-05-28T08:09:32.516942Z",
     "iopub.status.busy": "2022-05-28T08:09:32.516489Z",
     "iopub.status.idle": "2022-05-28T08:09:32.533288Z",
     "shell.execute_reply": "2022-05-28T08:09:32.532214Z"
    },
    "papermill": {
     "duration": 0.027385,
     "end_time": "2022-05-28T08:09:32.535440",
     "exception": false,
     "start_time": "2022-05-28T08:09:32.508055",
     "status": "completed"
    },
    "tags": []
   },
   "outputs": [
    {
     "data": {
      "text/html": [
       "<div>\n",
       "<style scoped>\n",
       "    .dataframe tbody tr th:only-of-type {\n",
       "        vertical-align: middle;\n",
       "    }\n",
       "\n",
       "    .dataframe tbody tr th {\n",
       "        vertical-align: top;\n",
       "    }\n",
       "\n",
       "    .dataframe thead th {\n",
       "        text-align: right;\n",
       "    }\n",
       "</style>\n",
       "<table border=\"1\" class=\"dataframe\">\n",
       "  <thead>\n",
       "    <tr style=\"text-align: right;\">\n",
       "      <th></th>\n",
       "      <th>Cement</th>\n",
       "      <th>Superplasticizer</th>\n",
       "      <th>Age</th>\n",
       "    </tr>\n",
       "  </thead>\n",
       "  <tbody>\n",
       "    <tr>\n",
       "      <th>0</th>\n",
       "      <td>2.476712</td>\n",
       "      <td>-0.620147</td>\n",
       "      <td>-0.279597</td>\n",
       "    </tr>\n",
       "    <tr>\n",
       "      <th>1</th>\n",
       "      <td>2.476712</td>\n",
       "      <td>-0.620147</td>\n",
       "      <td>-0.279597</td>\n",
       "    </tr>\n",
       "    <tr>\n",
       "      <th>2</th>\n",
       "      <td>0.491187</td>\n",
       "      <td>-1.038638</td>\n",
       "      <td>3.551340</td>\n",
       "    </tr>\n",
       "    <tr>\n",
       "      <th>3</th>\n",
       "      <td>0.491187</td>\n",
       "      <td>-1.038638</td>\n",
       "      <td>5.055221</td>\n",
       "    </tr>\n",
       "    <tr>\n",
       "      <th>4</th>\n",
       "      <td>-0.790075</td>\n",
       "      <td>-1.038638</td>\n",
       "      <td>4.976069</td>\n",
       "    </tr>\n",
       "  </tbody>\n",
       "</table>\n",
       "</div>"
      ],
      "text/plain": [
       "     Cement  Superplasticizer       Age\n",
       "0  2.476712         -0.620147 -0.279597\n",
       "1  2.476712         -0.620147 -0.279597\n",
       "2  0.491187         -1.038638  3.551340\n",
       "3  0.491187         -1.038638  5.055221\n",
       "4 -0.790075         -1.038638  4.976069"
      ]
     },
     "execution_count": 5,
     "metadata": {},
     "output_type": "execute_result"
    }
   ],
   "source": [
    "predictors_norm = (predictors - predictors.mean()) / predictors.std()\n",
    "predictors_norm.head()"
   ]
  },
  {
   "cell_type": "code",
   "execution_count": 6,
   "id": "e49927da",
   "metadata": {
    "execution": {
     "iopub.execute_input": "2022-05-28T08:09:32.550707Z",
     "iopub.status.busy": "2022-05-28T08:09:32.550262Z",
     "iopub.status.idle": "2022-05-28T08:09:33.293107Z",
     "shell.execute_reply": "2022-05-28T08:09:33.291943Z"
    },
    "papermill": {
     "duration": 0.753361,
     "end_time": "2022-05-28T08:09:33.295825",
     "exception": false,
     "start_time": "2022-05-28T08:09:32.542464",
     "status": "completed"
    },
    "tags": []
   },
   "outputs": [
    {
     "data": {
      "text/plain": [
       "<AxesSubplot:>"
      ]
     },
     "execution_count": 6,
     "metadata": {},
     "output_type": "execute_result"
    },
    {
     "data": {
      "image/png": "[encoded data removed]",
      "text/plain": [
       "<Figure size 432x288 with 2 Axes>"
      ]
     },
     "metadata": {
      "needs_background": "light"
     },
     "output_type": "display_data"
    }
   ],
   "source": [
    "sns.heatmap(concrete_data.corr(), annot=True,cmap='Reds')"
   ]
  },
  {
   "cell_type": "code",
   "execution_count": 7,
   "id": "75b6e2c2",
   "metadata": {
    "execution": {
     "iopub.execute_input": "2022-05-28T08:09:33.314279Z",
     "iopub.status.busy": "2022-05-28T08:09:33.313271Z",
     "iopub.status.idle": "2022-05-28T08:09:33.320059Z",
     "shell.execute_reply": "2022-05-28T08:09:33.318893Z"
    },
    "papermill": {
     "duration": 0.01846,
     "end_time": "2022-05-28T08:09:33.322366",
     "exception": false,
     "start_time": "2022-05-28T08:09:33.303906",
     "status": "completed"
    },
    "tags": []
   },
   "outputs": [
    {
     "data": {
      "text/plain": [
       "3"
      ]
     },
     "execution_count": 7,
     "metadata": {},
     "output_type": "execute_result"
    }
   ],
   "source": [
    "n_cols = predictors_norm.shape[1] # number of predictors\n",
    "n_cols"
   ]
  },
  {
   "cell_type": "markdown",
   "id": "03b30f14",
   "metadata": {
    "papermill": {
     "duration": 0.008686,
     "end_time": "2022-05-28T08:09:33.339246",
     "exception": false,
     "start_time": "2022-05-28T08:09:33.330560",
     "status": "completed"
    },
    "tags": []
   },
   "source": [
    "# <p style=\"border-radius:15px;border-style:solid;border-color:#838996;border-width:3px;background-color:#f2f3f4;padding: 20px;font-family:Verdana;color:#D81F26;font-size:30px;text-align: center;\">Build a Neural Network</p>"
   ]
  },
  {
   "cell_type": "markdown",
   "id": "37647f63",
   "metadata": {
    "papermill": {
     "duration": 0.008359,
     "end_time": "2022-05-28T08:09:33.356246",
     "exception": false,
     "start_time": "2022-05-28T08:09:33.347887",
     "status": "completed"
    },
    "tags": []
   },
   "source": [
    "<p style = \"font-size : 15px; color : #D81F26 ; font-family : 'fantasy'; \"><b>\n",
    "--> 3 > MLP (4) > MLP (4)> MLP (4) > MPL(1)\n",
    "<br>\n",
    "--> 3 > MLP (4, relu) > MLP (4, relu)> MLP (4, relu) > MLP(1)\n",
    "<br>\n",
    "--> 3 > Dense(4, relu) > Dense(4, relu)> Dense(4, relu) > Dense(1)\n",
    "<br>\n",
    "--> validation_split=0.25,Active_Function=RelU, optimizer =SGD, loss function=MSE, Metrics=accuracy, epochs=83</b></p>\n"
   ]
  },
  {
   "cell_type": "code",
   "execution_count": 8,
   "id": "568d5b91",
   "metadata": {
    "execution": {
     "iopub.execute_input": "2022-05-28T08:09:33.375552Z",
     "iopub.status.busy": "2022-05-28T08:09:33.375149Z",
     "iopub.status.idle": "2022-05-28T08:09:33.382807Z",
     "shell.execute_reply": "2022-05-28T08:09:33.381613Z"
    },
    "papermill": {
     "duration": 0.019738,
     "end_time": "2022-05-28T08:09:33.385080",
     "exception": false,
     "start_time": "2022-05-28T08:09:33.365342",
     "status": "completed"
    },
    "tags": []
   },
   "outputs": [],
   "source": [
    "# define regression model\n",
    "def create_model():\n",
    "    # create model\n",
    "    model = Sequential()\n",
    "    model.add(Dense(3, activation='relu', input_shape=(n_cols,)))\n",
    "    model.add(Dense(4, activation='relu'))\n",
    "    model.add(Dense(4, activation='relu'))\n",
    "    model.add(Dense(4, activation='relu'))\n",
    "    model.add(Dense(1))\n",
    "    \n",
    "    # compile model\n",
    "    model.compile(optimizer='SGD', loss='mean_squared_error', metrics=['accuracy'])\n",
    "    return model"
   ]
  },
  {
   "cell_type": "code",
   "execution_count": 9,
   "id": "21cf5cd4",
   "metadata": {
    "execution": {
     "iopub.execute_input": "2022-05-28T08:09:33.403963Z",
     "iopub.status.busy": "2022-05-28T08:09:33.403530Z",
     "iopub.status.idle": "2022-05-28T08:09:33.555812Z",
     "shell.execute_reply": "2022-05-28T08:09:33.554662Z"
    },
    "papermill": {
     "duration": 0.164425,
     "end_time": "2022-05-28T08:09:33.558342",
     "exception": false,
     "start_time": "2022-05-28T08:09:33.393917",
     "status": "completed"
    },
    "tags": []
   },
   "outputs": [
    {
     "name": "stderr",
     "output_type": "stream",
     "text": [
      "2022-05-28 08:09:33.447859: I tensorflow/core/common_runtime/process_util.cc:146] Creating new thread pool with default inter op setting: 2. Tune using inter_op_parallelism_threads for best performance.\n"
     ]
    }
   ],
   "source": [
    "model = create_model()"
   ]
  },
  {
   "cell_type": "code",
   "execution_count": 10,
   "id": "c455ab9d",
   "metadata": {
    "execution": {
     "iopub.execute_input": "2022-05-28T08:09:33.576000Z",
     "iopub.status.busy": "2022-05-28T08:09:33.575576Z",
     "iopub.status.idle": "2022-05-28T08:09:34.729865Z",
     "shell.execute_reply": "2022-05-28T08:09:34.728539Z"
    },
    "papermill": {
     "duration": 1.165868,
     "end_time": "2022-05-28T08:09:34.732242",
     "exception": false,
     "start_time": "2022-05-28T08:09:33.566374",
     "status": "completed"
    },
    "tags": []
   },
   "outputs": [
    {
     "data": {
      "image/png": "[encoded data removed]",
      "text/plain": [
       "<IPython.core.display.Image object>"
      ]
     },
     "execution_count": 10,
     "metadata": {},
     "output_type": "execute_result"
    }
   ],
   "source": [
    "plot_model(model, to_file='model_plot.png', show_shapes=True, show_layer_names=True)"
   ]
  },
  {
   "cell_type": "code",
   "execution_count": 11,
   "id": "23ffbcea",
   "metadata": {
    "execution": {
     "iopub.execute_input": "2022-05-28T08:09:34.753405Z",
     "iopub.status.busy": "2022-05-28T08:09:34.752188Z",
     "iopub.status.idle": "2022-05-28T08:09:42.854286Z",
     "shell.execute_reply": "2022-05-28T08:09:42.852796Z"
    },
    "papermill": {
     "duration": 8.115448,
     "end_time": "2022-05-28T08:09:42.856806",
     "exception": false,
     "start_time": "2022-05-28T08:09:34.741358",
     "status": "completed"
    },
    "tags": []
   },
   "outputs": [
    {
     "name": "stderr",
     "output_type": "stream",
     "text": [
      "2022-05-28 08:09:34.855940: I tensorflow/compiler/mlir/mlir_graph_optimization_pass.cc:185] None of the MLIR Optimization Passes are enabled (registered 2)\n"
     ]
    },
    {
     "name": "stdout",
     "output_type": "stream",
     "text": [
      "Epoch 1/83\n",
      "25/25 - 1s - loss: 1449.3977 - accuracy: 0.0000e+00 - val_loss: 555.9510 - val_accuracy: 0.0000e+00\n",
      "Epoch 2/83\n",
      "25/25 - 0s - loss: 692.1170 - accuracy: 0.0000e+00 - val_loss: 271.9703 - val_accuracy: 0.0000e+00\n",
      "Epoch 3/83\n",
      "25/25 - 0s - loss: 456.4830 - accuracy: 0.0000e+00 - val_loss: 185.4587 - val_accuracy: 0.0000e+00\n",
      "Epoch 4/83\n",
      "25/25 - 0s - loss: 368.2619 - accuracy: 0.0000e+00 - val_loss: 163.5997 - val_accuracy: 0.0000e+00\n",
      "Epoch 5/83\n",
      "25/25 - 0s - loss: 334.4605 - accuracy: 0.0000e+00 - val_loss: 162.2315 - val_accuracy: 0.0000e+00\n",
      "Epoch 6/83\n",
      "25/25 - 0s - loss: 321.7927 - accuracy: 0.0000e+00 - val_loss: 166.0011 - val_accuracy: 0.0000e+00\n",
      "Epoch 7/83\n",
      "25/25 - 0s - loss: 316.8450 - accuracy: 0.0000e+00 - val_loss: 169.9951 - val_accuracy: 0.0000e+00\n",
      "Epoch 8/83\n",
      "25/25 - 0s - loss: 314.9055 - accuracy: 0.0000e+00 - val_loss: 172.5898 - val_accuracy: 0.0000e+00\n",
      "Epoch 9/83\n",
      "25/25 - 0s - loss: 314.1807 - accuracy: 0.0000e+00 - val_loss: 174.1714 - val_accuracy: 0.0000e+00\n",
      "Epoch 10/83\n",
      "25/25 - 0s - loss: 313.9870 - accuracy: 0.0000e+00 - val_loss: 175.4023 - val_accuracy: 0.0000e+00\n",
      "Epoch 11/83\n",
      "25/25 - 0s - loss: 313.8027 - accuracy: 0.0000e+00 - val_loss: 176.8217 - val_accuracy: 0.0000e+00\n",
      "Epoch 12/83\n",
      "25/25 - 0s - loss: 313.5984 - accuracy: 0.0000e+00 - val_loss: 176.5986 - val_accuracy: 0.0000e+00\n",
      "Epoch 13/83\n",
      "25/25 - 0s - loss: 313.7354 - accuracy: 0.0000e+00 - val_loss: 176.1272 - val_accuracy: 0.0000e+00\n",
      "Epoch 14/83\n",
      "25/25 - 0s - loss: 313.6806 - accuracy: 0.0000e+00 - val_loss: 178.2589 - val_accuracy: 0.0000e+00\n",
      "Epoch 15/83\n",
      "25/25 - 0s - loss: 313.5539 - accuracy: 0.0000e+00 - val_loss: 180.3484 - val_accuracy: 0.0000e+00\n",
      "Epoch 16/83\n",
      "25/25 - 0s - loss: 313.4924 - accuracy: 0.0000e+00 - val_loss: 179.5196 - val_accuracy: 0.0000e+00\n",
      "Epoch 17/83\n",
      "25/25 - 0s - loss: 313.5130 - accuracy: 0.0000e+00 - val_loss: 182.0242 - val_accuracy: 0.0000e+00\n",
      "Epoch 18/83\n",
      "25/25 - 0s - loss: 313.7383 - accuracy: 0.0000e+00 - val_loss: 181.8690 - val_accuracy: 0.0000e+00\n",
      "Epoch 19/83\n",
      "25/25 - 0s - loss: 313.5029 - accuracy: 0.0000e+00 - val_loss: 180.6817 - val_accuracy: 0.0000e+00\n",
      "Epoch 20/83\n",
      "25/25 - 0s - loss: 313.5370 - accuracy: 0.0000e+00 - val_loss: 180.3367 - val_accuracy: 0.0000e+00\n",
      "Epoch 21/83\n",
      "25/25 - 0s - loss: 313.6073 - accuracy: 0.0000e+00 - val_loss: 180.7178 - val_accuracy: 0.0000e+00\n",
      "Epoch 22/83\n",
      "25/25 - 0s - loss: 313.4960 - accuracy: 0.0000e+00 - val_loss: 179.6687 - val_accuracy: 0.0000e+00\n",
      "Epoch 23/83\n",
      "25/25 - 0s - loss: 313.5108 - accuracy: 0.0000e+00 - val_loss: 179.6905 - val_accuracy: 0.0000e+00\n",
      "Epoch 24/83\n",
      "25/25 - 0s - loss: 313.5433 - accuracy: 0.0000e+00 - val_loss: 180.2140 - val_accuracy: 0.0000e+00\n",
      "Epoch 25/83\n",
      "25/25 - 0s - loss: 313.5126 - accuracy: 0.0000e+00 - val_loss: 180.6497 - val_accuracy: 0.0000e+00\n",
      "Epoch 26/83\n",
      "25/25 - 0s - loss: 313.6053 - accuracy: 0.0000e+00 - val_loss: 182.5901 - val_accuracy: 0.0000e+00\n",
      "Epoch 27/83\n",
      "25/25 - 0s - loss: 313.6512 - accuracy: 0.0000e+00 - val_loss: 179.6157 - val_accuracy: 0.0000e+00\n",
      "Epoch 28/83\n",
      "25/25 - 0s - loss: 313.5440 - accuracy: 0.0000e+00 - val_loss: 180.8020 - val_accuracy: 0.0000e+00\n",
      "Epoch 29/83\n",
      "25/25 - 0s - loss: 313.5672 - accuracy: 0.0000e+00 - val_loss: 178.6693 - val_accuracy: 0.0000e+00\n",
      "Epoch 30/83\n",
      "25/25 - 0s - loss: 313.5574 - accuracy: 0.0000e+00 - val_loss: 177.0972 - val_accuracy: 0.0000e+00\n",
      "Epoch 31/83\n",
      "25/25 - 0s - loss: 313.6598 - accuracy: 0.0000e+00 - val_loss: 180.0557 - val_accuracy: 0.0000e+00\n",
      "Epoch 32/83\n",
      "25/25 - 0s - loss: 313.4891 - accuracy: 0.0000e+00 - val_loss: 177.5571 - val_accuracy: 0.0000e+00\n",
      "Epoch 33/83\n",
      "25/25 - 0s - loss: 313.6175 - accuracy: 0.0000e+00 - val_loss: 177.7979 - val_accuracy: 0.0000e+00\n",
      "Epoch 34/83\n",
      "25/25 - 0s - loss: 313.5218 - accuracy: 0.0000e+00 - val_loss: 180.4731 - val_accuracy: 0.0000e+00\n",
      "Epoch 35/83\n",
      "25/25 - 0s - loss: 313.5965 - accuracy: 0.0000e+00 - val_loss: 178.4515 - val_accuracy: 0.0000e+00\n",
      "Epoch 36/83\n",
      "25/25 - 0s - loss: 313.5815 - accuracy: 0.0000e+00 - val_loss: 177.6174 - val_accuracy: 0.0000e+00\n",
      "Epoch 37/83\n",
      "25/25 - 0s - loss: 313.7091 - accuracy: 0.0000e+00 - val_loss: 177.4658 - val_accuracy: 0.0000e+00\n",
      "Epoch 38/83\n",
      "25/25 - 0s - loss: 313.6364 - accuracy: 0.0000e+00 - val_loss: 178.3222 - val_accuracy: 0.0000e+00\n",
      "Epoch 39/83\n",
      "25/25 - 0s - loss: 313.5657 - accuracy: 0.0000e+00 - val_loss: 178.8519 - val_accuracy: 0.0000e+00\n",
      "Epoch 40/83\n",
      "25/25 - 0s - loss: 313.5885 - accuracy: 0.0000e+00 - val_loss: 178.6095 - val_accuracy: 0.0000e+00\n",
      "Epoch 41/83\n",
      "25/25 - 0s - loss: 313.5836 - accuracy: 0.0000e+00 - val_loss: 180.8124 - val_accuracy: 0.0000e+00\n",
      "Epoch 42/83\n",
      "25/25 - 0s - loss: 313.5377 - accuracy: 0.0000e+00 - val_loss: 181.2221 - val_accuracy: 0.0000e+00\n",
      "Epoch 43/83\n",
      "25/25 - 0s - loss: 313.5258 - accuracy: 0.0000e+00 - val_loss: 181.5348 - val_accuracy: 0.0000e+00\n",
      "Epoch 44/83\n",
      "25/25 - 0s - loss: 313.5182 - accuracy: 0.0000e+00 - val_loss: 183.0876 - val_accuracy: 0.0000e+00\n",
      "Epoch 45/83\n",
      "25/25 - 0s - loss: 313.7432 - accuracy: 0.0000e+00 - val_loss: 181.5051 - val_accuracy: 0.0000e+00\n",
      "Epoch 46/83\n",
      "25/25 - 0s - loss: 313.5413 - accuracy: 0.0000e+00 - val_loss: 180.9375 - val_accuracy: 0.0000e+00\n",
      "Epoch 47/83\n",
      "25/25 - 0s - loss: 313.5236 - accuracy: 0.0000e+00 - val_loss: 179.5567 - val_accuracy: 0.0000e+00\n",
      "Epoch 48/83\n",
      "25/25 - 0s - loss: 313.5306 - accuracy: 0.0000e+00 - val_loss: 178.6121 - val_accuracy: 0.0000e+00\n",
      "Epoch 49/83\n",
      "25/25 - 0s - loss: 313.5095 - accuracy: 0.0000e+00 - val_loss: 180.4996 - val_accuracy: 0.0000e+00\n",
      "Epoch 50/83\n",
      "25/25 - 0s - loss: 313.4955 - accuracy: 0.0000e+00 - val_loss: 179.7574 - val_accuracy: 0.0000e+00\n",
      "Epoch 51/83\n",
      "25/25 - 0s - loss: 313.6550 - accuracy: 0.0000e+00 - val_loss: 180.8697 - val_accuracy: 0.0000e+00\n",
      "Epoch 52/83\n",
      "25/25 - 0s - loss: 313.6150 - accuracy: 0.0000e+00 - val_loss: 183.0294 - val_accuracy: 0.0000e+00\n",
      "Epoch 53/83\n",
      "25/25 - 0s - loss: 313.6681 - accuracy: 0.0000e+00 - val_loss: 180.0978 - val_accuracy: 0.0000e+00\n",
      "Epoch 54/83\n",
      "25/25 - 0s - loss: 313.5693 - accuracy: 0.0000e+00 - val_loss: 179.8710 - val_accuracy: 0.0000e+00\n",
      "Epoch 55/83\n",
      "25/25 - 0s - loss: 313.4984 - accuracy: 0.0000e+00 - val_loss: 179.2032 - val_accuracy: 0.0000e+00\n",
      "Epoch 56/83\n",
      "25/25 - 0s - loss: 313.4734 - accuracy: 0.0000e+00 - val_loss: 178.9503 - val_accuracy: 0.0000e+00\n",
      "Epoch 57/83\n",
      "25/25 - 0s - loss: 313.5106 - accuracy: 0.0000e+00 - val_loss: 177.6134 - val_accuracy: 0.0000e+00\n",
      "Epoch 58/83\n",
      "25/25 - 0s - loss: 313.5717 - accuracy: 0.0000e+00 - val_loss: 179.3894 - val_accuracy: 0.0000e+00\n",
      "Epoch 59/83\n",
      "25/25 - 0s - loss: 313.5348 - accuracy: 0.0000e+00 - val_loss: 179.1051 - val_accuracy: 0.0000e+00\n",
      "Epoch 60/83\n",
      "25/25 - 0s - loss: 313.5517 - accuracy: 0.0000e+00 - val_loss: 180.8852 - val_accuracy: 0.0000e+00\n",
      "Epoch 61/83\n",
      "25/25 - 0s - loss: 313.5592 - accuracy: 0.0000e+00 - val_loss: 180.3237 - val_accuracy: 0.0000e+00\n",
      "Epoch 62/83\n",
      "25/25 - 0s - loss: 313.4703 - accuracy: 0.0000e+00 - val_loss: 179.4492 - val_accuracy: 0.0000e+00\n",
      "Epoch 63/83\n",
      "25/25 - 0s - loss: 313.4916 - accuracy: 0.0000e+00 - val_loss: 179.0980 - val_accuracy: 0.0000e+00\n",
      "Epoch 64/83\n",
      "25/25 - 0s - loss: 313.5980 - accuracy: 0.0000e+00 - val_loss: 178.0180 - val_accuracy: 0.0000e+00\n",
      "Epoch 65/83\n",
      "25/25 - 0s - loss: 313.5378 - accuracy: 0.0000e+00 - val_loss: 177.1736 - val_accuracy: 0.0000e+00\n",
      "Epoch 66/83\n",
      "25/25 - 0s - loss: 313.6815 - accuracy: 0.0000e+00 - val_loss: 178.4111 - val_accuracy: 0.0000e+00\n",
      "Epoch 67/83\n",
      "25/25 - 0s - loss: 313.5284 - accuracy: 0.0000e+00 - val_loss: 178.0265 - val_accuracy: 0.0000e+00\n",
      "Epoch 68/83\n",
      "25/25 - 0s - loss: 313.7350 - accuracy: 0.0000e+00 - val_loss: 177.8640 - val_accuracy: 0.0000e+00\n",
      "Epoch 69/83\n",
      "25/25 - 0s - loss: 313.5599 - accuracy: 0.0000e+00 - val_loss: 178.9774 - val_accuracy: 0.0000e+00\n",
      "Epoch 70/83\n",
      "25/25 - 0s - loss: 313.5714 - accuracy: 0.0000e+00 - val_loss: 179.0357 - val_accuracy: 0.0000e+00\n",
      "Epoch 71/83\n",
      "25/25 - 0s - loss: 313.4965 - accuracy: 0.0000e+00 - val_loss: 178.7441 - val_accuracy: 0.0000e+00\n",
      "Epoch 72/83\n",
      "25/25 - 0s - loss: 313.5733 - accuracy: 0.0000e+00 - val_loss: 178.7749 - val_accuracy: 0.0000e+00\n",
      "Epoch 73/83\n",
      "25/25 - 0s - loss: 313.6861 - accuracy: 0.0000e+00 - val_loss: 178.4391 - val_accuracy: 0.0000e+00\n",
      "Epoch 74/83\n",
      "25/25 - 0s - loss: 313.5028 - accuracy: 0.0000e+00 - val_loss: 180.8686 - val_accuracy: 0.0000e+00\n",
      "Epoch 75/83\n",
      "25/25 - 0s - loss: 313.6285 - accuracy: 0.0000e+00 - val_loss: 180.4792 - val_accuracy: 0.0000e+00\n",
      "Epoch 76/83\n",
      "25/25 - 0s - loss: 313.4814 - accuracy: 0.0000e+00 - val_loss: 176.8484 - val_accuracy: 0.0000e+00\n",
      "Epoch 77/83\n",
      "25/25 - 0s - loss: 313.6262 - accuracy: 0.0000e+00 - val_loss: 177.3367 - val_accuracy: 0.0000e+00\n",
      "Epoch 78/83\n",
      "25/25 - 0s - loss: 313.6572 - accuracy: 0.0000e+00 - val_loss: 177.8589 - val_accuracy: 0.0000e+00\n",
      "Epoch 79/83\n",
      "25/25 - 0s - loss: 313.5521 - accuracy: 0.0000e+00 - val_loss: 178.7946 - val_accuracy: 0.0000e+00\n",
      "Epoch 80/83\n",
      "25/25 - 0s - loss: 313.5551 - accuracy: 0.0000e+00 - val_loss: 179.1400 - val_accuracy: 0.0000e+00\n",
      "Epoch 81/83\n",
      "25/25 - 0s - loss: 313.6075 - accuracy: 0.0000e+00 - val_loss: 179.7282 - val_accuracy: 0.0000e+00\n",
      "Epoch 82/83\n",
      "25/25 - 0s - loss: 313.5519 - accuracy: 0.0000e+00 - val_loss: 179.5856 - val_accuracy: 0.0000e+00\n",
      "Epoch 83/83\n",
      "25/25 - 0s - loss: 313.5435 - accuracy: 0.0000e+00 - val_loss: 177.3041 - val_accuracy: 0.0000e+00\n"
     ]
    }
   ],
   "source": [
    "history = model.fit(predictors_norm, target, validation_split=0.25, epochs=83, verbose=2)"
   ]
  },
  {
   "cell_type": "code",
   "execution_count": 12,
   "id": "1e212cd2",
   "metadata": {
    "execution": {
     "iopub.execute_input": "2022-05-28T08:09:42.899984Z",
     "iopub.status.busy": "2022-05-28T08:09:42.898782Z",
     "iopub.status.idle": "2022-05-28T08:09:42.906942Z",
     "shell.execute_reply": "2022-05-28T08:09:42.905477Z"
    },
    "papermill": {
     "duration": 0.031375,
     "end_time": "2022-05-28T08:09:42.909026",
     "exception": false,
     "start_time": "2022-05-28T08:09:42.877651",
     "status": "completed"
    },
    "tags": []
   },
   "outputs": [
    {
     "data": {
      "text/plain": [
       "dict_keys(['loss', 'accuracy', 'val_loss', 'val_accuracy'])"
      ]
     },
     "execution_count": 12,
     "metadata": {},
     "output_type": "execute_result"
    }
   ],
   "source": [
    "history.history.keys()"
   ]
  },
  {
   "cell_type": "code",
   "execution_count": 13,
   "id": "fb84967f",
   "metadata": {
    "execution": {
     "iopub.execute_input": "2022-05-28T08:09:42.952575Z",
     "iopub.status.busy": "2022-05-28T08:09:42.951450Z",
     "iopub.status.idle": "2022-05-28T08:09:43.184726Z",
     "shell.execute_reply": "2022-05-28T08:09:43.183480Z"
    },
    "papermill": {
     "duration": 0.257155,
     "end_time": "2022-05-28T08:09:43.186880",
     "exception": false,
     "start_time": "2022-05-28T08:09:42.929725",
     "status": "completed"
    },
    "tags": []
   },
   "outputs": [
    {
     "data": {
      "image/png": "[encoded data removed]",
      "text/plain": [
       "<Figure size 432x288 with 1 Axes>"
      ]
     },
     "metadata": {
      "needs_background": "light"
     },
     "output_type": "display_data"
    }
   ],
   "source": [
    "# summarize history for loss\n",
    "plt.plot(history.history['loss'])\n",
    "plt.plot(history.history['val_loss'])\n",
    "plt.title('model loss')\n",
    "plt.ylabel('loss')\n",
    "plt.xlabel('epoch')\n",
    "plt.legend(['train', 'test'], loc='upper left')\n",
    "plt.show()"
   ]
  },
  {
   "cell_type": "code",
   "execution_count": 14,
   "id": "f4bd1497",
   "metadata": {
    "execution": {
     "iopub.execute_input": "2022-05-28T08:09:43.230973Z",
     "iopub.status.busy": "2022-05-28T08:09:43.230319Z",
     "iopub.status.idle": "2022-05-28T08:09:43.235026Z",
     "shell.execute_reply": "2022-05-28T08:09:43.234301Z"
    },
    "papermill": {
     "duration": 0.028988,
     "end_time": "2022-05-28T08:09:43.237028",
     "exception": false,
     "start_time": "2022-05-28T08:09:43.208040",
     "status": "completed"
    },
    "tags": []
   },
   "outputs": [],
   "source": [
    "def pred(features):\n",
    "    featurs_norm = (features - features.mean()) / features.std()\n",
    "    prediction = model.predict(featurs_norm)\n",
    "    return prediction\n"
   ]
  },
  {
   "cell_type": "code",
   "execution_count": 15,
   "id": "687f4f6b",
   "metadata": {
    "execution": {
     "iopub.execute_input": "2022-05-28T08:09:43.279693Z",
     "iopub.status.busy": "2022-05-28T08:09:43.278887Z",
     "iopub.status.idle": "2022-05-28T08:09:43.442174Z",
     "shell.execute_reply": "2022-05-28T08:09:43.440580Z"
    },
    "papermill": {
     "duration": 0.187887,
     "end_time": "2022-05-28T08:09:43.445429",
     "exception": false,
     "start_time": "2022-05-28T08:09:43.257542",
     "status": "completed"
    },
    "tags": []
   },
   "outputs": [
    {
     "name": "stdout",
     "output_type": "stream",
     "text": [
      "[[36.566383]]\n"
     ]
    }
   ],
   "source": [
    "sample_to_predict = np.array([[540.0, 2.5, 28]]) # 79.99\n",
    "predicted = pred(sample_to_predict)\n",
    "print(predicted)"
   ]
  },
  {
   "cell_type": "markdown",
   "id": "41524c64",
   "metadata": {
    "papermill": {
     "duration": 0.020036,
     "end_time": "2022-05-28T08:09:43.486176",
     "exception": false,
     "start_time": "2022-05-28T08:09:43.466140",
     "status": "completed"
    },
    "tags": []
   },
   "source": [
    "# <p style=\"padding: 20px;font-family:Verdana;color:#D81F26;font-size:30px;text-align: center;\">Finished!</p>"
   ]
  }
 ],
 "metadata": {
  "kernelspec": {
   "display_name": "Python 3",
   "language": "python",
   "name": "python3"
  },
  "language_info": {
   "codemirror_mode": {
    "name": "ipython",
    "version": 3
   },
   "file_extension": ".py",
   "mimetype": "text/x-python",
   "name": "python",
   "nbconvert_exporter": "python",
   "pygments_lexer": "ipython3",
   "version": "3.7.12"
  },
  "papermill": {
   "default_parameters": {},
   "duration": 33.22512,
   "end_time": "2022-05-28T08:09:46.879842",
   "environment_variables": {},
   "exception": null,
   "input_path": "__notebook__.ipynb",
   "output_path": "__notebook__.ipynb",
   "parameters": {},
   "start_time": "2022-05-28T08:09:13.654722",
   "version": "2.3.4"
  }
 },
 "nbformat": 4,
 "nbformat_minor": 5
}
