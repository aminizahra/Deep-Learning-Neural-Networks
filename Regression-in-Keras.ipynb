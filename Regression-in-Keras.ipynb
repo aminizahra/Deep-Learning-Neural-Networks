{
 "cells": [
  {
   "cell_type": "markdown",
   "id": "fe735b8c",
   "metadata": {
    "papermill": {
     "duration": 0.082422,
     "end_time": "2022-04-24T14:32:01.353913",
     "exception": false,
     "start_time": "2022-04-24T14:32:01.271491",
     "status": "completed"
    },
    "tags": []
   },
   "source": [
    "# Build a Regression Model in Keras"
   ]
  },
  {
   "cell_type": "markdown",
   "id": "dcd75b1f",
   "metadata": {
    "papermill": {
     "duration": 0.080264,
     "end_time": "2022-04-24T14:32:01.513897",
     "exception": false,
     "start_time": "2022-04-24T14:32:01.433633",
     "status": "completed"
    },
    "tags": []
   },
   "source": [
    "**A. Build a baseline model**\n",
    "\n",
    "Use the Keras library to build a neural network with the following:\n",
    "\n",
    "- One hidden layer of 10 nodes, and a ReLU activation function\n",
    "\n",
    "- Use the adam optimizer and the mean squared error  as the loss function.\n",
    "\n",
    "1. Randomly split the data into a training and test sets by holding 30% of the data for testing. You can use the train_test_splithelper function from Scikit-learn.\n",
    "\n",
    "2. Train the model on the training data using 50 epochs.\n",
    "\n",
    "3. Evaluate the model on the test data and compute the mean squared error between the predicted concrete strength and the actual concrete strength. You can use the mean_squared_error function from Scikit-learn.\n",
    "\n",
    "4. Repeat steps 1 - 3, 50 times, i.e., create a list of 50 mean squared errors.\n",
    "\n",
    "5. Report the mean and the standard deviation of the mean squared errors."
   ]
  },
  {
   "cell_type": "code",
   "execution_count": 1,
   "id": "c7464ab8",
   "metadata": {
    "_cell_guid": "b1076dfc-b9ad-4769-8c92-a6c4dae69d19",
    "_uuid": "8f2839f25d086af736a60e9eeb907d3b93b6e0e5",
    "execution": {
     "iopub.execute_input": "2022-04-24T14:32:01.675777Z",
     "iopub.status.busy": "2022-04-24T14:32:01.675201Z",
     "iopub.status.idle": "2022-04-24T14:32:02.919396Z",
     "shell.execute_reply": "2022-04-24T14:32:02.918318Z"
    },
    "papermill": {
     "duration": 1.328518,
     "end_time": "2022-04-24T14:32:02.921889",
     "exception": false,
     "start_time": "2022-04-24T14:32:01.593371",
     "status": "completed"
    },
    "tags": []
   },
   "outputs": [],
   "source": [
    "import numpy as np\n",
    "import pandas as pd\n",
    "\n",
    "import matplotlib.pyplot as plt\n",
    "\n",
    "from sklearn.model_selection import train_test_split"
   ]
  },
  {
   "cell_type": "code",
   "execution_count": 2,
   "id": "97da96ce",
   "metadata": {
    "execution": {
     "iopub.execute_input": "2022-04-24T14:32:03.082866Z",
     "iopub.status.busy": "2022-04-24T14:32:03.082583Z",
     "iopub.status.idle": "2022-04-24T14:32:10.407109Z",
     "shell.execute_reply": "2022-04-24T14:32:10.405602Z"
    },
    "papermill": {
     "duration": 7.407566,
     "end_time": "2022-04-24T14:32:10.410085",
     "exception": false,
     "start_time": "2022-04-24T14:32:03.002519",
     "status": "completed"
    },
    "tags": []
   },
   "outputs": [],
   "source": [
    "import keras\n",
    "from keras.models import Sequential\n",
    "from keras.layers import Dense\n",
    "# from keras.utils import to_categorical\n",
    "from tensorflow.keras.utils import to_categorical"
   ]
  },
  {
   "cell_type": "code",
   "execution_count": 3,
   "id": "7d08aed6",
   "metadata": {
    "execution": {
     "iopub.execute_input": "2022-04-24T14:32:10.574266Z",
     "iopub.status.busy": "2022-04-24T14:32:10.573962Z",
     "iopub.status.idle": "2022-04-24T14:32:10.581464Z",
     "shell.execute_reply": "2022-04-24T14:32:10.580838Z"
    },
    "papermill": {
     "duration": 0.091367,
     "end_time": "2022-04-24T14:32:10.583660",
     "exception": false,
     "start_time": "2022-04-24T14:32:10.492293",
     "status": "completed"
    },
    "tags": []
   },
   "outputs": [],
   "source": [
    "from keras.wrappers.scikit_learn import KerasRegressor\n",
    "from sklearn.model_selection import cross_val_score\n",
    "from sklearn.model_selection import KFold\n",
    "from sklearn.preprocessing import StandardScaler\n",
    "from sklearn.pipeline import Pipeline"
   ]
  },
  {
   "cell_type": "code",
   "execution_count": 4,
   "id": "8eafbf83",
   "metadata": {
    "execution": {
     "iopub.execute_input": "2022-04-24T14:32:10.744746Z",
     "iopub.status.busy": "2022-04-24T14:32:10.744220Z",
     "iopub.status.idle": "2022-04-24T14:32:10.749486Z",
     "shell.execute_reply": "2022-04-24T14:32:10.747713Z"
    },
    "papermill": {
     "duration": 0.088136,
     "end_time": "2022-04-24T14:32:10.751787",
     "exception": false,
     "start_time": "2022-04-24T14:32:10.663651",
     "status": "completed"
    },
    "tags": []
   },
   "outputs": [],
   "source": [
    "from sklearn.metrics import mean_squared_error"
   ]
  },
  {
   "cell_type": "markdown",
   "id": "c5247682",
   "metadata": {
    "papermill": {
     "duration": 0.079394,
     "end_time": "2022-04-24T14:32:10.910773",
     "exception": false,
     "start_time": "2022-04-24T14:32:10.831379",
     "status": "completed"
    },
    "tags": []
   },
   "source": [
    "# Import DATA"
   ]
  },
  {
   "cell_type": "code",
   "execution_count": 5,
   "id": "d59eec2c",
   "metadata": {
    "execution": {
     "iopub.execute_input": "2022-04-24T14:32:11.072070Z",
     "iopub.status.busy": "2022-04-24T14:32:11.071804Z",
     "iopub.status.idle": "2022-04-24T14:32:11.097863Z",
     "shell.execute_reply": "2022-04-24T14:32:11.097300Z"
    },
    "papermill": {
     "duration": 0.108964,
     "end_time": "2022-04-24T14:32:11.100139",
     "exception": false,
     "start_time": "2022-04-24T14:32:10.991175",
     "status": "completed"
    },
    "tags": []
   },
   "outputs": [],
   "source": [
    "data = pd.read_csv('../input/concrete-data/concrete_data.csv')"
   ]
  },
  {
   "cell_type": "code",
   "execution_count": 6,
   "id": "7816e1ce",
   "metadata": {
    "execution": {
     "iopub.execute_input": "2022-04-24T14:32:11.269411Z",
     "iopub.status.busy": "2022-04-24T14:32:11.268695Z",
     "iopub.status.idle": "2022-04-24T14:32:11.295105Z",
     "shell.execute_reply": "2022-04-24T14:32:11.294458Z"
    },
    "papermill": {
     "duration": 0.117953,
     "end_time": "2022-04-24T14:32:11.298148",
     "exception": false,
     "start_time": "2022-04-24T14:32:11.180195",
     "status": "completed"
    },
    "tags": []
   },
   "outputs": [
    {
     "data": {
      "text/html": [
       "<div>\n",
       "<style scoped>\n",
       "    .dataframe tbody tr th:only-of-type {\n",
       "        vertical-align: middle;\n",
       "    }\n",
       "\n",
       "    .dataframe tbody tr th {\n",
       "        vertical-align: top;\n",
       "    }\n",
       "\n",
       "    .dataframe thead th {\n",
       "        text-align: right;\n",
       "    }\n",
       "</style>\n",
       "<table border=\"1\" class=\"dataframe\">\n",
       "  <thead>\n",
       "    <tr style=\"text-align: right;\">\n",
       "      <th></th>\n",
       "      <th>Cement</th>\n",
       "      <th>Blast Furnace Slag</th>\n",
       "      <th>Fly Ash</th>\n",
       "      <th>Water</th>\n",
       "      <th>Superplasticizer</th>\n",
       "      <th>Coarse Aggregate</th>\n",
       "      <th>Fine Aggregate</th>\n",
       "      <th>Age</th>\n",
       "      <th>Strength</th>\n",
       "    </tr>\n",
       "  </thead>\n",
       "  <tbody>\n",
       "    <tr>\n",
       "      <th>0</th>\n",
       "      <td>540.0</td>\n",
       "      <td>0.0</td>\n",
       "      <td>0.0</td>\n",
       "      <td>162.0</td>\n",
       "      <td>2.5</td>\n",
       "      <td>1040.0</td>\n",
       "      <td>676.0</td>\n",
       "      <td>28</td>\n",
       "      <td>79.99</td>\n",
       "    </tr>\n",
       "    <tr>\n",
       "      <th>1</th>\n",
       "      <td>540.0</td>\n",
       "      <td>0.0</td>\n",
       "      <td>0.0</td>\n",
       "      <td>162.0</td>\n",
       "      <td>2.5</td>\n",
       "      <td>1055.0</td>\n",
       "      <td>676.0</td>\n",
       "      <td>28</td>\n",
       "      <td>61.89</td>\n",
       "    </tr>\n",
       "    <tr>\n",
       "      <th>2</th>\n",
       "      <td>332.5</td>\n",
       "      <td>142.5</td>\n",
       "      <td>0.0</td>\n",
       "      <td>228.0</td>\n",
       "      <td>0.0</td>\n",
       "      <td>932.0</td>\n",
       "      <td>594.0</td>\n",
       "      <td>270</td>\n",
       "      <td>40.27</td>\n",
       "    </tr>\n",
       "    <tr>\n",
       "      <th>3</th>\n",
       "      <td>332.5</td>\n",
       "      <td>142.5</td>\n",
       "      <td>0.0</td>\n",
       "      <td>228.0</td>\n",
       "      <td>0.0</td>\n",
       "      <td>932.0</td>\n",
       "      <td>594.0</td>\n",
       "      <td>365</td>\n",
       "      <td>41.05</td>\n",
       "    </tr>\n",
       "    <tr>\n",
       "      <th>4</th>\n",
       "      <td>198.6</td>\n",
       "      <td>132.4</td>\n",
       "      <td>0.0</td>\n",
       "      <td>192.0</td>\n",
       "      <td>0.0</td>\n",
       "      <td>978.4</td>\n",
       "      <td>825.5</td>\n",
       "      <td>360</td>\n",
       "      <td>44.30</td>\n",
       "    </tr>\n",
       "  </tbody>\n",
       "</table>\n",
       "</div>"
      ],
      "text/plain": [
       "   Cement  Blast Furnace Slag  Fly Ash  Water  Superplasticizer  \\\n",
       "0   540.0                 0.0      0.0  162.0               2.5   \n",
       "1   540.0                 0.0      0.0  162.0               2.5   \n",
       "2   332.5               142.5      0.0  228.0               0.0   \n",
       "3   332.5               142.5      0.0  228.0               0.0   \n",
       "4   198.6               132.4      0.0  192.0               0.0   \n",
       "\n",
       "   Coarse Aggregate  Fine Aggregate  Age  Strength  \n",
       "0            1040.0           676.0   28     79.99  \n",
       "1            1055.0           676.0   28     61.89  \n",
       "2             932.0           594.0  270     40.27  \n",
       "3             932.0           594.0  365     41.05  \n",
       "4             978.4           825.5  360     44.30  "
      ]
     },
     "execution_count": 6,
     "metadata": {},
     "output_type": "execute_result"
    }
   ],
   "source": [
    "data.head()"
   ]
  },
  {
   "cell_type": "markdown",
   "id": "2f0c099a",
   "metadata": {
    "papermill": {
     "duration": 0.08778,
     "end_time": "2022-04-24T14:32:11.475493",
     "exception": false,
     "start_time": "2022-04-24T14:32:11.387713",
     "status": "completed"
    },
    "tags": []
   },
   "source": [
    "# X and y arrays"
   ]
  },
  {
   "cell_type": "code",
   "execution_count": 7,
   "id": "22d89ce1",
   "metadata": {
    "execution": {
     "iopub.execute_input": "2022-04-24T14:32:11.645614Z",
     "iopub.status.busy": "2022-04-24T14:32:11.645333Z",
     "iopub.status.idle": "2022-04-24T14:32:11.658972Z",
     "shell.execute_reply": "2022-04-24T14:32:11.658395Z"
    },
    "papermill": {
     "duration": 0.103868,
     "end_time": "2022-04-24T14:32:11.661338",
     "exception": false,
     "start_time": "2022-04-24T14:32:11.557470",
     "status": "completed"
    },
    "tags": []
   },
   "outputs": [],
   "source": [
    "X = data.drop(['Strength'], axis=1)\n",
    "y = data[['Strength']]"
   ]
  },
  {
   "cell_type": "code",
   "execution_count": 8,
   "id": "0fde165a",
   "metadata": {
    "execution": {
     "iopub.execute_input": "2022-04-24T14:32:11.835409Z",
     "iopub.status.busy": "2022-04-24T14:32:11.835030Z",
     "iopub.status.idle": "2022-04-24T14:32:11.856874Z",
     "shell.execute_reply": "2022-04-24T14:32:11.856113Z"
    },
    "papermill": {
     "duration": 0.10513,
     "end_time": "2022-04-24T14:32:11.858455",
     "exception": false,
     "start_time": "2022-04-24T14:32:11.753325",
     "status": "completed"
    },
    "tags": []
   },
   "outputs": [
    {
     "data": {
      "text/html": [
       "<div>\n",
       "<style scoped>\n",
       "    .dataframe tbody tr th:only-of-type {\n",
       "        vertical-align: middle;\n",
       "    }\n",
       "\n",
       "    .dataframe tbody tr th {\n",
       "        vertical-align: top;\n",
       "    }\n",
       "\n",
       "    .dataframe thead th {\n",
       "        text-align: right;\n",
       "    }\n",
       "</style>\n",
       "<table border=\"1\" class=\"dataframe\">\n",
       "  <thead>\n",
       "    <tr style=\"text-align: right;\">\n",
       "      <th></th>\n",
       "      <th>Cement</th>\n",
       "      <th>Blast Furnace Slag</th>\n",
       "      <th>Fly Ash</th>\n",
       "      <th>Water</th>\n",
       "      <th>Superplasticizer</th>\n",
       "      <th>Coarse Aggregate</th>\n",
       "      <th>Fine Aggregate</th>\n",
       "      <th>Age</th>\n",
       "    </tr>\n",
       "  </thead>\n",
       "  <tbody>\n",
       "    <tr>\n",
       "      <th>0</th>\n",
       "      <td>540.0</td>\n",
       "      <td>0.0</td>\n",
       "      <td>0.0</td>\n",
       "      <td>162.0</td>\n",
       "      <td>2.5</td>\n",
       "      <td>1040.0</td>\n",
       "      <td>676.0</td>\n",
       "      <td>28</td>\n",
       "    </tr>\n",
       "    <tr>\n",
       "      <th>1</th>\n",
       "      <td>540.0</td>\n",
       "      <td>0.0</td>\n",
       "      <td>0.0</td>\n",
       "      <td>162.0</td>\n",
       "      <td>2.5</td>\n",
       "      <td>1055.0</td>\n",
       "      <td>676.0</td>\n",
       "      <td>28</td>\n",
       "    </tr>\n",
       "    <tr>\n",
       "      <th>2</th>\n",
       "      <td>332.5</td>\n",
       "      <td>142.5</td>\n",
       "      <td>0.0</td>\n",
       "      <td>228.0</td>\n",
       "      <td>0.0</td>\n",
       "      <td>932.0</td>\n",
       "      <td>594.0</td>\n",
       "      <td>270</td>\n",
       "    </tr>\n",
       "    <tr>\n",
       "      <th>3</th>\n",
       "      <td>332.5</td>\n",
       "      <td>142.5</td>\n",
       "      <td>0.0</td>\n",
       "      <td>228.0</td>\n",
       "      <td>0.0</td>\n",
       "      <td>932.0</td>\n",
       "      <td>594.0</td>\n",
       "      <td>365</td>\n",
       "    </tr>\n",
       "    <tr>\n",
       "      <th>4</th>\n",
       "      <td>198.6</td>\n",
       "      <td>132.4</td>\n",
       "      <td>0.0</td>\n",
       "      <td>192.0</td>\n",
       "      <td>0.0</td>\n",
       "      <td>978.4</td>\n",
       "      <td>825.5</td>\n",
       "      <td>360</td>\n",
       "    </tr>\n",
       "    <tr>\n",
       "      <th>...</th>\n",
       "      <td>...</td>\n",
       "      <td>...</td>\n",
       "      <td>...</td>\n",
       "      <td>...</td>\n",
       "      <td>...</td>\n",
       "      <td>...</td>\n",
       "      <td>...</td>\n",
       "      <td>...</td>\n",
       "    </tr>\n",
       "    <tr>\n",
       "      <th>1025</th>\n",
       "      <td>276.4</td>\n",
       "      <td>116.0</td>\n",
       "      <td>90.3</td>\n",
       "      <td>179.6</td>\n",
       "      <td>8.9</td>\n",
       "      <td>870.1</td>\n",
       "      <td>768.3</td>\n",
       "      <td>28</td>\n",
       "    </tr>\n",
       "    <tr>\n",
       "      <th>1026</th>\n",
       "      <td>322.2</td>\n",
       "      <td>0.0</td>\n",
       "      <td>115.6</td>\n",
       "      <td>196.0</td>\n",
       "      <td>10.4</td>\n",
       "      <td>817.9</td>\n",
       "      <td>813.4</td>\n",
       "      <td>28</td>\n",
       "    </tr>\n",
       "    <tr>\n",
       "      <th>1027</th>\n",
       "      <td>148.5</td>\n",
       "      <td>139.4</td>\n",
       "      <td>108.6</td>\n",
       "      <td>192.7</td>\n",
       "      <td>6.1</td>\n",
       "      <td>892.4</td>\n",
       "      <td>780.0</td>\n",
       "      <td>28</td>\n",
       "    </tr>\n",
       "    <tr>\n",
       "      <th>1028</th>\n",
       "      <td>159.1</td>\n",
       "      <td>186.7</td>\n",
       "      <td>0.0</td>\n",
       "      <td>175.6</td>\n",
       "      <td>11.3</td>\n",
       "      <td>989.6</td>\n",
       "      <td>788.9</td>\n",
       "      <td>28</td>\n",
       "    </tr>\n",
       "    <tr>\n",
       "      <th>1029</th>\n",
       "      <td>260.9</td>\n",
       "      <td>100.5</td>\n",
       "      <td>78.3</td>\n",
       "      <td>200.6</td>\n",
       "      <td>8.6</td>\n",
       "      <td>864.5</td>\n",
       "      <td>761.5</td>\n",
       "      <td>28</td>\n",
       "    </tr>\n",
       "  </tbody>\n",
       "</table>\n",
       "<p>1030 rows × 8 columns</p>\n",
       "</div>"
      ],
      "text/plain": [
       "      Cement  Blast Furnace Slag  Fly Ash  Water  Superplasticizer  \\\n",
       "0      540.0                 0.0      0.0  162.0               2.5   \n",
       "1      540.0                 0.0      0.0  162.0               2.5   \n",
       "2      332.5               142.5      0.0  228.0               0.0   \n",
       "3      332.5               142.5      0.0  228.0               0.0   \n",
       "4      198.6               132.4      0.0  192.0               0.0   \n",
       "...      ...                 ...      ...    ...               ...   \n",
       "1025   276.4               116.0     90.3  179.6               8.9   \n",
       "1026   322.2                 0.0    115.6  196.0              10.4   \n",
       "1027   148.5               139.4    108.6  192.7               6.1   \n",
       "1028   159.1               186.7      0.0  175.6              11.3   \n",
       "1029   260.9               100.5     78.3  200.6               8.6   \n",
       "\n",
       "      Coarse Aggregate  Fine Aggregate  Age  \n",
       "0               1040.0           676.0   28  \n",
       "1               1055.0           676.0   28  \n",
       "2                932.0           594.0  270  \n",
       "3                932.0           594.0  365  \n",
       "4                978.4           825.5  360  \n",
       "...                ...             ...  ...  \n",
       "1025             870.1           768.3   28  \n",
       "1026             817.9           813.4   28  \n",
       "1027             892.4           780.0   28  \n",
       "1028             989.6           788.9   28  \n",
       "1029             864.5           761.5   28  \n",
       "\n",
       "[1030 rows x 8 columns]"
      ]
     },
     "execution_count": 8,
     "metadata": {},
     "output_type": "execute_result"
    }
   ],
   "source": [
    "X"
   ]
  },
  {
   "cell_type": "code",
   "execution_count": 9,
   "id": "2fc3359e",
   "metadata": {
    "execution": {
     "iopub.execute_input": "2022-04-24T14:32:11.967901Z",
     "iopub.status.busy": "2022-04-24T14:32:11.967678Z",
     "iopub.status.idle": "2022-04-24T14:32:11.977034Z",
     "shell.execute_reply": "2022-04-24T14:32:11.975917Z"
    },
    "papermill": {
     "duration": 0.067584,
     "end_time": "2022-04-24T14:32:11.979166",
     "exception": false,
     "start_time": "2022-04-24T14:32:11.911582",
     "status": "completed"
    },
    "tags": []
   },
   "outputs": [
    {
     "data": {
      "text/html": [
       "<div>\n",
       "<style scoped>\n",
       "    .dataframe tbody tr th:only-of-type {\n",
       "        vertical-align: middle;\n",
       "    }\n",
       "\n",
       "    .dataframe tbody tr th {\n",
       "        vertical-align: top;\n",
       "    }\n",
       "\n",
       "    .dataframe thead th {\n",
       "        text-align: right;\n",
       "    }\n",
       "</style>\n",
       "<table border=\"1\" class=\"dataframe\">\n",
       "  <thead>\n",
       "    <tr style=\"text-align: right;\">\n",
       "      <th></th>\n",
       "      <th>Strength</th>\n",
       "    </tr>\n",
       "  </thead>\n",
       "  <tbody>\n",
       "    <tr>\n",
       "      <th>0</th>\n",
       "      <td>79.99</td>\n",
       "    </tr>\n",
       "    <tr>\n",
       "      <th>1</th>\n",
       "      <td>61.89</td>\n",
       "    </tr>\n",
       "    <tr>\n",
       "      <th>2</th>\n",
       "      <td>40.27</td>\n",
       "    </tr>\n",
       "    <tr>\n",
       "      <th>3</th>\n",
       "      <td>41.05</td>\n",
       "    </tr>\n",
       "    <tr>\n",
       "      <th>4</th>\n",
       "      <td>44.30</td>\n",
       "    </tr>\n",
       "    <tr>\n",
       "      <th>...</th>\n",
       "      <td>...</td>\n",
       "    </tr>\n",
       "    <tr>\n",
       "      <th>1025</th>\n",
       "      <td>44.28</td>\n",
       "    </tr>\n",
       "    <tr>\n",
       "      <th>1026</th>\n",
       "      <td>31.18</td>\n",
       "    </tr>\n",
       "    <tr>\n",
       "      <th>1027</th>\n",
       "      <td>23.70</td>\n",
       "    </tr>\n",
       "    <tr>\n",
       "      <th>1028</th>\n",
       "      <td>32.77</td>\n",
       "    </tr>\n",
       "    <tr>\n",
       "      <th>1029</th>\n",
       "      <td>32.40</td>\n",
       "    </tr>\n",
       "  </tbody>\n",
       "</table>\n",
       "<p>1030 rows × 1 columns</p>\n",
       "</div>"
      ],
      "text/plain": [
       "      Strength\n",
       "0        79.99\n",
       "1        61.89\n",
       "2        40.27\n",
       "3        41.05\n",
       "4        44.30\n",
       "...        ...\n",
       "1025     44.28\n",
       "1026     31.18\n",
       "1027     23.70\n",
       "1028     32.77\n",
       "1029     32.40\n",
       "\n",
       "[1030 rows x 1 columns]"
      ]
     },
     "execution_count": 9,
     "metadata": {},
     "output_type": "execute_result"
    }
   ],
   "source": [
    "y"
   ]
  },
  {
   "cell_type": "code",
   "execution_count": 10,
   "id": "4c6d6fbc",
   "metadata": {
    "execution": {
     "iopub.execute_input": "2022-04-24T14:32:12.087935Z",
     "iopub.status.busy": "2022-04-24T14:32:12.086702Z",
     "iopub.status.idle": "2022-04-24T14:32:12.093663Z",
     "shell.execute_reply": "2022-04-24T14:32:12.092803Z"
    },
    "papermill": {
     "duration": 0.063271,
     "end_time": "2022-04-24T14:32:12.095804",
     "exception": false,
     "start_time": "2022-04-24T14:32:12.032533",
     "status": "completed"
    },
    "tags": []
   },
   "outputs": [],
   "source": [
    "X_train, X_test, y_train, y_test = train_test_split(X, y, test_size=0.3, random_state=42)"
   ]
  },
  {
   "cell_type": "markdown",
   "id": "ea0b0d97",
   "metadata": {
    "papermill": {
     "duration": 0.053618,
     "end_time": "2022-04-24T14:32:12.203143",
     "exception": false,
     "start_time": "2022-04-24T14:32:12.149525",
     "status": "completed"
    },
    "tags": []
   },
   "source": [
    "# A. Model"
   ]
  },
  {
   "cell_type": "code",
   "execution_count": 11,
   "id": "55456b88",
   "metadata": {
    "execution": {
     "iopub.execute_input": "2022-04-24T14:32:12.311725Z",
     "iopub.status.busy": "2022-04-24T14:32:12.311355Z",
     "iopub.status.idle": "2022-04-24T14:32:12.316536Z",
     "shell.execute_reply": "2022-04-24T14:32:12.315488Z"
    },
    "papermill": {
     "duration": 0.062697,
     "end_time": "2022-04-24T14:32:12.319127",
     "exception": false,
     "start_time": "2022-04-24T14:32:12.256430",
     "status": "completed"
    },
    "tags": []
   },
   "outputs": [
    {
     "data": {
      "text/plain": [
       "(721, 8)"
      ]
     },
     "execution_count": 11,
     "metadata": {},
     "output_type": "execute_result"
    }
   ],
   "source": [
    "X_train.shape"
   ]
  },
  {
   "cell_type": "code",
   "execution_count": 12,
   "id": "da0dc02b",
   "metadata": {
    "execution": {
     "iopub.execute_input": "2022-04-24T14:32:12.486521Z",
     "iopub.status.busy": "2022-04-24T14:32:12.486202Z",
     "iopub.status.idle": "2022-04-24T14:32:12.492391Z",
     "shell.execute_reply": "2022-04-24T14:32:12.491150Z"
    },
    "papermill": {
     "duration": 0.093231,
     "end_time": "2022-04-24T14:32:12.495286",
     "exception": false,
     "start_time": "2022-04-24T14:32:12.402055",
     "status": "completed"
    },
    "tags": []
   },
   "outputs": [],
   "source": [
    "def regression_model():\n",
    "    # create model\n",
    "    model = Sequential()\n",
    "    model.add(Dense(10, input_dim=8, activation='relu'))\n",
    "    model.add(Dense(1, kernel_initializer='normal'))\n",
    "    # Compile model\n",
    "    model.compile(loss='mean_squared_error', optimizer='adam')\n",
    "    return model"
   ]
  },
  {
   "cell_type": "code",
   "execution_count": 13,
   "id": "4d4e744e",
   "metadata": {
    "execution": {
     "iopub.execute_input": "2022-04-24T14:32:12.664491Z",
     "iopub.status.busy": "2022-04-24T14:32:12.664144Z",
     "iopub.status.idle": "2022-04-24T14:32:12.789111Z",
     "shell.execute_reply": "2022-04-24T14:32:12.788028Z"
    },
    "papermill": {
     "duration": 0.212667,
     "end_time": "2022-04-24T14:32:12.791832",
     "exception": false,
     "start_time": "2022-04-24T14:32:12.579165",
     "status": "completed"
    },
    "tags": []
   },
   "outputs": [
    {
     "name": "stderr",
     "output_type": "stream",
     "text": [
      "2022-04-24 14:32:12.700594: I tensorflow/core/common_runtime/process_util.cc:146] Creating new thread pool with default inter op setting: 2. Tune using inter_op_parallelism_threads for best performance.\n"
     ]
    }
   ],
   "source": [
    "model = regression_model()"
   ]
  },
  {
   "cell_type": "code",
   "execution_count": 14,
   "id": "77108a13",
   "metadata": {
    "_kg_hide-output": true,
    "execution": {
     "iopub.execute_input": "2022-04-24T14:32:12.956063Z",
     "iopub.status.busy": "2022-04-24T14:32:12.955414Z",
     "iopub.status.idle": "2022-04-24T14:32:15.863578Z",
     "shell.execute_reply": "2022-04-24T14:32:15.862128Z"
    },
    "papermill": {
     "duration": 2.991514,
     "end_time": "2022-04-24T14:32:15.865980",
     "exception": false,
     "start_time": "2022-04-24T14:32:12.874466",
     "status": "completed"
    },
    "tags": []
   },
   "outputs": [
    {
     "name": "stderr",
     "output_type": "stream",
     "text": [
      "2022-04-24 14:32:13.046411: I tensorflow/compiler/mlir/mlir_graph_optimization_pass.cc:185] None of the MLIR Optimization Passes are enabled (registered 2)\n"
     ]
    },
    {
     "name": "stdout",
     "output_type": "stream",
     "text": [
      "Epoch 1/50\n",
      "23/23 [==============================] - 1s 2ms/step - loss: 575.4930\n",
      "Epoch 2/50\n",
      "23/23 [==============================] - 0s 2ms/step - loss: 344.0790\n",
      "Epoch 3/50\n",
      "23/23 [==============================] - 0s 2ms/step - loss: 313.8324\n",
      "Epoch 4/50\n",
      "23/23 [==============================] - 0s 2ms/step - loss: 293.5647\n",
      "Epoch 5/50\n",
      "23/23 [==============================] - 0s 2ms/step - loss: 275.7835\n",
      "Epoch 6/50\n",
      "23/23 [==============================] - 0s 2ms/step - loss: 258.7124\n",
      "Epoch 7/50\n",
      "23/23 [==============================] - 0s 2ms/step - loss: 241.3590\n",
      "Epoch 8/50\n",
      "23/23 [==============================] - 0s 2ms/step - loss: 229.8133\n",
      "Epoch 9/50\n",
      "23/23 [==============================] - 0s 2ms/step - loss: 217.4682\n",
      "Epoch 10/50\n",
      "23/23 [==============================] - 0s 2ms/step - loss: 204.1930\n",
      "Epoch 11/50\n",
      "23/23 [==============================] - 0s 2ms/step - loss: 194.6517\n",
      "Epoch 12/50\n",
      "23/23 [==============================] - 0s 2ms/step - loss: 186.1534\n",
      "Epoch 13/50\n",
      "23/23 [==============================] - 0s 1ms/step - loss: 178.4982\n",
      "Epoch 14/50\n",
      "23/23 [==============================] - 0s 2ms/step - loss: 173.1092\n",
      "Epoch 15/50\n",
      "23/23 [==============================] - 0s 2ms/step - loss: 166.5286\n",
      "Epoch 16/50\n",
      "23/23 [==============================] - 0s 2ms/step - loss: 163.2886\n",
      "Epoch 17/50\n",
      "23/23 [==============================] - 0s 2ms/step - loss: 159.0537\n",
      "Epoch 18/50\n",
      "23/23 [==============================] - 0s 2ms/step - loss: 154.7178\n",
      "Epoch 19/50\n",
      "23/23 [==============================] - 0s 2ms/step - loss: 150.2238\n",
      "Epoch 20/50\n",
      "23/23 [==============================] - 0s 2ms/step - loss: 147.2779\n",
      "Epoch 21/50\n",
      "23/23 [==============================] - 0s 2ms/step - loss: 144.7570\n",
      "Epoch 22/50\n",
      "23/23 [==============================] - 0s 2ms/step - loss: 143.4532\n",
      "Epoch 23/50\n",
      "23/23 [==============================] - 0s 2ms/step - loss: 139.2238\n",
      "Epoch 24/50\n",
      "23/23 [==============================] - 0s 2ms/step - loss: 139.4870\n",
      "Epoch 25/50\n",
      "23/23 [==============================] - 0s 2ms/step - loss: 136.1687\n",
      "Epoch 26/50\n",
      "23/23 [==============================] - 0s 2ms/step - loss: 138.2590\n",
      "Epoch 27/50\n",
      "23/23 [==============================] - 0s 2ms/step - loss: 141.1677\n",
      "Epoch 28/50\n",
      "23/23 [==============================] - 0s 2ms/step - loss: 133.7734\n",
      "Epoch 29/50\n",
      "23/23 [==============================] - 0s 2ms/step - loss: 131.6524\n",
      "Epoch 30/50\n",
      "23/23 [==============================] - 0s 2ms/step - loss: 131.1251\n",
      "Epoch 31/50\n",
      "23/23 [==============================] - 0s 2ms/step - loss: 129.8818\n",
      "Epoch 32/50\n",
      "23/23 [==============================] - 0s 2ms/step - loss: 129.0406\n",
      "Epoch 33/50\n",
      "23/23 [==============================] - 0s 2ms/step - loss: 130.6751\n",
      "Epoch 34/50\n",
      "23/23 [==============================] - 0s 2ms/step - loss: 128.3061\n",
      "Epoch 35/50\n",
      "23/23 [==============================] - 0s 2ms/step - loss: 127.6921\n",
      "Epoch 36/50\n",
      "23/23 [==============================] - 0s 2ms/step - loss: 126.0378\n",
      "Epoch 37/50\n",
      "23/23 [==============================] - 0s 2ms/step - loss: 124.9849\n",
      "Epoch 38/50\n",
      "23/23 [==============================] - 0s 2ms/step - loss: 124.0573\n",
      "Epoch 39/50\n",
      "23/23 [==============================] - 0s 2ms/step - loss: 123.7287\n",
      "Epoch 40/50\n",
      "23/23 [==============================] - 0s 2ms/step - loss: 126.2323\n",
      "Epoch 41/50\n",
      "23/23 [==============================] - 0s 2ms/step - loss: 123.5267\n",
      "Epoch 42/50\n",
      "23/23 [==============================] - 0s 2ms/step - loss: 121.5061\n",
      "Epoch 43/50\n",
      "23/23 [==============================] - 0s 2ms/step - loss: 121.0024\n",
      "Epoch 44/50\n",
      "23/23 [==============================] - 0s 2ms/step - loss: 122.2293\n",
      "Epoch 45/50\n",
      "23/23 [==============================] - 0s 1ms/step - loss: 120.7929\n",
      "Epoch 46/50\n",
      "23/23 [==============================] - 0s 2ms/step - loss: 120.1756\n",
      "Epoch 47/50\n",
      "23/23 [==============================] - 0s 2ms/step - loss: 120.4267\n",
      "Epoch 48/50\n",
      "23/23 [==============================] - 0s 2ms/step - loss: 119.4106\n",
      "Epoch 49/50\n",
      "23/23 [==============================] - 0s 2ms/step - loss: 118.1730\n",
      "Epoch 50/50\n",
      "23/23 [==============================] - 0s 2ms/step - loss: 118.3705\n"
     ]
    },
    {
     "data": {
      "text/plain": [
       "<keras.callbacks.History at 0x7fd405cd1c50>"
      ]
     },
     "execution_count": 14,
     "metadata": {},
     "output_type": "execute_result"
    }
   ],
   "source": [
    "model.fit(X_train, y_train, epochs=50)"
   ]
  },
  {
   "cell_type": "code",
   "execution_count": 15,
   "id": "d5d5f421",
   "metadata": {
    "execution": {
     "iopub.execute_input": "2022-04-24T14:32:16.136019Z",
     "iopub.status.busy": "2022-04-24T14:32:16.135666Z",
     "iopub.status.idle": "2022-04-24T14:32:16.261514Z",
     "shell.execute_reply": "2022-04-24T14:32:16.260208Z"
    },
    "papermill": {
     "duration": 0.264013,
     "end_time": "2022-04-24T14:32:16.264047",
     "exception": false,
     "start_time": "2022-04-24T14:32:16.000034",
     "status": "completed"
    },
    "tags": []
   },
   "outputs": [],
   "source": [
    "y_pred = model.predict(X_test)"
   ]
  },
  {
   "cell_type": "code",
   "execution_count": 16,
   "id": "51345d6c",
   "metadata": {
    "execution": {
     "iopub.execute_input": "2022-04-24T14:32:16.535709Z",
     "iopub.status.busy": "2022-04-24T14:32:16.535429Z",
     "iopub.status.idle": "2022-04-24T14:32:16.542977Z",
     "shell.execute_reply": "2022-04-24T14:32:16.542514Z"
    },
    "papermill": {
     "duration": 0.144897,
     "end_time": "2022-04-24T14:32:16.544535",
     "exception": false,
     "start_time": "2022-04-24T14:32:16.399638",
     "status": "completed"
    },
    "tags": []
   },
   "outputs": [
    {
     "data": {
      "text/plain": [
       "10.853062862614655"
      ]
     },
     "execution_count": 16,
     "metadata": {},
     "output_type": "execute_result"
    }
   ],
   "source": [
    "result = np.sqrt(mean_squared_error(y_test,y_pred))\n",
    "result"
   ]
  },
  {
   "cell_type": "code",
   "execution_count": 17,
   "id": "0c9b6477",
   "metadata": {
    "execution": {
     "iopub.execute_input": "2022-04-24T14:32:16.722757Z",
     "iopub.status.busy": "2022-04-24T14:32:16.721630Z",
     "iopub.status.idle": "2022-04-24T14:32:16.727902Z",
     "shell.execute_reply": "2022-04-24T14:32:16.727403Z"
    },
    "papermill": {
     "duration": 0.097193,
     "end_time": "2022-04-24T14:32:16.729518",
     "exception": false,
     "start_time": "2022-04-24T14:32:16.632325",
     "status": "completed"
    },
    "tags": []
   },
   "outputs": [
    {
     "name": "stdout",
     "output_type": "stream",
     "text": [
      "Model: \"sequential\"\n",
      "_________________________________________________________________\n",
      "Layer (type)                 Output Shape              Param #   \n",
      "=================================================================\n",
      "dense (Dense)                (None, 10)                90        \n",
      "_________________________________________________________________\n",
      "dense_1 (Dense)              (None, 1)                 11        \n",
      "=================================================================\n",
      "Total params: 101\n",
      "Trainable params: 101\n",
      "Non-trainable params: 0\n",
      "_________________________________________________________________\n"
     ]
    }
   ],
   "source": [
    "model.summary()"
   ]
  },
  {
   "cell_type": "markdown",
   "id": "301a21ad",
   "metadata": {
    "papermill": {
     "duration": 0.087975,
     "end_time": "2022-04-24T14:32:16.905905",
     "exception": false,
     "start_time": "2022-04-24T14:32:16.817930",
     "status": "completed"
    },
    "tags": []
   },
   "source": [
    "# A. Repeat steps 1 - 3, 50 times, i.e., create a list of 50 mean squared errors."
   ]
  },
  {
   "cell_type": "code",
   "execution_count": 18,
   "id": "8ad90d12",
   "metadata": {
    "_kg_hide-output": true,
    "execution": {
     "iopub.execute_input": "2022-04-24T14:32:17.084652Z",
     "iopub.status.busy": "2022-04-24T14:32:17.084073Z",
     "iopub.status.idle": "2022-04-24T14:34:29.939959Z",
     "shell.execute_reply": "2022-04-24T14:34:29.938483Z"
    },
    "papermill": {
     "duration": 132.9483,
     "end_time": "2022-04-24T14:34:29.942451",
     "exception": false,
     "start_time": "2022-04-24T14:32:16.994151",
     "status": "completed"
    },
    "tags": []
   },
   "outputs": [
    {
     "name": "stdout",
     "output_type": "stream",
     "text": [
      "1: sqrt(mse) = 10.664243658087049\n",
      "***_________________________________***\n",
      "\n",
      "\n",
      "\n",
      "2: sqrt(mse) = 11.605549727571963\n",
      "***_________________________________***\n",
      "\n",
      "\n",
      "\n",
      "3: sqrt(mse) = 11.565861060333079\n",
      "***_________________________________***\n",
      "\n",
      "\n",
      "\n",
      "4: sqrt(mse) = 8.419272054239261\n",
      "***_________________________________***\n",
      "\n",
      "\n",
      "\n",
      "5: sqrt(mse) = 9.664213370439887\n",
      "***_________________________________***\n",
      "\n",
      "\n",
      "\n",
      "6: sqrt(mse) = 8.533265188832463\n",
      "***_________________________________***\n",
      "\n",
      "\n",
      "\n",
      "7: sqrt(mse) = 12.152419860565182\n",
      "***_________________________________***\n",
      "\n",
      "\n",
      "\n",
      "8: sqrt(mse) = 9.700695024463416\n",
      "***_________________________________***\n",
      "\n",
      "\n",
      "\n",
      "9: sqrt(mse) = 11.14576200987155\n",
      "***_________________________________***\n",
      "\n",
      "\n",
      "\n",
      "10: sqrt(mse) = 11.398950055887488\n",
      "***_________________________________***\n",
      "\n",
      "\n",
      "\n",
      "11: sqrt(mse) = 11.118121044225038\n",
      "***_________________________________***\n",
      "\n",
      "\n",
      "\n",
      "12: sqrt(mse) = 8.515814010345107\n",
      "***_________________________________***\n",
      "\n",
      "\n",
      "\n",
      "13: sqrt(mse) = 8.891497778994072\n",
      "***_________________________________***\n",
      "\n",
      "\n",
      "\n",
      "14: sqrt(mse) = 11.017550132112262\n",
      "***_________________________________***\n",
      "\n",
      "\n",
      "\n",
      "15: sqrt(mse) = 11.311376718596149\n",
      "***_________________________________***\n",
      "\n",
      "\n",
      "\n",
      "16: sqrt(mse) = 9.182897963962555\n",
      "***_________________________________***\n",
      "\n",
      "\n",
      "\n",
      "17: sqrt(mse) = 12.244606623248039\n",
      "***_________________________________***\n",
      "\n",
      "\n",
      "\n",
      "18: sqrt(mse) = 9.305711122670669\n",
      "***_________________________________***\n",
      "\n",
      "\n",
      "\n",
      "19: sqrt(mse) = 8.580787720067482\n",
      "***_________________________________***\n",
      "\n",
      "\n",
      "\n",
      "20: sqrt(mse) = 9.680962254226587\n",
      "***_________________________________***\n",
      "\n",
      "\n",
      "\n",
      "21: sqrt(mse) = 10.607101734375828\n",
      "***_________________________________***\n",
      "\n",
      "\n",
      "\n",
      "22: sqrt(mse) = 11.484870884493324\n",
      "***_________________________________***\n",
      "\n",
      "\n",
      "\n",
      "23: sqrt(mse) = 10.251451405941587\n",
      "***_________________________________***\n",
      "\n",
      "\n",
      "\n",
      "24: sqrt(mse) = 10.368117133674227\n",
      "***_________________________________***\n",
      "\n",
      "\n",
      "\n",
      "25: sqrt(mse) = 11.152523968092448\n",
      "***_________________________________***\n",
      "\n",
      "\n",
      "\n",
      "26: sqrt(mse) = 11.847017501787104\n",
      "***_________________________________***\n",
      "\n",
      "\n",
      "\n",
      "27: sqrt(mse) = 9.993613794264004\n",
      "***_________________________________***\n",
      "\n",
      "\n",
      "\n",
      "28: sqrt(mse) = 10.466825454793419\n",
      "***_________________________________***\n",
      "\n",
      "\n",
      "\n",
      "29: sqrt(mse) = 10.42490255134816\n",
      "***_________________________________***\n",
      "\n",
      "\n",
      "\n",
      "30: sqrt(mse) = 8.35267305999843\n",
      "***_________________________________***\n",
      "\n",
      "\n",
      "\n",
      "31: sqrt(mse) = 10.634486972166847\n",
      "***_________________________________***\n",
      "\n",
      "\n",
      "\n",
      "32: sqrt(mse) = 10.708598718815697\n",
      "***_________________________________***\n",
      "\n",
      "\n",
      "\n",
      "33: sqrt(mse) = 10.186694187360896\n",
      "***_________________________________***\n",
      "\n",
      "\n",
      "\n",
      "34: sqrt(mse) = 9.895720408259843\n",
      "***_________________________________***\n",
      "\n",
      "\n",
      "\n",
      "35: sqrt(mse) = 11.57569432495493\n",
      "***_________________________________***\n",
      "\n",
      "\n",
      "\n",
      "36: sqrt(mse) = 10.099801321115134\n",
      "***_________________________________***\n",
      "\n",
      "\n",
      "\n",
      "37: sqrt(mse) = 9.386244960490798\n",
      "***_________________________________***\n",
      "\n",
      "\n",
      "\n",
      "38: sqrt(mse) = 10.475356030998045\n",
      "***_________________________________***\n",
      "\n",
      "\n",
      "\n",
      "39: sqrt(mse) = 10.6805514106967\n",
      "***_________________________________***\n",
      "\n",
      "\n",
      "\n",
      "40: sqrt(mse) = 11.551891834454159\n",
      "***_________________________________***\n",
      "\n",
      "\n",
      "\n",
      "41: sqrt(mse) = 10.540729454959537\n",
      "***_________________________________***\n",
      "\n",
      "\n",
      "\n",
      "42: sqrt(mse) = 11.71774285589446\n",
      "***_________________________________***\n",
      "\n",
      "\n",
      "\n",
      "43: sqrt(mse) = 8.454966801081566\n",
      "***_________________________________***\n",
      "\n",
      "\n",
      "\n",
      "44: sqrt(mse) = 10.729362960506185\n",
      "***_________________________________***\n",
      "\n",
      "\n",
      "\n",
      "45: sqrt(mse) = 8.735691872804862\n",
      "***_________________________________***\n",
      "\n",
      "\n",
      "\n",
      "46: sqrt(mse) = 10.631966508796024\n",
      "***_________________________________***\n",
      "\n",
      "\n",
      "\n",
      "47: sqrt(mse) = 8.427162398833168\n",
      "***_________________________________***\n",
      "\n",
      "\n",
      "\n",
      "48: sqrt(mse) = 10.026525168707286\n",
      "***_________________________________***\n",
      "\n",
      "\n",
      "\n",
      "49: sqrt(mse) = 8.969249325448082\n",
      "***_________________________________***\n",
      "\n",
      "\n",
      "\n",
      "50: sqrt(mse) = 10.285596799325841\n",
      "***_________________________________***\n",
      "\n",
      "\n",
      "\n"
     ]
    }
   ],
   "source": [
    "MSE_List = []\n",
    "for i in range(50):\n",
    "    #1-Split Data:\n",
    "    X_train, X_test, y_train, y_test = train_test_split(X, y, test_size=0.3, random_state=42)\n",
    "    \n",
    "    model = regression_model()\n",
    "    #2-Train:\n",
    "    model.fit(X_train, y_train, epochs=50, verbose=0)\n",
    "    \n",
    "    #Prediction:\n",
    "    y_pred = model.predict(X_test)\n",
    "    \n",
    "    #3-Evaluate_Model:\n",
    "    result = np.sqrt(mean_squared_error(y_test,y_pred))\n",
    "    print(\"{}: sqrt(mse) = {}\".format(i+1,result))\n",
    "    MSE_List.append(result)\n",
    "    print(\"***_________________________________***\\n\\n\\n\")"
   ]
  },
  {
   "cell_type": "code",
   "execution_count": 19,
   "id": "6ac241ae",
   "metadata": {
    "_kg_hide-output": true,
    "execution": {
     "iopub.execute_input": "2022-04-24T14:34:30.264741Z",
     "iopub.status.busy": "2022-04-24T14:34:30.264208Z",
     "iopub.status.idle": "2022-04-24T14:34:30.271032Z",
     "shell.execute_reply": "2022-04-24T14:34:30.270311Z"
    },
    "papermill": {
     "duration": 0.170829,
     "end_time": "2022-04-24T14:34:30.272944",
     "exception": false,
     "start_time": "2022-04-24T14:34:30.102115",
     "status": "completed"
    },
    "tags": []
   },
   "outputs": [
    {
     "data": {
      "text/plain": [
       "[10.664243658087049,\n",
       " 11.605549727571963,\n",
       " 11.565861060333079,\n",
       " 8.419272054239261,\n",
       " 9.664213370439887,\n",
       " 8.533265188832463,\n",
       " 12.152419860565182,\n",
       " 9.700695024463416,\n",
       " 11.14576200987155,\n",
       " 11.398950055887488,\n",
       " 11.118121044225038,\n",
       " 8.515814010345107,\n",
       " 8.891497778994072,\n",
       " 11.017550132112262,\n",
       " 11.311376718596149,\n",
       " 9.182897963962555,\n",
       " 12.244606623248039,\n",
       " 9.305711122670669,\n",
       " 8.580787720067482,\n",
       " 9.680962254226587,\n",
       " 10.607101734375828,\n",
       " 11.484870884493324,\n",
       " 10.251451405941587,\n",
       " 10.368117133674227,\n",
       " 11.152523968092448,\n",
       " 11.847017501787104,\n",
       " 9.993613794264004,\n",
       " 10.466825454793419,\n",
       " 10.42490255134816,\n",
       " 8.35267305999843,\n",
       " 10.634486972166847,\n",
       " 10.708598718815697,\n",
       " 10.186694187360896,\n",
       " 9.895720408259843,\n",
       " 11.57569432495493,\n",
       " 10.099801321115134,\n",
       " 9.386244960490798,\n",
       " 10.475356030998045,\n",
       " 10.6805514106967,\n",
       " 11.551891834454159,\n",
       " 10.540729454959537,\n",
       " 11.71774285589446,\n",
       " 8.454966801081566,\n",
       " 10.729362960506185,\n",
       " 8.735691872804862,\n",
       " 10.631966508796024,\n",
       " 8.427162398833168,\n",
       " 10.026525168707286,\n",
       " 8.969249325448082,\n",
       " 10.285596799325841]"
      ]
     },
     "execution_count": 19,
     "metadata": {},
     "output_type": "execute_result"
    }
   ],
   "source": [
    "MSE_List"
   ]
  },
  {
   "cell_type": "markdown",
   "id": "2c5bd2ac",
   "metadata": {
    "papermill": {
     "duration": 0.159221,
     "end_time": "2022-04-24T14:34:30.592841",
     "exception": false,
     "start_time": "2022-04-24T14:34:30.433620",
     "status": "completed"
    },
    "tags": []
   },
   "source": [
    "# A. Results\n",
    "**Report mean square MSE and std square MSE**"
   ]
  },
  {
   "cell_type": "code",
   "execution_count": 20,
   "id": "2a828b04",
   "metadata": {
    "execution": {
     "iopub.execute_input": "2022-04-24T14:34:30.905150Z",
     "iopub.status.busy": "2022-04-24T14:34:30.904764Z",
     "iopub.status.idle": "2022-04-24T14:34:30.917098Z",
     "shell.execute_reply": "2022-04-24T14:34:30.916082Z"
    },
    "papermill": {
     "duration": 0.174394,
     "end_time": "2022-04-24T14:34:30.919191",
     "exception": false,
     "start_time": "2022-04-24T14:34:30.744797",
     "status": "completed"
    },
    "tags": []
   },
   "outputs": [
    {
     "data": {
      "text/html": [
       "<div>\n",
       "<style scoped>\n",
       "    .dataframe tbody tr th:only-of-type {\n",
       "        vertical-align: middle;\n",
       "    }\n",
       "\n",
       "    .dataframe tbody tr th {\n",
       "        vertical-align: top;\n",
       "    }\n",
       "\n",
       "    .dataframe thead th {\n",
       "        text-align: right;\n",
       "    }\n",
       "</style>\n",
       "<table border=\"1\" class=\"dataframe\">\n",
       "  <thead>\n",
       "    <tr style=\"text-align: right;\">\n",
       "      <th></th>\n",
       "      <th>Part</th>\n",
       "      <th>mean_sq_mse</th>\n",
       "      <th>std_sq_mse</th>\n",
       "    </tr>\n",
       "  </thead>\n",
       "  <tbody>\n",
       "    <tr>\n",
       "      <th>0</th>\n",
       "      <td>A</td>\n",
       "      <td>10.267254</td>\n",
       "      <td>1.092846</td>\n",
       "    </tr>\n",
       "  </tbody>\n",
       "</table>\n",
       "</div>"
      ],
      "text/plain": [
       "  Part  mean_sq_mse  std_sq_mse\n",
       "0    A    10.267254    1.092846"
      ]
     },
     "execution_count": 20,
     "metadata": {},
     "output_type": "execute_result"
    }
   ],
   "source": [
    "# Calculate the mean and the standard deviation of the metric on the 50 samplings\n",
    "mean_sqmse_A = np.mean(MSE_List)\n",
    "std_sqmse_A  = np.std(MSE_List)\n",
    "\n",
    "# Generate a data frame to store the results of the differents parts of this project\n",
    "df_results = pd.DataFrame.from_dict({\"Part\": [\"A\"],\"mean_sq_mse\": [mean_sqmse_A], \"std_sq_mse\": [std_sqmse_A]})\n",
    "df_results"
   ]
  },
  {
   "cell_type": "markdown",
   "id": "fc1c56ac",
   "metadata": {
    "papermill": {
     "duration": 0.159024,
     "end_time": "2022-04-24T14:34:31.237088",
     "exception": false,
     "start_time": "2022-04-24T14:34:31.078064",
     "status": "completed"
    },
    "tags": []
   },
   "source": [
    "# **Part B**"
   ]
  },
  {
   "cell_type": "markdown",
   "id": "4bf10e27",
   "metadata": {
    "papermill": {
     "duration": 0.157864,
     "end_time": "2022-04-24T14:34:31.553744",
     "exception": false,
     "start_time": "2022-04-24T14:34:31.395880",
     "status": "completed"
    },
    "tags": []
   },
   "source": [
    "**B. Normalize the data** \n",
    "\n",
    "Repeat Part A but use a normalized version of the data. Recall that one way to normalize the data is by subtracting the mean from the individual predictors and dividing by the standard deviation."
   ]
  },
  {
   "cell_type": "markdown",
   "id": "bba94eea",
   "metadata": {
    "papermill": {
     "duration": 0.155414,
     "end_time": "2022-04-24T14:34:31.869190",
     "exception": false,
     "start_time": "2022-04-24T14:34:31.713776",
     "status": "completed"
    },
    "tags": []
   },
   "source": [
    "# B. Normalize the data"
   ]
  },
  {
   "cell_type": "code",
   "execution_count": 21,
   "id": "acdefdb6",
   "metadata": {
    "execution": {
     "iopub.execute_input": "2022-04-24T14:34:32.180720Z",
     "iopub.status.busy": "2022-04-24T14:34:32.180461Z",
     "iopub.status.idle": "2022-04-24T14:34:32.184435Z",
     "shell.execute_reply": "2022-04-24T14:34:32.183637Z"
    },
    "papermill": {
     "duration": 0.163551,
     "end_time": "2022-04-24T14:34:32.186294",
     "exception": false,
     "start_time": "2022-04-24T14:34:32.022743",
     "status": "completed"
    },
    "tags": []
   },
   "outputs": [],
   "source": [
    "from sklearn import preprocessing"
   ]
  },
  {
   "cell_type": "code",
   "execution_count": 22,
   "id": "3f39de6e",
   "metadata": {
    "execution": {
     "iopub.execute_input": "2022-04-24T14:34:32.507945Z",
     "iopub.status.busy": "2022-04-24T14:34:32.507653Z",
     "iopub.status.idle": "2022-04-24T14:34:32.516824Z",
     "shell.execute_reply": "2022-04-24T14:34:32.515520Z"
    },
    "papermill": {
     "duration": 0.17292,
     "end_time": "2022-04-24T14:34:32.519426",
     "exception": false,
     "start_time": "2022-04-24T14:34:32.346506",
     "status": "completed"
    },
    "tags": []
   },
   "outputs": [],
   "source": [
    "X = preprocessing.normalize(X)\n",
    "y = preprocessing.normalize(y, axis = 0)"
   ]
  },
  {
   "cell_type": "code",
   "execution_count": 23,
   "id": "e4cae8fa",
   "metadata": {
    "execution": {
     "iopub.execute_input": "2022-04-24T14:34:32.841827Z",
     "iopub.status.busy": "2022-04-24T14:34:32.841363Z",
     "iopub.status.idle": "2022-04-24T14:34:32.847150Z",
     "shell.execute_reply": "2022-04-24T14:34:32.846212Z"
    },
    "papermill": {
     "duration": 0.170973,
     "end_time": "2022-04-24T14:34:32.849617",
     "exception": false,
     "start_time": "2022-04-24T14:34:32.678644",
     "status": "completed"
    },
    "tags": []
   },
   "outputs": [],
   "source": [
    "X_train, X_test, y_train, y_test = train_test_split(X, y, test_size=0.3, random_state=42)"
   ]
  },
  {
   "cell_type": "markdown",
   "id": "8e593ace",
   "metadata": {
    "papermill": {
     "duration": 0.158709,
     "end_time": "2022-04-24T14:34:33.166864",
     "exception": false,
     "start_time": "2022-04-24T14:34:33.008155",
     "status": "completed"
    },
    "tags": []
   },
   "source": [
    "# B. Model"
   ]
  },
  {
   "cell_type": "code",
   "execution_count": 24,
   "id": "bf0a2533",
   "metadata": {
    "execution": {
     "iopub.execute_input": "2022-04-24T14:34:33.487419Z",
     "iopub.status.busy": "2022-04-24T14:34:33.486944Z",
     "iopub.status.idle": "2022-04-24T14:34:33.492177Z",
     "shell.execute_reply": "2022-04-24T14:34:33.491445Z"
    },
    "papermill": {
     "duration": 0.168584,
     "end_time": "2022-04-24T14:34:33.494021",
     "exception": false,
     "start_time": "2022-04-24T14:34:33.325437",
     "status": "completed"
    },
    "tags": []
   },
   "outputs": [
    {
     "data": {
      "text/plain": [
       "(721, 8)"
      ]
     },
     "execution_count": 24,
     "metadata": {},
     "output_type": "execute_result"
    }
   ],
   "source": [
    "X_train.shape"
   ]
  },
  {
   "cell_type": "code",
   "execution_count": 25,
   "id": "a9af2c34",
   "metadata": {
    "execution": {
     "iopub.execute_input": "2022-04-24T14:34:33.821019Z",
     "iopub.status.busy": "2022-04-24T14:34:33.820195Z",
     "iopub.status.idle": "2022-04-24T14:34:33.846055Z",
     "shell.execute_reply": "2022-04-24T14:34:33.845405Z"
    },
    "papermill": {
     "duration": 0.190971,
     "end_time": "2022-04-24T14:34:33.848270",
     "exception": false,
     "start_time": "2022-04-24T14:34:33.657299",
     "status": "completed"
    },
    "tags": []
   },
   "outputs": [],
   "source": [
    "model = regression_model()"
   ]
  },
  {
   "cell_type": "code",
   "execution_count": 26,
   "id": "cf37dd69",
   "metadata": {
    "_kg_hide-output": true,
    "execution": {
     "iopub.execute_input": "2022-04-24T14:34:34.169229Z",
     "iopub.status.busy": "2022-04-24T14:34:34.168527Z",
     "iopub.status.idle": "2022-04-24T14:34:37.030068Z",
     "shell.execute_reply": "2022-04-24T14:34:37.028794Z"
    },
    "papermill": {
     "duration": 3.02415,
     "end_time": "2022-04-24T14:34:37.032065",
     "exception": false,
     "start_time": "2022-04-24T14:34:34.007915",
     "status": "completed"
    },
    "tags": []
   },
   "outputs": [
    {
     "name": "stdout",
     "output_type": "stream",
     "text": [
      "Epoch 1/50\n",
      "23/23 [==============================] - 0s 3ms/step - loss: 0.0010\n",
      "Epoch 2/50\n",
      "23/23 [==============================] - 0s 2ms/step - loss: 1.8713e-04\n",
      "Epoch 3/50\n",
      "23/23 [==============================] - 0s 2ms/step - loss: 1.6134e-04\n",
      "Epoch 4/50\n",
      "23/23 [==============================] - 0s 2ms/step - loss: 1.5815e-04\n",
      "Epoch 5/50\n",
      "23/23 [==============================] - 0s 2ms/step - loss: 1.5285e-04\n",
      "Epoch 6/50\n",
      "23/23 [==============================] - 0s 2ms/step - loss: 1.4822e-04\n",
      "Epoch 7/50\n",
      "23/23 [==============================] - 0s 2ms/step - loss: 1.4293e-04\n",
      "Epoch 8/50\n",
      "23/23 [==============================] - 0s 2ms/step - loss: 1.3913e-04\n",
      "Epoch 9/50\n",
      "23/23 [==============================] - 0s 2ms/step - loss: 1.3350e-04\n",
      "Epoch 10/50\n",
      "23/23 [==============================] - 0s 2ms/step - loss: 1.3079e-04\n",
      "Epoch 11/50\n",
      "23/23 [==============================] - 0s 1ms/step - loss: 1.2452e-04\n",
      "Epoch 12/50\n",
      "23/23 [==============================] - 0s 2ms/step - loss: 1.2068e-04\n",
      "Epoch 13/50\n",
      "23/23 [==============================] - 0s 1ms/step - loss: 1.1625e-04\n",
      "Epoch 14/50\n",
      "23/23 [==============================] - 0s 2ms/step - loss: 1.1229e-04\n",
      "Epoch 15/50\n",
      "23/23 [==============================] - 0s 2ms/step - loss: 1.0849e-04\n",
      "Epoch 16/50\n",
      "23/23 [==============================] - 0s 2ms/step - loss: 1.0491e-04\n",
      "Epoch 17/50\n",
      "23/23 [==============================] - 0s 2ms/step - loss: 1.0125e-04\n",
      "Epoch 18/50\n",
      "23/23 [==============================] - 0s 2ms/step - loss: 9.7841e-05\n",
      "Epoch 19/50\n",
      "23/23 [==============================] - 0s 2ms/step - loss: 9.5616e-05\n",
      "Epoch 20/50\n",
      "23/23 [==============================] - 0s 2ms/step - loss: 9.1859e-05\n",
      "Epoch 21/50\n",
      "23/23 [==============================] - 0s 2ms/step - loss: 8.8863e-05\n",
      "Epoch 22/50\n",
      "23/23 [==============================] - 0s 2ms/step - loss: 8.6451e-05\n",
      "Epoch 23/50\n",
      "23/23 [==============================] - 0s 2ms/step - loss: 8.4424e-05\n",
      "Epoch 24/50\n",
      "23/23 [==============================] - 0s 1ms/step - loss: 8.2673e-05\n",
      "Epoch 25/50\n",
      "23/23 [==============================] - 0s 1ms/step - loss: 8.0979e-05\n",
      "Epoch 26/50\n",
      "23/23 [==============================] - 0s 2ms/step - loss: 7.8570e-05\n",
      "Epoch 27/50\n",
      "23/23 [==============================] - 0s 2ms/step - loss: 7.7978e-05\n",
      "Epoch 28/50\n",
      "23/23 [==============================] - 0s 2ms/step - loss: 7.6624e-05\n",
      "Epoch 29/50\n",
      "23/23 [==============================] - 0s 3ms/step - loss: 7.5061e-05\n",
      "Epoch 30/50\n",
      "23/23 [==============================] - 0s 2ms/step - loss: 7.3323e-05\n",
      "Epoch 31/50\n",
      "23/23 [==============================] - 0s 2ms/step - loss: 7.2556e-05\n",
      "Epoch 32/50\n",
      "23/23 [==============================] - 0s 2ms/step - loss: 7.2489e-05\n",
      "Epoch 33/50\n",
      "23/23 [==============================] - 0s 2ms/step - loss: 7.1073e-05\n",
      "Epoch 34/50\n",
      "23/23 [==============================] - 0s 2ms/step - loss: 6.9312e-05\n",
      "Epoch 35/50\n",
      "23/23 [==============================] - 0s 2ms/step - loss: 6.7943e-05\n",
      "Epoch 36/50\n",
      "23/23 [==============================] - 0s 2ms/step - loss: 6.8319e-05\n",
      "Epoch 37/50\n",
      "23/23 [==============================] - 0s 2ms/step - loss: 6.6840e-05\n",
      "Epoch 38/50\n",
      "23/23 [==============================] - 0s 2ms/step - loss: 6.7290e-05\n",
      "Epoch 39/50\n",
      "23/23 [==============================] - 0s 2ms/step - loss: 6.5149e-05\n",
      "Epoch 40/50\n",
      "23/23 [==============================] - 0s 2ms/step - loss: 6.4627e-05\n",
      "Epoch 41/50\n",
      "23/23 [==============================] - 0s 2ms/step - loss: 6.3539e-05\n",
      "Epoch 42/50\n",
      "23/23 [==============================] - 0s 2ms/step - loss: 6.3314e-05\n",
      "Epoch 43/50\n",
      "23/23 [==============================] - 0s 2ms/step - loss: 6.2443e-05\n",
      "Epoch 44/50\n",
      "23/23 [==============================] - 0s 2ms/step - loss: 6.1339e-05\n",
      "Epoch 45/50\n",
      "23/23 [==============================] - 0s 1ms/step - loss: 6.3461e-05\n",
      "Epoch 46/50\n",
      "23/23 [==============================] - 0s 2ms/step - loss: 6.1701e-05\n",
      "Epoch 47/50\n",
      "23/23 [==============================] - 0s 2ms/step - loss: 6.0492e-05\n",
      "Epoch 48/50\n",
      "23/23 [==============================] - 0s 2ms/step - loss: 6.0186e-05\n",
      "Epoch 49/50\n",
      "23/23 [==============================] - 0s 1ms/step - loss: 5.9558e-05\n",
      "Epoch 50/50\n",
      "23/23 [==============================] - 0s 1ms/step - loss: 6.2638e-05\n"
     ]
    },
    {
     "data": {
      "text/plain": [
       "<keras.callbacks.History at 0x7fd3fcdc6890>"
      ]
     },
     "execution_count": 26,
     "metadata": {},
     "output_type": "execute_result"
    }
   ],
   "source": [
    "model.fit(X_train, y_train, epochs=50)"
   ]
  },
  {
   "cell_type": "code",
   "execution_count": 27,
   "id": "036632e6",
   "metadata": {
    "execution": {
     "iopub.execute_input": "2022-04-24T14:34:37.461188Z",
     "iopub.status.busy": "2022-04-24T14:34:37.460934Z",
     "iopub.status.idle": "2022-04-24T14:34:37.587523Z",
     "shell.execute_reply": "2022-04-24T14:34:37.585793Z"
    },
    "papermill": {
     "duration": 0.345636,
     "end_time": "2022-04-24T14:34:37.590619",
     "exception": false,
     "start_time": "2022-04-24T14:34:37.244983",
     "status": "completed"
    },
    "tags": []
   },
   "outputs": [],
   "source": [
    "y_pred = model.predict(X_test)"
   ]
  },
  {
   "cell_type": "code",
   "execution_count": 28,
   "id": "ba63fb16",
   "metadata": {
    "execution": {
     "iopub.execute_input": "2022-04-24T14:34:38.016034Z",
     "iopub.status.busy": "2022-04-24T14:34:38.015803Z",
     "iopub.status.idle": "2022-04-24T14:34:38.022843Z",
     "shell.execute_reply": "2022-04-24T14:34:38.022188Z"
    },
    "papermill": {
     "duration": 0.21989,
     "end_time": "2022-04-24T14:34:38.024629",
     "exception": false,
     "start_time": "2022-04-24T14:34:37.804739",
     "status": "completed"
    },
    "tags": []
   },
   "outputs": [
    {
     "data": {
      "text/plain": [
       "0.00863247260380448"
      ]
     },
     "execution_count": 28,
     "metadata": {},
     "output_type": "execute_result"
    }
   ],
   "source": [
    "result = np.sqrt(mean_squared_error(y_test,y_pred))\n",
    "result"
   ]
  },
  {
   "cell_type": "code",
   "execution_count": 29,
   "id": "3167624c",
   "metadata": {
    "execution": {
     "iopub.execute_input": "2022-04-24T14:34:38.458492Z",
     "iopub.status.busy": "2022-04-24T14:34:38.458007Z",
     "iopub.status.idle": "2022-04-24T14:34:38.468122Z",
     "shell.execute_reply": "2022-04-24T14:34:38.466851Z"
    },
    "papermill": {
     "duration": 0.23176,
     "end_time": "2022-04-24T14:34:38.470529",
     "exception": false,
     "start_time": "2022-04-24T14:34:38.238769",
     "status": "completed"
    },
    "tags": []
   },
   "outputs": [
    {
     "name": "stdout",
     "output_type": "stream",
     "text": [
      "Model: \"sequential_51\"\n",
      "_________________________________________________________________\n",
      "Layer (type)                 Output Shape              Param #   \n",
      "=================================================================\n",
      "dense_102 (Dense)            (None, 10)                90        \n",
      "_________________________________________________________________\n",
      "dense_103 (Dense)            (None, 1)                 11        \n",
      "=================================================================\n",
      "Total params: 101\n",
      "Trainable params: 101\n",
      "Non-trainable params: 0\n",
      "_________________________________________________________________\n"
     ]
    }
   ],
   "source": [
    "model.summary()"
   ]
  },
  {
   "cell_type": "markdown",
   "id": "d9d0c808",
   "metadata": {
    "papermill": {
     "duration": 0.216192,
     "end_time": "2022-04-24T14:34:38.904883",
     "exception": false,
     "start_time": "2022-04-24T14:34:38.688691",
     "status": "completed"
    },
    "tags": []
   },
   "source": [
    "# B. Repeat steps 1 - 3, 50 times, i.e., create a list of 50 mean squared errors."
   ]
  },
  {
   "cell_type": "code",
   "execution_count": 30,
   "id": "f3d77dad",
   "metadata": {
    "_kg_hide-output": true,
    "execution": {
     "iopub.execute_input": "2022-04-24T14:34:39.333506Z",
     "iopub.status.busy": "2022-04-24T14:34:39.332761Z",
     "iopub.status.idle": "2022-04-24T14:36:40.451345Z",
     "shell.execute_reply": "2022-04-24T14:36:40.450031Z"
    },
    "papermill": {
     "duration": 121.336417,
     "end_time": "2022-04-24T14:36:40.454646",
     "exception": false,
     "start_time": "2022-04-24T14:34:39.118229",
     "status": "completed"
    },
    "tags": []
   },
   "outputs": [
    {
     "name": "stdout",
     "output_type": "stream",
     "text": [
      "1: sqrt(mse) = 0.007909379517048195\n",
      "***_________________________________***\n",
      "\n",
      "\n",
      "\n",
      "2: sqrt(mse) = 0.008533618392796337\n",
      "***_________________________________***\n",
      "\n",
      "\n",
      "\n",
      "3: sqrt(mse) = 0.008513936453270988\n",
      "***_________________________________***\n",
      "\n",
      "\n",
      "\n",
      "4: sqrt(mse) = 0.009359720060464285\n",
      "***_________________________________***\n",
      "\n",
      "\n",
      "\n",
      "5: sqrt(mse) = 0.008619462996661604\n",
      "***_________________________________***\n",
      "\n",
      "\n",
      "\n",
      "6: sqrt(mse) = 0.00688478053385421\n",
      "***_________________________________***\n",
      "\n",
      "\n",
      "\n",
      "7: sqrt(mse) = 0.006026296978382181\n",
      "***_________________________________***\n",
      "\n",
      "\n",
      "\n",
      "8: sqrt(mse) = 0.009641193938254489\n",
      "***_________________________________***\n",
      "\n",
      "\n",
      "\n",
      "9: sqrt(mse) = 0.007082819985594648\n",
      "***_________________________________***\n",
      "\n",
      "\n",
      "\n",
      "10: sqrt(mse) = 0.008191494277055303\n",
      "***_________________________________***\n",
      "\n",
      "\n",
      "\n",
      "11: sqrt(mse) = 0.00702235609485498\n",
      "***_________________________________***\n",
      "\n",
      "\n",
      "\n",
      "12: sqrt(mse) = 0.006734853758314344\n",
      "***_________________________________***\n",
      "\n",
      "\n",
      "\n",
      "13: sqrt(mse) = 0.007015871280280298\n",
      "***_________________________________***\n",
      "\n",
      "\n",
      "\n",
      "14: sqrt(mse) = 0.008425528527530715\n",
      "***_________________________________***\n",
      "\n",
      "\n",
      "\n",
      "15: sqrt(mse) = 0.009138117539065183\n",
      "***_________________________________***\n",
      "\n",
      "\n",
      "\n",
      "16: sqrt(mse) = 0.008191048059009404\n",
      "***_________________________________***\n",
      "\n",
      "\n",
      "\n",
      "17: sqrt(mse) = 0.009222442974039891\n",
      "***_________________________________***\n",
      "\n",
      "\n",
      "\n",
      "18: sqrt(mse) = 0.008364126820533491\n",
      "***_________________________________***\n",
      "\n",
      "\n",
      "\n",
      "19: sqrt(mse) = 0.008170136802384879\n",
      "***_________________________________***\n",
      "\n",
      "\n",
      "\n",
      "20: sqrt(mse) = 0.008301839144430067\n",
      "***_________________________________***\n",
      "\n",
      "\n",
      "\n",
      "21: sqrt(mse) = 0.007825165135129028\n",
      "***_________________________________***\n",
      "\n",
      "\n",
      "\n",
      "22: sqrt(mse) = 0.008072763635128336\n",
      "***_________________________________***\n",
      "\n",
      "\n",
      "\n",
      "23: sqrt(mse) = 0.006490360033445576\n",
      "***_________________________________***\n",
      "\n",
      "\n",
      "\n",
      "24: sqrt(mse) = 0.010157307948082037\n",
      "***_________________________________***\n",
      "\n",
      "\n",
      "\n",
      "25: sqrt(mse) = 0.007019877545077951\n",
      "***_________________________________***\n",
      "\n",
      "\n",
      "\n",
      "26: sqrt(mse) = 0.008573299223209267\n",
      "***_________________________________***\n",
      "\n",
      "\n",
      "\n",
      "27: sqrt(mse) = 0.007026322828194117\n",
      "***_________________________________***\n",
      "\n",
      "\n",
      "\n",
      "28: sqrt(mse) = 0.00882040618465442\n",
      "***_________________________________***\n",
      "\n",
      "\n",
      "\n",
      "29: sqrt(mse) = 0.008757386429685628\n",
      "***_________________________________***\n",
      "\n",
      "\n",
      "\n",
      "30: sqrt(mse) = 0.007825890503823856\n",
      "***_________________________________***\n",
      "\n",
      "\n",
      "\n",
      "31: sqrt(mse) = 0.008735629373828355\n",
      "***_________________________________***\n",
      "\n",
      "\n",
      "\n",
      "32: sqrt(mse) = 0.008689390705545768\n",
      "***_________________________________***\n",
      "\n",
      "\n",
      "\n",
      "33: sqrt(mse) = 0.007758908795825488\n",
      "***_________________________________***\n",
      "\n",
      "\n",
      "\n",
      "34: sqrt(mse) = 0.006625296102282337\n",
      "***_________________________________***\n",
      "\n",
      "\n",
      "\n",
      "35: sqrt(mse) = 0.009545445166794819\n",
      "***_________________________________***\n",
      "\n",
      "\n",
      "\n",
      "36: sqrt(mse) = 0.008475494959586544\n",
      "***_________________________________***\n",
      "\n",
      "\n",
      "\n",
      "37: sqrt(mse) = 0.008080227269466516\n",
      "***_________________________________***\n",
      "\n",
      "\n",
      "\n",
      "38: sqrt(mse) = 0.006844086212712497\n",
      "***_________________________________***\n",
      "\n",
      "\n",
      "\n",
      "39: sqrt(mse) = 0.007749655531659444\n",
      "***_________________________________***\n",
      "\n",
      "\n",
      "\n",
      "40: sqrt(mse) = 0.009077001602464572\n",
      "***_________________________________***\n",
      "\n",
      "\n",
      "\n",
      "41: sqrt(mse) = 0.010200846853522145\n",
      "***_________________________________***\n",
      "\n",
      "\n",
      "\n",
      "42: sqrt(mse) = 0.007489005166258004\n",
      "***_________________________________***\n",
      "\n",
      "\n",
      "\n",
      "43: sqrt(mse) = 0.008633864463437816\n",
      "***_________________________________***\n",
      "\n",
      "\n",
      "\n",
      "44: sqrt(mse) = 0.007499274376306288\n",
      "***_________________________________***\n",
      "\n",
      "\n",
      "\n",
      "45: sqrt(mse) = 0.009236786338884915\n",
      "***_________________________________***\n",
      "\n",
      "\n",
      "\n",
      "46: sqrt(mse) = 0.00812706021693187\n",
      "***_________________________________***\n",
      "\n",
      "\n",
      "\n",
      "47: sqrt(mse) = 0.00808297771284801\n",
      "***_________________________________***\n",
      "\n",
      "\n",
      "\n",
      "48: sqrt(mse) = 0.006660290979620366\n",
      "***_________________________________***\n",
      "\n",
      "\n",
      "\n",
      "49: sqrt(mse) = 0.008406135415253266\n",
      "***_________________________________***\n",
      "\n",
      "\n",
      "\n",
      "50: sqrt(mse) = 0.008270153591054366\n",
      "***_________________________________***\n",
      "\n",
      "\n",
      "\n"
     ]
    }
   ],
   "source": [
    "MSE_List = []\n",
    "for i in range(50):\n",
    "    #1-Split Data:\n",
    "    X_train, X_test, y_train, y_test = train_test_split(X, y, test_size=0.3, random_state=42)\n",
    "    \n",
    "    model = regression_model()\n",
    "    #2-Train:\n",
    "    model.fit(X_train, y_train, epochs=50, verbose=0)\n",
    "    \n",
    "    #Prediction:\n",
    "    y_pred = model.predict(X_test)\n",
    "    \n",
    "    #3-Evaluate_Model:\n",
    "    result = np.sqrt(mean_squared_error(y_test,y_pred))\n",
    "    print(\"{}: sqrt(mse) = {}\".format(i+1,result))\n",
    "    MSE_List.append(result)\n",
    "    print(\"***_________________________________***\\n\\n\\n\")"
   ]
  },
  {
   "cell_type": "code",
   "execution_count": 31,
   "id": "32756b53",
   "metadata": {
    "_kg_hide-output": true,
    "execution": {
     "iopub.execute_input": "2022-04-24T14:36:40.932452Z",
     "iopub.status.busy": "2022-04-24T14:36:40.931876Z",
     "iopub.status.idle": "2022-04-24T14:36:40.938185Z",
     "shell.execute_reply": "2022-04-24T14:36:40.936426Z"
    },
    "papermill": {
     "duration": 0.247571,
     "end_time": "2022-04-24T14:36:40.940296",
     "exception": false,
     "start_time": "2022-04-24T14:36:40.692725",
     "status": "completed"
    },
    "tags": []
   },
   "outputs": [
    {
     "data": {
      "text/plain": [
       "[0.007909379517048195,\n",
       " 0.008533618392796337,\n",
       " 0.008513936453270988,\n",
       " 0.009359720060464285,\n",
       " 0.008619462996661604,\n",
       " 0.00688478053385421,\n",
       " 0.006026296978382181,\n",
       " 0.009641193938254489,\n",
       " 0.007082819985594648,\n",
       " 0.008191494277055303,\n",
       " 0.00702235609485498,\n",
       " 0.006734853758314344,\n",
       " 0.007015871280280298,\n",
       " 0.008425528527530715,\n",
       " 0.009138117539065183,\n",
       " 0.008191048059009404,\n",
       " 0.009222442974039891,\n",
       " 0.008364126820533491,\n",
       " 0.008170136802384879,\n",
       " 0.008301839144430067,\n",
       " 0.007825165135129028,\n",
       " 0.008072763635128336,\n",
       " 0.006490360033445576,\n",
       " 0.010157307948082037,\n",
       " 0.007019877545077951,\n",
       " 0.008573299223209267,\n",
       " 0.007026322828194117,\n",
       " 0.00882040618465442,\n",
       " 0.008757386429685628,\n",
       " 0.007825890503823856,\n",
       " 0.008735629373828355,\n",
       " 0.008689390705545768,\n",
       " 0.007758908795825488,\n",
       " 0.006625296102282337,\n",
       " 0.009545445166794819,\n",
       " 0.008475494959586544,\n",
       " 0.008080227269466516,\n",
       " 0.006844086212712497,\n",
       " 0.007749655531659444,\n",
       " 0.009077001602464572,\n",
       " 0.010200846853522145,\n",
       " 0.007489005166258004,\n",
       " 0.008633864463437816,\n",
       " 0.007499274376306288,\n",
       " 0.009236786338884915,\n",
       " 0.00812706021693187,\n",
       " 0.00808297771284801,\n",
       " 0.006660290979620366,\n",
       " 0.008406135415253266,\n",
       " 0.008270153591054366]"
      ]
     },
     "execution_count": 31,
     "metadata": {},
     "output_type": "execute_result"
    }
   ],
   "source": [
    "MSE_List"
   ]
  },
  {
   "cell_type": "markdown",
   "id": "e7236175",
   "metadata": {
    "papermill": {
     "duration": 0.236434,
     "end_time": "2022-04-24T14:36:41.412156",
     "exception": false,
     "start_time": "2022-04-24T14:36:41.175722",
     "status": "completed"
    },
    "tags": []
   },
   "source": [
    "# B. Results\n",
    "**Report mean square MSE and std square MSE**"
   ]
  },
  {
   "cell_type": "code",
   "execution_count": 32,
   "id": "80194b48",
   "metadata": {
    "execution": {
     "iopub.execute_input": "2022-04-24T14:36:41.887425Z",
     "iopub.status.busy": "2022-04-24T14:36:41.885803Z",
     "iopub.status.idle": "2022-04-24T14:36:41.897768Z",
     "shell.execute_reply": "2022-04-24T14:36:41.896906Z"
    },
    "papermill": {
     "duration": 0.252561,
     "end_time": "2022-04-24T14:36:41.899492",
     "exception": false,
     "start_time": "2022-04-24T14:36:41.646931",
     "status": "completed"
    },
    "tags": []
   },
   "outputs": [
    {
     "data": {
      "text/html": [
       "<div>\n",
       "<style scoped>\n",
       "    .dataframe tbody tr th:only-of-type {\n",
       "        vertical-align: middle;\n",
       "    }\n",
       "\n",
       "    .dataframe tbody tr th {\n",
       "        vertical-align: top;\n",
       "    }\n",
       "\n",
       "    .dataframe thead th {\n",
       "        text-align: right;\n",
       "    }\n",
       "</style>\n",
       "<table border=\"1\" class=\"dataframe\">\n",
       "  <thead>\n",
       "    <tr style=\"text-align: right;\">\n",
       "      <th></th>\n",
       "      <th>Part</th>\n",
       "      <th>mean_sq_mse</th>\n",
       "      <th>std_sq_mse</th>\n",
       "    </tr>\n",
       "  </thead>\n",
       "  <tbody>\n",
       "    <tr>\n",
       "      <th>0</th>\n",
       "      <td>B</td>\n",
       "      <td>0.008122</td>\n",
       "      <td>0.000954</td>\n",
       "    </tr>\n",
       "  </tbody>\n",
       "</table>\n",
       "</div>"
      ],
      "text/plain": [
       "  Part  mean_sq_mse  std_sq_mse\n",
       "0    B     0.008122    0.000954"
      ]
     },
     "execution_count": 32,
     "metadata": {},
     "output_type": "execute_result"
    }
   ],
   "source": [
    "# Calculate the mean and the standard deviation of the metric on the 50 samplings\n",
    "mean_sqmse_B = np.mean(MSE_List)\n",
    "std_sqmse_B  = np.std(MSE_List)\n",
    "\n",
    "# Generate a data frame to store the results of the differents parts of this project\n",
    "df_results = pd.DataFrame.from_dict({\"Part\": [\"B\"],\"mean_sq_mse\": [mean_sqmse_B], \"std_sq_mse\": [std_sqmse_B]})\n",
    "df_results"
   ]
  },
  {
   "cell_type": "markdown",
   "id": "d3c891bb",
   "metadata": {
    "papermill": {
     "duration": 0.155445,
     "end_time": "2022-04-24T14:36:42.213409",
     "exception": false,
     "start_time": "2022-04-24T14:36:42.057964",
     "status": "completed"
    },
    "tags": []
   },
   "source": [
    "# B.Q: How does the mean of the mean squared errors compare to that from Step A?\n",
    "\n",
    "### Because of normalized data, mean_sq_mse and std_sq_mse have both become very small."
   ]
  },
  {
   "cell_type": "markdown",
   "id": "f5b0a101",
   "metadata": {
    "papermill": {
     "duration": 0.156949,
     "end_time": "2022-04-24T14:36:42.526281",
     "exception": false,
     "start_time": "2022-04-24T14:36:42.369332",
     "status": "completed"
    },
    "tags": []
   },
   "source": [
    "# Part C\n",
    "\n",
    "**C. Increate the number of epochs**\n",
    "\n",
    "Repeat Part B but use 100 epochs this time for training."
   ]
  },
  {
   "cell_type": "markdown",
   "id": "94d38650",
   "metadata": {
    "papermill": {
     "duration": 0.155224,
     "end_time": "2022-04-24T14:36:42.839418",
     "exception": false,
     "start_time": "2022-04-24T14:36:42.684194",
     "status": "completed"
    },
    "tags": []
   },
   "source": [
    "# C.Model"
   ]
  },
  {
   "cell_type": "code",
   "execution_count": 33,
   "id": "c73af126",
   "metadata": {
    "execution": {
     "iopub.execute_input": "2022-04-24T14:36:43.152979Z",
     "iopub.status.busy": "2022-04-24T14:36:43.152682Z",
     "iopub.status.idle": "2022-04-24T14:36:43.182816Z",
     "shell.execute_reply": "2022-04-24T14:36:43.181610Z"
    },
    "papermill": {
     "duration": 0.188721,
     "end_time": "2022-04-24T14:36:43.185338",
     "exception": false,
     "start_time": "2022-04-24T14:36:42.996617",
     "status": "completed"
    },
    "tags": []
   },
   "outputs": [],
   "source": [
    "model = regression_model()"
   ]
  },
  {
   "cell_type": "code",
   "execution_count": 34,
   "id": "506dc8ce",
   "metadata": {
    "_kg_hide-output": true,
    "execution": {
     "iopub.execute_input": "2022-04-24T14:36:43.684737Z",
     "iopub.status.busy": "2022-04-24T14:36:43.684426Z",
     "iopub.status.idle": "2022-04-24T14:36:49.028553Z",
     "shell.execute_reply": "2022-04-24T14:36:49.027786Z"
    },
    "papermill": {
     "duration": 5.591266,
     "end_time": "2022-04-24T14:36:49.030686",
     "exception": false,
     "start_time": "2022-04-24T14:36:43.439420",
     "status": "completed"
    },
    "tags": []
   },
   "outputs": [
    {
     "name": "stdout",
     "output_type": "stream",
     "text": [
      "Epoch 1/100\n",
      "23/23 [==============================] - 0s 2ms/step - loss: 1.6004e-04\n",
      "Epoch 2/100\n",
      "23/23 [==============================] - 0s 2ms/step - loss: 1.4167e-04\n",
      "Epoch 3/100\n",
      "23/23 [==============================] - 0s 2ms/step - loss: 1.3527e-04\n",
      "Epoch 4/100\n",
      "23/23 [==============================] - 0s 2ms/step - loss: 1.2938e-04\n",
      "Epoch 5/100\n",
      "23/23 [==============================] - 0s 3ms/step - loss: 1.2761e-04\n",
      "Epoch 6/100\n",
      "23/23 [==============================] - 0s 3ms/step - loss: 1.2168e-04\n",
      "Epoch 7/100\n",
      "23/23 [==============================] - 0s 2ms/step - loss: 1.2013e-04\n",
      "Epoch 8/100\n",
      "23/23 [==============================] - 0s 2ms/step - loss: 1.1553e-04\n",
      "Epoch 9/100\n",
      "23/23 [==============================] - 0s 2ms/step - loss: 1.1340e-04\n",
      "Epoch 10/100\n",
      "23/23 [==============================] - 0s 2ms/step - loss: 1.0924e-04\n",
      "Epoch 11/100\n",
      "23/23 [==============================] - 0s 2ms/step - loss: 1.1211e-04\n",
      "Epoch 12/100\n",
      "23/23 [==============================] - 0s 2ms/step - loss: 1.0284e-04\n",
      "Epoch 13/100\n",
      "23/23 [==============================] - 0s 1ms/step - loss: 1.0349e-04\n",
      "Epoch 14/100\n",
      "23/23 [==============================] - 0s 2ms/step - loss: 9.9929e-05\n",
      "Epoch 15/100\n",
      "23/23 [==============================] - 0s 2ms/step - loss: 9.7183e-05\n",
      "Epoch 16/100\n",
      "23/23 [==============================] - 0s 2ms/step - loss: 9.4424e-05\n",
      "Epoch 17/100\n",
      "23/23 [==============================] - 0s 2ms/step - loss: 9.3160e-05\n",
      "Epoch 18/100\n",
      "23/23 [==============================] - 0s 2ms/step - loss: 9.0827e-05\n",
      "Epoch 19/100\n",
      "23/23 [==============================] - 0s 2ms/step - loss: 8.9682e-05\n",
      "Epoch 20/100\n",
      "23/23 [==============================] - 0s 2ms/step - loss: 8.7724e-05\n",
      "Epoch 21/100\n",
      "23/23 [==============================] - 0s 2ms/step - loss: 8.8292e-05\n",
      "Epoch 22/100\n",
      "23/23 [==============================] - 0s 2ms/step - loss: 8.5800e-05\n",
      "Epoch 23/100\n",
      "23/23 [==============================] - 0s 2ms/step - loss: 8.4403e-05\n",
      "Epoch 24/100\n",
      "23/23 [==============================] - 0s 2ms/step - loss: 8.4676e-05\n",
      "Epoch 25/100\n",
      "23/23 [==============================] - 0s 2ms/step - loss: 8.4423e-05\n",
      "Epoch 26/100\n",
      "23/23 [==============================] - 0s 2ms/step - loss: 8.0757e-05\n",
      "Epoch 27/100\n",
      "23/23 [==============================] - 0s 2ms/step - loss: 8.0194e-05\n",
      "Epoch 28/100\n",
      "23/23 [==============================] - 0s 2ms/step - loss: 8.0619e-05\n",
      "Epoch 29/100\n",
      "23/23 [==============================] - 0s 2ms/step - loss: 8.2638e-05\n",
      "Epoch 30/100\n",
      "23/23 [==============================] - 0s 2ms/step - loss: 7.8558e-05\n",
      "Epoch 31/100\n",
      "23/23 [==============================] - 0s 2ms/step - loss: 7.8059e-05\n",
      "Epoch 32/100\n",
      "23/23 [==============================] - 0s 2ms/step - loss: 7.6884e-05\n",
      "Epoch 33/100\n",
      "23/23 [==============================] - 0s 2ms/step - loss: 7.6562e-05\n",
      "Epoch 34/100\n",
      "23/23 [==============================] - 0s 2ms/step - loss: 7.8101e-05\n",
      "Epoch 35/100\n",
      "23/23 [==============================] - 0s 2ms/step - loss: 7.6338e-05\n",
      "Epoch 36/100\n",
      "23/23 [==============================] - 0s 2ms/step - loss: 7.3978e-05\n",
      "Epoch 37/100\n",
      "23/23 [==============================] - 0s 3ms/step - loss: 7.5837e-05\n",
      "Epoch 38/100\n",
      "23/23 [==============================] - 0s 2ms/step - loss: 7.2726e-05\n",
      "Epoch 39/100\n",
      "23/23 [==============================] - 0s 2ms/step - loss: 7.0238e-05\n",
      "Epoch 40/100\n",
      "23/23 [==============================] - 0s 2ms/step - loss: 6.9345e-05\n",
      "Epoch 41/100\n",
      "23/23 [==============================] - 0s 2ms/step - loss: 6.9838e-05\n",
      "Epoch 42/100\n",
      "23/23 [==============================] - 0s 2ms/step - loss: 7.0091e-05\n",
      "Epoch 43/100\n",
      "23/23 [==============================] - 0s 2ms/step - loss: 7.0004e-05\n",
      "Epoch 44/100\n",
      "23/23 [==============================] - 0s 2ms/step - loss: 6.7361e-05\n",
      "Epoch 45/100\n",
      "23/23 [==============================] - 0s 2ms/step - loss: 6.5529e-05\n",
      "Epoch 46/100\n",
      "23/23 [==============================] - 0s 2ms/step - loss: 6.6998e-05\n",
      "Epoch 47/100\n",
      "23/23 [==============================] - 0s 2ms/step - loss: 6.8999e-05\n",
      "Epoch 48/100\n",
      "23/23 [==============================] - 0s 2ms/step - loss: 6.4521e-05\n",
      "Epoch 49/100\n",
      "23/23 [==============================] - 0s 2ms/step - loss: 6.3421e-05\n",
      "Epoch 50/100\n",
      "23/23 [==============================] - 0s 3ms/step - loss: 6.2801e-05\n",
      "Epoch 51/100\n",
      "23/23 [==============================] - 0s 3ms/step - loss: 6.2467e-05\n",
      "Epoch 52/100\n",
      "23/23 [==============================] - 0s 2ms/step - loss: 6.1575e-05\n",
      "Epoch 53/100\n",
      "23/23 [==============================] - 0s 2ms/step - loss: 6.0807e-05\n",
      "Epoch 54/100\n",
      "23/23 [==============================] - 0s 2ms/step - loss: 6.1279e-05\n",
      "Epoch 55/100\n",
      "23/23 [==============================] - 0s 2ms/step - loss: 6.1245e-05\n",
      "Epoch 56/100\n",
      "23/23 [==============================] - 0s 2ms/step - loss: 6.0577e-05\n",
      "Epoch 57/100\n",
      "23/23 [==============================] - 0s 2ms/step - loss: 6.0498e-05\n",
      "Epoch 58/100\n",
      "23/23 [==============================] - 0s 2ms/step - loss: 5.8414e-05\n",
      "Epoch 59/100\n",
      "23/23 [==============================] - 0s 2ms/step - loss: 5.8766e-05\n",
      "Epoch 60/100\n",
      "23/23 [==============================] - 0s 2ms/step - loss: 5.7841e-05\n",
      "Epoch 61/100\n",
      "23/23 [==============================] - 0s 1ms/step - loss: 5.5026e-05\n",
      "Epoch 62/100\n",
      "23/23 [==============================] - 0s 2ms/step - loss: 5.4465e-05\n",
      "Epoch 63/100\n",
      "23/23 [==============================] - 0s 2ms/step - loss: 5.4036e-05\n",
      "Epoch 64/100\n",
      "23/23 [==============================] - 0s 1ms/step - loss: 5.3357e-05\n",
      "Epoch 65/100\n",
      "23/23 [==============================] - 0s 2ms/step - loss: 5.2626e-05\n",
      "Epoch 66/100\n",
      "23/23 [==============================] - 0s 1ms/step - loss: 5.3222e-05\n",
      "Epoch 67/100\n",
      "23/23 [==============================] - 0s 2ms/step - loss: 5.1603e-05\n",
      "Epoch 68/100\n",
      "23/23 [==============================] - 0s 2ms/step - loss: 5.0416e-05\n",
      "Epoch 69/100\n",
      "23/23 [==============================] - 0s 2ms/step - loss: 5.1681e-05\n",
      "Epoch 70/100\n",
      "23/23 [==============================] - 0s 2ms/step - loss: 5.1581e-05\n",
      "Epoch 71/100\n",
      "23/23 [==============================] - 0s 1ms/step - loss: 4.9236e-05\n",
      "Epoch 72/100\n",
      "23/23 [==============================] - 0s 2ms/step - loss: 4.7880e-05\n",
      "Epoch 73/100\n",
      "23/23 [==============================] - 0s 2ms/step - loss: 4.7660e-05\n",
      "Epoch 74/100\n",
      "23/23 [==============================] - 0s 2ms/step - loss: 4.7742e-05\n",
      "Epoch 75/100\n",
      "23/23 [==============================] - 0s 2ms/step - loss: 4.8986e-05\n",
      "Epoch 76/100\n",
      "23/23 [==============================] - 0s 2ms/step - loss: 5.1958e-05\n",
      "Epoch 77/100\n",
      "23/23 [==============================] - 0s 2ms/step - loss: 4.7492e-05\n",
      "Epoch 78/100\n",
      "23/23 [==============================] - 0s 2ms/step - loss: 4.4342e-05\n",
      "Epoch 79/100\n",
      "23/23 [==============================] - 0s 1ms/step - loss: 4.3996e-05\n",
      "Epoch 80/100\n",
      "23/23 [==============================] - 0s 2ms/step - loss: 4.3459e-05\n",
      "Epoch 81/100\n",
      "23/23 [==============================] - 0s 1ms/step - loss: 4.3092e-05\n",
      "Epoch 82/100\n",
      "23/23 [==============================] - 0s 2ms/step - loss: 4.3884e-05\n",
      "Epoch 83/100\n",
      "23/23 [==============================] - 0s 1ms/step - loss: 4.3665e-05\n",
      "Epoch 84/100\n",
      "23/23 [==============================] - 0s 2ms/step - loss: 4.1377e-05\n",
      "Epoch 85/100\n",
      "23/23 [==============================] - 0s 2ms/step - loss: 4.0862e-05\n",
      "Epoch 86/100\n",
      "23/23 [==============================] - 0s 2ms/step - loss: 4.0701e-05\n",
      "Epoch 87/100\n",
      "23/23 [==============================] - 0s 1ms/step - loss: 4.0980e-05\n",
      "Epoch 88/100\n",
      "23/23 [==============================] - 0s 1ms/step - loss: 4.0065e-05\n",
      "Epoch 89/100\n",
      "23/23 [==============================] - 0s 1ms/step - loss: 3.9823e-05\n",
      "Epoch 90/100\n",
      "23/23 [==============================] - 0s 2ms/step - loss: 3.9998e-05\n",
      "Epoch 91/100\n",
      "23/23 [==============================] - 0s 2ms/step - loss: 3.8841e-05\n",
      "Epoch 92/100\n",
      "23/23 [==============================] - 0s 2ms/step - loss: 3.8419e-05\n",
      "Epoch 93/100\n",
      "23/23 [==============================] - 0s 2ms/step - loss: 3.9625e-05\n",
      "Epoch 94/100\n",
      "23/23 [==============================] - 0s 2ms/step - loss: 3.9294e-05\n",
      "Epoch 95/100\n",
      "23/23 [==============================] - 0s 2ms/step - loss: 3.7307e-05\n",
      "Epoch 96/100\n",
      "23/23 [==============================] - 0s 2ms/step - loss: 3.7486e-05\n",
      "Epoch 97/100\n",
      "23/23 [==============================] - 0s 2ms/step - loss: 3.6599e-05\n",
      "Epoch 98/100\n",
      "23/23 [==============================] - 0s 2ms/step - loss: 3.7977e-05\n",
      "Epoch 99/100\n",
      "23/23 [==============================] - 0s 2ms/step - loss: 3.6153e-05\n",
      "Epoch 100/100\n",
      "23/23 [==============================] - 0s 3ms/step - loss: 3.6503e-05\n"
     ]
    },
    {
     "data": {
      "text/plain": [
       "<keras.callbacks.History at 0x7fd3fc2f5510>"
      ]
     },
     "execution_count": 34,
     "metadata": {},
     "output_type": "execute_result"
    }
   ],
   "source": [
    "model.fit(X_train, y_train, epochs=100)"
   ]
  },
  {
   "cell_type": "code",
   "execution_count": 35,
   "id": "2c41592a",
   "metadata": {
    "execution": {
     "iopub.execute_input": "2022-04-24T14:36:49.727674Z",
     "iopub.status.busy": "2022-04-24T14:36:49.726898Z",
     "iopub.status.idle": "2022-04-24T14:36:49.848647Z",
     "shell.execute_reply": "2022-04-24T14:36:49.847502Z"
    },
    "papermill": {
     "duration": 0.4716,
     "end_time": "2022-04-24T14:36:49.851166",
     "exception": false,
     "start_time": "2022-04-24T14:36:49.379566",
     "status": "completed"
    },
    "tags": []
   },
   "outputs": [],
   "source": [
    "y_pred = model.predict(X_test)"
   ]
  },
  {
   "cell_type": "code",
   "execution_count": 36,
   "id": "fc337a3e",
   "metadata": {
    "execution": {
     "iopub.execute_input": "2022-04-24T14:36:50.540868Z",
     "iopub.status.busy": "2022-04-24T14:36:50.540079Z",
     "iopub.status.idle": "2022-04-24T14:36:50.547291Z",
     "shell.execute_reply": "2022-04-24T14:36:50.546096Z"
    },
    "papermill": {
     "duration": 0.354175,
     "end_time": "2022-04-24T14:36:50.550148",
     "exception": false,
     "start_time": "2022-04-24T14:36:50.195973",
     "status": "completed"
    },
    "tags": []
   },
   "outputs": [
    {
     "data": {
      "text/plain": [
       "0.0061136355458137935"
      ]
     },
     "execution_count": 36,
     "metadata": {},
     "output_type": "execute_result"
    }
   ],
   "source": [
    "result = np.sqrt(mean_squared_error(y_test,y_pred))\n",
    "result"
   ]
  },
  {
   "cell_type": "code",
   "execution_count": 37,
   "id": "17a18cf7",
   "metadata": {
    "execution": {
     "iopub.execute_input": "2022-04-24T14:36:51.246952Z",
     "iopub.status.busy": "2022-04-24T14:36:51.246686Z",
     "iopub.status.idle": "2022-04-24T14:36:51.253282Z",
     "shell.execute_reply": "2022-04-24T14:36:51.252427Z"
    },
    "papermill": {
     "duration": 0.356277,
     "end_time": "2022-04-24T14:36:51.255468",
     "exception": false,
     "start_time": "2022-04-24T14:36:50.899191",
     "status": "completed"
    },
    "tags": []
   },
   "outputs": [
    {
     "name": "stdout",
     "output_type": "stream",
     "text": [
      "Model: \"sequential_102\"\n",
      "_________________________________________________________________\n",
      "Layer (type)                 Output Shape              Param #   \n",
      "=================================================================\n",
      "dense_204 (Dense)            (None, 10)                90        \n",
      "_________________________________________________________________\n",
      "dense_205 (Dense)            (None, 1)                 11        \n",
      "=================================================================\n",
      "Total params: 101\n",
      "Trainable params: 101\n",
      "Non-trainable params: 0\n",
      "_________________________________________________________________\n"
     ]
    }
   ],
   "source": [
    "model.summary()"
   ]
  },
  {
   "cell_type": "markdown",
   "id": "f6fa949d",
   "metadata": {
    "papermill": {
     "duration": 0.336083,
     "end_time": "2022-04-24T14:36:51.937772",
     "exception": false,
     "start_time": "2022-04-24T14:36:51.601689",
     "status": "completed"
    },
    "tags": []
   },
   "source": [
    "# C. Repeat steps 1 - 3, 50 times, i.e., create a list of 50 mean squared errors."
   ]
  },
  {
   "cell_type": "code",
   "execution_count": 38,
   "id": "2044f148",
   "metadata": {
    "_kg_hide-output": true,
    "execution": {
     "iopub.execute_input": "2022-04-24T14:36:52.668011Z",
     "iopub.status.busy": "2022-04-24T14:36:52.666822Z",
     "iopub.status.idle": "2022-04-24T14:40:40.043779Z",
     "shell.execute_reply": "2022-04-24T14:40:40.042421Z"
    },
    "papermill": {
     "duration": 227.752941,
     "end_time": "2022-04-24T14:40:40.047806",
     "exception": false,
     "start_time": "2022-04-24T14:36:52.294865",
     "status": "completed"
    },
    "tags": []
   },
   "outputs": [
    {
     "name": "stdout",
     "output_type": "stream",
     "text": [
      "1: sqrt(mse) = 0.008226750747217062\n",
      "***_________________________________***\n",
      "\n",
      "\n",
      "\n",
      "2: sqrt(mse) = 0.005933430673047532\n",
      "***_________________________________***\n",
      "\n",
      "\n",
      "\n",
      "3: sqrt(mse) = 0.0076200664032270455\n",
      "***_________________________________***\n",
      "\n",
      "\n",
      "\n",
      "4: sqrt(mse) = 0.006291693919763972\n",
      "***_________________________________***\n",
      "\n",
      "\n",
      "\n",
      "5: sqrt(mse) = 0.00692570433550958\n",
      "***_________________________________***\n",
      "\n",
      "\n",
      "\n",
      "6: sqrt(mse) = 0.0062468890485515415\n",
      "***_________________________________***\n",
      "\n",
      "\n",
      "\n",
      "7: sqrt(mse) = 0.007204559090801533\n",
      "***_________________________________***\n",
      "\n",
      "\n",
      "\n",
      "8: sqrt(mse) = 0.007376079804048551\n",
      "***_________________________________***\n",
      "\n",
      "\n",
      "\n",
      "9: sqrt(mse) = 0.005662847641679397\n",
      "***_________________________________***\n",
      "\n",
      "\n",
      "\n",
      "10: sqrt(mse) = 0.00819448454226141\n",
      "***_________________________________***\n",
      "\n",
      "\n",
      "\n",
      "11: sqrt(mse) = 0.00836682497592288\n",
      "***_________________________________***\n",
      "\n",
      "\n",
      "\n",
      "12: sqrt(mse) = 0.0066073476612303035\n",
      "***_________________________________***\n",
      "\n",
      "\n",
      "\n",
      "13: sqrt(mse) = 0.008227765087812517\n",
      "***_________________________________***\n",
      "\n",
      "\n",
      "\n",
      "14: sqrt(mse) = 0.006403228644704123\n",
      "***_________________________________***\n",
      "\n",
      "\n",
      "\n",
      "15: sqrt(mse) = 0.008184239012582592\n",
      "***_________________________________***\n",
      "\n",
      "\n",
      "\n",
      "16: sqrt(mse) = 0.0064828994187938775\n",
      "***_________________________________***\n",
      "\n",
      "\n",
      "\n",
      "17: sqrt(mse) = 0.00811918066239141\n",
      "***_________________________________***\n",
      "\n",
      "\n",
      "\n",
      "18: sqrt(mse) = 0.007560446891853981\n",
      "***_________________________________***\n",
      "\n",
      "\n",
      "\n",
      "19: sqrt(mse) = 0.008188171841293359\n",
      "***_________________________________***\n",
      "\n",
      "\n",
      "\n",
      "20: sqrt(mse) = 0.006127127882741404\n",
      "***_________________________________***\n",
      "\n",
      "\n",
      "\n",
      "21: sqrt(mse) = 0.008404975533214948\n",
      "***_________________________________***\n",
      "\n",
      "\n",
      "\n",
      "22: sqrt(mse) = 0.006672755462128375\n",
      "***_________________________________***\n",
      "\n",
      "\n",
      "\n",
      "23: sqrt(mse) = 0.006707032277845725\n",
      "***_________________________________***\n",
      "\n",
      "\n",
      "\n",
      "24: sqrt(mse) = 0.0077545736537258285\n",
      "***_________________________________***\n",
      "\n",
      "\n",
      "\n",
      "25: sqrt(mse) = 0.007572511940778444\n",
      "***_________________________________***\n",
      "\n",
      "\n",
      "\n",
      "26: sqrt(mse) = 0.006875440130331893\n",
      "***_________________________________***\n",
      "\n",
      "\n",
      "\n",
      "27: sqrt(mse) = 0.007405614618799181\n",
      "***_________________________________***\n",
      "\n",
      "\n",
      "\n",
      "28: sqrt(mse) = 0.008116903313563854\n",
      "***_________________________________***\n",
      "\n",
      "\n",
      "\n",
      "29: sqrt(mse) = 0.008255430825468807\n",
      "***_________________________________***\n",
      "\n",
      "\n",
      "\n",
      "30: sqrt(mse) = 0.007239083526594434\n",
      "***_________________________________***\n",
      "\n",
      "\n",
      "\n",
      "31: sqrt(mse) = 0.0061360150048272895\n",
      "***_________________________________***\n",
      "\n",
      "\n",
      "\n",
      "32: sqrt(mse) = 0.006186995722274313\n",
      "***_________________________________***\n",
      "\n",
      "\n",
      "\n",
      "33: sqrt(mse) = 0.006562902495109832\n",
      "***_________________________________***\n",
      "\n",
      "\n",
      "\n",
      "34: sqrt(mse) = 0.005903943445420029\n",
      "***_________________________________***\n",
      "\n",
      "\n",
      "\n",
      "35: sqrt(mse) = 0.00699273641278961\n",
      "***_________________________________***\n",
      "\n",
      "\n",
      "\n",
      "36: sqrt(mse) = 0.00820740612382756\n",
      "***_________________________________***\n",
      "\n",
      "\n",
      "\n",
      "37: sqrt(mse) = 0.007393673716268863\n",
      "***_________________________________***\n",
      "\n",
      "\n",
      "\n",
      "38: sqrt(mse) = 0.00666314973136513\n",
      "***_________________________________***\n",
      "\n",
      "\n",
      "\n",
      "39: sqrt(mse) = 0.00861878305153046\n",
      "***_________________________________***\n",
      "\n",
      "\n",
      "\n",
      "40: sqrt(mse) = 0.007072404979156957\n",
      "***_________________________________***\n",
      "\n",
      "\n",
      "\n",
      "41: sqrt(mse) = 0.006353312639153373\n",
      "***_________________________________***\n",
      "\n",
      "\n",
      "\n",
      "42: sqrt(mse) = 0.00812341950553503\n",
      "***_________________________________***\n",
      "\n",
      "\n",
      "\n",
      "43: sqrt(mse) = 0.00693272797477989\n",
      "***_________________________________***\n",
      "\n",
      "\n",
      "\n",
      "44: sqrt(mse) = 0.007276765355258547\n",
      "***_________________________________***\n",
      "\n",
      "\n",
      "\n",
      "45: sqrt(mse) = 0.005825219790284849\n",
      "***_________________________________***\n",
      "\n",
      "\n",
      "\n",
      "46: sqrt(mse) = 0.008005843078495\n",
      "***_________________________________***\n",
      "\n",
      "\n",
      "\n",
      "47: sqrt(mse) = 0.0061959706662050385\n",
      "***_________________________________***\n",
      "\n",
      "\n",
      "\n",
      "48: sqrt(mse) = 0.007231510329608007\n",
      "***_________________________________***\n",
      "\n",
      "\n",
      "\n",
      "49: sqrt(mse) = 0.008082580632821808\n",
      "***_________________________________***\n",
      "\n",
      "\n",
      "\n",
      "50: sqrt(mse) = 0.008396029325256713\n",
      "***_________________________________***\n",
      "\n",
      "\n",
      "\n"
     ]
    }
   ],
   "source": [
    "MSE_List = []\n",
    "for i in range(50):\n",
    "    #1-Split Data:\n",
    "    X_train, X_test, y_train, y_test = train_test_split(X, y, test_size=0.3, random_state=42)\n",
    "    \n",
    "    model = regression_model()\n",
    "    #2-Train:\n",
    "    model.fit(X_train, y_train, epochs=100, verbose=0)\n",
    "    \n",
    "    #Prediction:\n",
    "    y_pred = model.predict(X_test)\n",
    "    \n",
    "    #3-Evaluate_Model:\n",
    "    result = np.sqrt(mean_squared_error(y_test,y_pred))\n",
    "    print(\"{}: sqrt(mse) = {}\".format(i+1,result))\n",
    "    MSE_List.append(result)\n",
    "    print(\"***_________________________________***\\n\\n\\n\")"
   ]
  },
  {
   "cell_type": "code",
   "execution_count": 39,
   "id": "328721ae",
   "metadata": {
    "_kg_hide-output": true,
    "execution": {
     "iopub.execute_input": "2022-04-24T14:40:40.794026Z",
     "iopub.status.busy": "2022-04-24T14:40:40.793668Z",
     "iopub.status.idle": "2022-04-24T14:40:40.801941Z",
     "shell.execute_reply": "2022-04-24T14:40:40.800697Z"
    },
    "papermill": {
     "duration": 0.383104,
     "end_time": "2022-04-24T14:40:40.804288",
     "exception": false,
     "start_time": "2022-04-24T14:40:40.421184",
     "status": "completed"
    },
    "tags": []
   },
   "outputs": [
    {
     "data": {
      "text/plain": [
       "[0.008226750747217062,\n",
       " 0.005933430673047532,\n",
       " 0.0076200664032270455,\n",
       " 0.006291693919763972,\n",
       " 0.00692570433550958,\n",
       " 0.0062468890485515415,\n",
       " 0.007204559090801533,\n",
       " 0.007376079804048551,\n",
       " 0.005662847641679397,\n",
       " 0.00819448454226141,\n",
       " 0.00836682497592288,\n",
       " 0.0066073476612303035,\n",
       " 0.008227765087812517,\n",
       " 0.006403228644704123,\n",
       " 0.008184239012582592,\n",
       " 0.0064828994187938775,\n",
       " 0.00811918066239141,\n",
       " 0.007560446891853981,\n",
       " 0.008188171841293359,\n",
       " 0.006127127882741404,\n",
       " 0.008404975533214948,\n",
       " 0.006672755462128375,\n",
       " 0.006707032277845725,\n",
       " 0.0077545736537258285,\n",
       " 0.007572511940778444,\n",
       " 0.006875440130331893,\n",
       " 0.007405614618799181,\n",
       " 0.008116903313563854,\n",
       " 0.008255430825468807,\n",
       " 0.007239083526594434,\n",
       " 0.0061360150048272895,\n",
       " 0.006186995722274313,\n",
       " 0.006562902495109832,\n",
       " 0.005903943445420029,\n",
       " 0.00699273641278961,\n",
       " 0.00820740612382756,\n",
       " 0.007393673716268863,\n",
       " 0.00666314973136513,\n",
       " 0.00861878305153046,\n",
       " 0.007072404979156957,\n",
       " 0.006353312639153373,\n",
       " 0.00812341950553503,\n",
       " 0.00693272797477989,\n",
       " 0.007276765355258547,\n",
       " 0.005825219790284849,\n",
       " 0.008005843078495,\n",
       " 0.0061959706662050385,\n",
       " 0.007231510329608007,\n",
       " 0.008082580632821808,\n",
       " 0.008396029325256713]"
      ]
     },
     "execution_count": 39,
     "metadata": {},
     "output_type": "execute_result"
    }
   ],
   "source": [
    "MSE_List"
   ]
  },
  {
   "cell_type": "markdown",
   "id": "3d73ab45",
   "metadata": {
    "papermill": {
     "duration": 0.363093,
     "end_time": "2022-04-24T14:40:41.538872",
     "exception": false,
     "start_time": "2022-04-24T14:40:41.175779",
     "status": "completed"
    },
    "tags": []
   },
   "source": [
    "# C. Results\n",
    "**Report mean square MSE and std square MSE**"
   ]
  },
  {
   "cell_type": "code",
   "execution_count": 40,
   "id": "5486d93b",
   "metadata": {
    "execution": {
     "iopub.execute_input": "2022-04-24T14:40:42.283143Z",
     "iopub.status.busy": "2022-04-24T14:40:42.282076Z",
     "iopub.status.idle": "2022-04-24T14:40:42.295375Z",
     "shell.execute_reply": "2022-04-24T14:40:42.294064Z"
    },
    "papermill": {
     "duration": 0.385971,
     "end_time": "2022-04-24T14:40:42.297266",
     "exception": false,
     "start_time": "2022-04-24T14:40:41.911295",
     "status": "completed"
    },
    "tags": []
   },
   "outputs": [
    {
     "data": {
      "text/html": [
       "<div>\n",
       "<style scoped>\n",
       "    .dataframe tbody tr th:only-of-type {\n",
       "        vertical-align: middle;\n",
       "    }\n",
       "\n",
       "    .dataframe tbody tr th {\n",
       "        vertical-align: top;\n",
       "    }\n",
       "\n",
       "    .dataframe thead th {\n",
       "        text-align: right;\n",
       "    }\n",
       "</style>\n",
       "<table border=\"1\" class=\"dataframe\">\n",
       "  <thead>\n",
       "    <tr style=\"text-align: right;\">\n",
       "      <th></th>\n",
       "      <th>Part</th>\n",
       "      <th>mean_sq_mse</th>\n",
       "      <th>std_sq_mse</th>\n",
       "    </tr>\n",
       "  </thead>\n",
       "  <tbody>\n",
       "    <tr>\n",
       "      <th>0</th>\n",
       "      <td>C</td>\n",
       "      <td>0.007222</td>\n",
       "      <td>0.000844</td>\n",
       "    </tr>\n",
       "  </tbody>\n",
       "</table>\n",
       "</div>"
      ],
      "text/plain": [
       "  Part  mean_sq_mse  std_sq_mse\n",
       "0    C     0.007222    0.000844"
      ]
     },
     "execution_count": 40,
     "metadata": {},
     "output_type": "execute_result"
    }
   ],
   "source": [
    "# Calculate the mean and the standard deviation of the metric on the 50 samplings\n",
    "mean_sqmse_C = np.mean(MSE_List)\n",
    "std_sqmse_C  = np.std(MSE_List)\n",
    "\n",
    "# Generate a data frame to store the results of the differents parts of this project\n",
    "df_results = pd.DataFrame.from_dict({\"Part\": [\"C\"],\"mean_sq_mse\": [mean_sqmse_C], \"std_sq_mse\": [std_sqmse_C]})\n",
    "df_results"
   ]
  },
  {
   "cell_type": "markdown",
   "id": "6cb48e93",
   "metadata": {
    "papermill": {
     "duration": 0.37523,
     "end_time": "2022-04-24T14:40:43.044940",
     "exception": false,
     "start_time": "2022-04-24T14:40:42.669710",
     "status": "completed"
    },
    "tags": []
   },
   "source": [
    "# C.Q: How does the mean of the mean squared errors compare to that from Step B?\n",
    "### We had a decrease in mean_sq_mse, but not much, and std_sq_mse also increased slightly."
   ]
  },
  {
   "cell_type": "markdown",
   "id": "b77346ac",
   "metadata": {
    "papermill": {
     "duration": 0.373367,
     "end_time": "2022-04-24T14:40:43.797443",
     "exception": false,
     "start_time": "2022-04-24T14:40:43.424076",
     "status": "completed"
    },
    "tags": []
   },
   "source": [
    "# Part D\n",
    "**D. Increase the number of hidden layers**\n",
    "\n",
    "Repeat part B but use a neural network with the following instead:\n",
    "\n",
    "- Three hidden layers, each of 10 nodes and ReLU activation function."
   ]
  },
  {
   "cell_type": "markdown",
   "id": "2ea98c13",
   "metadata": {
    "papermill": {
     "duration": 0.376732,
     "end_time": "2022-04-24T14:40:44.546172",
     "exception": false,
     "start_time": "2022-04-24T14:40:44.169440",
     "status": "completed"
    },
    "tags": []
   },
   "source": [
    "# D. Model"
   ]
  },
  {
   "cell_type": "code",
   "execution_count": 41,
   "id": "13029dcc",
   "metadata": {
    "execution": {
     "iopub.execute_input": "2022-04-24T14:40:45.296086Z",
     "iopub.status.busy": "2022-04-24T14:40:45.295126Z",
     "iopub.status.idle": "2022-04-24T14:40:45.301830Z",
     "shell.execute_reply": "2022-04-24T14:40:45.301218Z"
    },
    "papermill": {
     "duration": 0.382322,
     "end_time": "2022-04-24T14:40:45.304212",
     "exception": false,
     "start_time": "2022-04-24T14:40:44.921890",
     "status": "completed"
    },
    "tags": []
   },
   "outputs": [],
   "source": [
    "def regression_model():\n",
    "    # create model\n",
    "    model = Sequential()\n",
    "    model.add(Dense(10, input_dim=8, activation='relu'))\n",
    "    model.add(Dense(10, input_dim=8, activation='relu'))\n",
    "    model.add(Dense(10, input_dim=8, activation='relu'))\n",
    "    model.add(Dense(1, kernel_initializer='normal'))\n",
    "    # Compile model\n",
    "    model.compile(loss='mean_squared_error', optimizer='adam')\n",
    "    return model"
   ]
  },
  {
   "cell_type": "code",
   "execution_count": 42,
   "id": "7baafffb",
   "metadata": {
    "execution": {
     "iopub.execute_input": "2022-04-24T14:40:46.049715Z",
     "iopub.status.busy": "2022-04-24T14:40:46.049148Z",
     "iopub.status.idle": "2022-04-24T14:40:46.090732Z",
     "shell.execute_reply": "2022-04-24T14:40:46.089864Z"
    },
    "papermill": {
     "duration": 0.417327,
     "end_time": "2022-04-24T14:40:46.093112",
     "exception": false,
     "start_time": "2022-04-24T14:40:45.675785",
     "status": "completed"
    },
    "tags": []
   },
   "outputs": [],
   "source": [
    "model = regression_model()"
   ]
  },
  {
   "cell_type": "code",
   "execution_count": 43,
   "id": "14083d98",
   "metadata": {
    "_kg_hide-output": true,
    "execution": {
     "iopub.execute_input": "2022-04-24T14:40:46.843291Z",
     "iopub.status.busy": "2022-04-24T14:40:46.842971Z",
     "iopub.status.idle": "2022-04-24T14:40:50.662946Z",
     "shell.execute_reply": "2022-04-24T14:40:50.661603Z"
    },
    "papermill": {
     "duration": 4.199984,
     "end_time": "2022-04-24T14:40:50.665416",
     "exception": false,
     "start_time": "2022-04-24T14:40:46.465432",
     "status": "completed"
    },
    "tags": []
   },
   "outputs": [
    {
     "name": "stdout",
     "output_type": "stream",
     "text": [
      "Epoch 1/50\n",
      "23/23 [==============================] - 1s 3ms/step - loss: 2.5544e-04\n",
      "Epoch 2/50\n",
      "23/23 [==============================] - 0s 3ms/step - loss: 1.6628e-04\n",
      "Epoch 3/50\n",
      "23/23 [==============================] - 0s 2ms/step - loss: 1.6114e-04\n",
      "Epoch 4/50\n",
      "23/23 [==============================] - 0s 2ms/step - loss: 1.5516e-04\n",
      "Epoch 5/50\n",
      "23/23 [==============================] - 0s 3ms/step - loss: 1.5174e-04\n",
      "Epoch 6/50\n",
      "23/23 [==============================] - 0s 2ms/step - loss: 1.4512e-04\n",
      "Epoch 7/50\n",
      "23/23 [==============================] - 0s 3ms/step - loss: 1.4050e-04\n",
      "Epoch 8/50\n",
      "23/23 [==============================] - 0s 3ms/step - loss: 1.3689e-04\n",
      "Epoch 9/50\n",
      "23/23 [==============================] - 0s 3ms/step - loss: 1.3379e-04\n",
      "Epoch 10/50\n",
      "23/23 [==============================] - 0s 2ms/step - loss: 1.3022e-04\n",
      "Epoch 11/50\n",
      "23/23 [==============================] - 0s 3ms/step - loss: 1.2704e-04\n",
      "Epoch 12/50\n",
      "23/23 [==============================] - 0s 2ms/step - loss: 1.2740e-04\n",
      "Epoch 13/50\n",
      "23/23 [==============================] - 0s 3ms/step - loss: 1.2314e-04\n",
      "Epoch 14/50\n",
      "23/23 [==============================] - 0s 3ms/step - loss: 1.2124e-04\n",
      "Epoch 15/50\n",
      "23/23 [==============================] - 0s 2ms/step - loss: 1.1907e-04\n",
      "Epoch 16/50\n",
      "23/23 [==============================] - 0s 3ms/step - loss: 1.1700e-04\n",
      "Epoch 17/50\n",
      "23/23 [==============================] - 0s 2ms/step - loss: 1.1295e-04\n",
      "Epoch 18/50\n",
      "23/23 [==============================] - 0s 3ms/step - loss: 1.1179e-04\n",
      "Epoch 19/50\n",
      "23/23 [==============================] - 0s 3ms/step - loss: 1.1111e-04\n",
      "Epoch 20/50\n",
      "23/23 [==============================] - 0s 4ms/step - loss: 1.0757e-04\n",
      "Epoch 21/50\n",
      "23/23 [==============================] - 0s 4ms/step - loss: 1.0522e-04\n",
      "Epoch 22/50\n",
      "23/23 [==============================] - 0s 3ms/step - loss: 1.0127e-04\n",
      "Epoch 23/50\n",
      "23/23 [==============================] - 0s 2ms/step - loss: 1.0135e-04\n",
      "Epoch 24/50\n",
      "23/23 [==============================] - 0s 3ms/step - loss: 1.0005e-04\n",
      "Epoch 25/50\n",
      "23/23 [==============================] - 0s 3ms/step - loss: 1.0107e-04\n",
      "Epoch 26/50\n",
      "23/23 [==============================] - 0s 3ms/step - loss: 9.7276e-05\n",
      "Epoch 27/50\n",
      "23/23 [==============================] - 0s 3ms/step - loss: 9.3163e-05\n",
      "Epoch 28/50\n",
      "23/23 [==============================] - 0s 3ms/step - loss: 9.0294e-05\n",
      "Epoch 29/50\n",
      "23/23 [==============================] - 0s 3ms/step - loss: 8.9834e-05\n",
      "Epoch 30/50\n",
      "23/23 [==============================] - 0s 3ms/step - loss: 8.8949e-05\n",
      "Epoch 31/50\n",
      "23/23 [==============================] - 0s 3ms/step - loss: 8.5868e-05\n",
      "Epoch 32/50\n",
      "23/23 [==============================] - 0s 2ms/step - loss: 8.6738e-05\n",
      "Epoch 33/50\n",
      "23/23 [==============================] - 0s 3ms/step - loss: 8.5793e-05\n",
      "Epoch 34/50\n",
      "23/23 [==============================] - 0s 2ms/step - loss: 8.2519e-05\n",
      "Epoch 35/50\n",
      "23/23 [==============================] - 0s 3ms/step - loss: 8.1637e-05\n",
      "Epoch 36/50\n",
      "23/23 [==============================] - 0s 2ms/step - loss: 8.1087e-05\n",
      "Epoch 37/50\n",
      "23/23 [==============================] - 0s 3ms/step - loss: 7.6503e-05\n",
      "Epoch 38/50\n",
      "23/23 [==============================] - 0s 3ms/step - loss: 7.4773e-05\n",
      "Epoch 39/50\n",
      "23/23 [==============================] - 0s 2ms/step - loss: 7.4605e-05\n",
      "Epoch 40/50\n",
      "23/23 [==============================] - 0s 3ms/step - loss: 7.4629e-05\n",
      "Epoch 41/50\n",
      "23/23 [==============================] - 0s 3ms/step - loss: 7.1020e-05\n",
      "Epoch 42/50\n",
      "23/23 [==============================] - 0s 2ms/step - loss: 6.7736e-05\n",
      "Epoch 43/50\n",
      "23/23 [==============================] - 0s 3ms/step - loss: 7.3911e-05\n",
      "Epoch 44/50\n",
      "23/23 [==============================] - 0s 2ms/step - loss: 6.5674e-05\n",
      "Epoch 45/50\n",
      "23/23 [==============================] - 0s 3ms/step - loss: 6.4291e-05\n",
      "Epoch 46/50\n",
      "23/23 [==============================] - 0s 3ms/step - loss: 6.6366e-05\n",
      "Epoch 47/50\n",
      "23/23 [==============================] - 0s 3ms/step - loss: 6.1692e-05\n",
      "Epoch 48/50\n",
      "23/23 [==============================] - 0s 3ms/step - loss: 6.4202e-05\n",
      "Epoch 49/50\n",
      "23/23 [==============================] - 0s 3ms/step - loss: 5.9323e-05\n",
      "Epoch 50/50\n",
      "23/23 [==============================] - 0s 3ms/step - loss: 5.8088e-05\n"
     ]
    },
    {
     "data": {
      "text/plain": [
       "<keras.callbacks.History at 0x7fd3e06e6290>"
      ]
     },
     "execution_count": 43,
     "metadata": {},
     "output_type": "execute_result"
    }
   ],
   "source": [
    "model.fit(X_train, y_train, epochs=50)"
   ]
  },
  {
   "cell_type": "code",
   "execution_count": 44,
   "id": "da6ac60c",
   "metadata": {
    "execution": {
     "iopub.execute_input": "2022-04-24T14:40:51.549177Z",
     "iopub.status.busy": "2022-04-24T14:40:51.547660Z",
     "iopub.status.idle": "2022-04-24T14:40:51.702537Z",
     "shell.execute_reply": "2022-04-24T14:40:51.701696Z"
    },
    "papermill": {
     "duration": 0.594477,
     "end_time": "2022-04-24T14:40:51.705395",
     "exception": false,
     "start_time": "2022-04-24T14:40:51.110918",
     "status": "completed"
    },
    "tags": []
   },
   "outputs": [],
   "source": [
    "y_pred = model.predict(X_test)"
   ]
  },
  {
   "cell_type": "code",
   "execution_count": 45,
   "id": "334eb8ef",
   "metadata": {
    "execution": {
     "iopub.execute_input": "2022-04-24T14:40:52.699752Z",
     "iopub.status.busy": "2022-04-24T14:40:52.699467Z",
     "iopub.status.idle": "2022-04-24T14:40:52.705908Z",
     "shell.execute_reply": "2022-04-24T14:40:52.705386Z"
    },
    "papermill": {
     "duration": 0.557678,
     "end_time": "2022-04-24T14:40:52.708445",
     "exception": false,
     "start_time": "2022-04-24T14:40:52.150767",
     "status": "completed"
    },
    "tags": []
   },
   "outputs": [
    {
     "data": {
      "text/plain": [
       "0.0077174860612684824"
      ]
     },
     "execution_count": 45,
     "metadata": {},
     "output_type": "execute_result"
    }
   ],
   "source": [
    "result = np.sqrt(mean_squared_error(y_test,y_pred))\n",
    "result"
   ]
  },
  {
   "cell_type": "code",
   "execution_count": 46,
   "id": "b63ebd1b",
   "metadata": {
    "execution": {
     "iopub.execute_input": "2022-04-24T14:40:53.610120Z",
     "iopub.status.busy": "2022-04-24T14:40:53.609685Z",
     "iopub.status.idle": "2022-04-24T14:40:53.617679Z",
     "shell.execute_reply": "2022-04-24T14:40:53.616867Z"
    },
    "papermill": {
     "duration": 0.463859,
     "end_time": "2022-04-24T14:40:53.619865",
     "exception": false,
     "start_time": "2022-04-24T14:40:53.156006",
     "status": "completed"
    },
    "tags": []
   },
   "outputs": [
    {
     "name": "stdout",
     "output_type": "stream",
     "text": [
      "Model: \"sequential_153\"\n",
      "_________________________________________________________________\n",
      "Layer (type)                 Output Shape              Param #   \n",
      "=================================================================\n",
      "dense_306 (Dense)            (None, 10)                90        \n",
      "_________________________________________________________________\n",
      "dense_307 (Dense)            (None, 10)                110       \n",
      "_________________________________________________________________\n",
      "dense_308 (Dense)            (None, 10)                110       \n",
      "_________________________________________________________________\n",
      "dense_309 (Dense)            (None, 1)                 11        \n",
      "=================================================================\n",
      "Total params: 321\n",
      "Trainable params: 321\n",
      "Non-trainable params: 0\n",
      "_________________________________________________________________\n"
     ]
    }
   ],
   "source": [
    "model.summary()"
   ]
  },
  {
   "cell_type": "markdown",
   "id": "8eb70cf3",
   "metadata": {
    "papermill": {
     "duration": 0.28645,
     "end_time": "2022-04-24T14:40:54.191543",
     "exception": false,
     "start_time": "2022-04-24T14:40:53.905093",
     "status": "completed"
    },
    "tags": []
   },
   "source": [
    "# D. Repeat steps 1 - 3, 50 times, i.e., create a list of 50 mean squared errors."
   ]
  },
  {
   "cell_type": "code",
   "execution_count": 47,
   "id": "b801facf",
   "metadata": {
    "_kg_hide-output": true,
    "execution": {
     "iopub.execute_input": "2022-04-24T14:40:54.776087Z",
     "iopub.status.busy": "2022-04-24T14:40:54.775787Z",
     "iopub.status.idle": "2022-04-24T14:43:48.445668Z",
     "shell.execute_reply": "2022-04-24T14:43:48.444388Z"
    },
    "papermill": {
     "duration": 173.965519,
     "end_time": "2022-04-24T14:43:48.448268",
     "exception": false,
     "start_time": "2022-04-24T14:40:54.482749",
     "status": "completed"
    },
    "tags": []
   },
   "outputs": [
    {
     "name": "stdout",
     "output_type": "stream",
     "text": [
      "1: sqrt(mse) = 0.006230406989858119\n",
      "***_________________________________***\n",
      "\n",
      "\n",
      "\n",
      "2: sqrt(mse) = 0.006953670956050892\n",
      "***_________________________________***\n",
      "\n",
      "\n",
      "\n",
      "3: sqrt(mse) = 0.007687770800226865\n",
      "***_________________________________***\n",
      "\n",
      "\n",
      "\n",
      "4: sqrt(mse) = 0.006832071994583188\n",
      "***_________________________________***\n",
      "\n",
      "\n",
      "\n",
      "5: sqrt(mse) = 0.008261719655426472\n",
      "***_________________________________***\n",
      "\n",
      "\n",
      "\n",
      "6: sqrt(mse) = 0.006136855025163935\n",
      "***_________________________________***\n",
      "\n",
      "\n",
      "\n",
      "7: sqrt(mse) = 0.006801128115453124\n",
      "***_________________________________***\n",
      "\n",
      "\n",
      "\n",
      "8: sqrt(mse) = 0.006729118753173897\n",
      "***_________________________________***\n",
      "\n",
      "\n",
      "\n",
      "9: sqrt(mse) = 0.007686537358671594\n",
      "***_________________________________***\n",
      "\n",
      "\n",
      "\n",
      "10: sqrt(mse) = 0.007293690791444673\n",
      "***_________________________________***\n",
      "\n",
      "\n",
      "\n",
      "11: sqrt(mse) = 0.006817313735726845\n",
      "***_________________________________***\n",
      "\n",
      "\n",
      "\n",
      "12: sqrt(mse) = 0.007045622062330836\n",
      "***_________________________________***\n",
      "\n",
      "\n",
      "\n",
      "13: sqrt(mse) = 0.007735181311010573\n",
      "***_________________________________***\n",
      "\n",
      "\n",
      "\n",
      "14: sqrt(mse) = 0.0070157425208156035\n",
      "***_________________________________***\n",
      "\n",
      "\n",
      "\n",
      "15: sqrt(mse) = 0.006505712542647821\n",
      "***_________________________________***\n",
      "\n",
      "\n",
      "\n",
      "16: sqrt(mse) = 0.00656378787307275\n",
      "***_________________________________***\n",
      "\n",
      "\n",
      "\n",
      "17: sqrt(mse) = 0.007419241245878189\n",
      "***_________________________________***\n",
      "\n",
      "\n",
      "\n",
      "18: sqrt(mse) = 0.00702026768661621\n",
      "***_________________________________***\n",
      "\n",
      "\n",
      "\n",
      "19: sqrt(mse) = 0.00639379108247713\n",
      "***_________________________________***\n",
      "\n",
      "\n",
      "\n",
      "20: sqrt(mse) = 0.0063965466440104035\n",
      "***_________________________________***\n",
      "\n",
      "\n",
      "\n",
      "21: sqrt(mse) = 0.008152835061097007\n",
      "***_________________________________***\n",
      "\n",
      "\n",
      "\n",
      "22: sqrt(mse) = 0.007510613859611554\n",
      "***_________________________________***\n",
      "\n",
      "\n",
      "\n",
      "23: sqrt(mse) = 0.008313758040298313\n",
      "***_________________________________***\n",
      "\n",
      "\n",
      "\n",
      "24: sqrt(mse) = 0.006276500071263641\n",
      "***_________________________________***\n",
      "\n",
      "\n",
      "\n",
      "25: sqrt(mse) = 0.006755201659940734\n",
      "***_________________________________***\n",
      "\n",
      "\n",
      "\n",
      "26: sqrt(mse) = 0.007844029340675913\n",
      "***_________________________________***\n",
      "\n",
      "\n",
      "\n",
      "27: sqrt(mse) = 0.006780580963661937\n",
      "***_________________________________***\n",
      "\n",
      "\n",
      "\n",
      "28: sqrt(mse) = 0.006776437992813839\n",
      "***_________________________________***\n",
      "\n",
      "\n",
      "\n",
      "29: sqrt(mse) = 0.007138227303496787\n",
      "***_________________________________***\n",
      "\n",
      "\n",
      "\n",
      "30: sqrt(mse) = 0.006929345155786663\n",
      "***_________________________________***\n",
      "\n",
      "\n",
      "\n",
      "31: sqrt(mse) = 0.007968260346121098\n",
      "***_________________________________***\n",
      "\n",
      "\n",
      "\n",
      "32: sqrt(mse) = 0.006209845880472454\n",
      "***_________________________________***\n",
      "\n",
      "\n",
      "\n",
      "33: sqrt(mse) = 0.006740580229523551\n",
      "***_________________________________***\n",
      "\n",
      "\n",
      "\n",
      "34: sqrt(mse) = 0.00640616597365763\n",
      "***_________________________________***\n",
      "\n",
      "\n",
      "\n",
      "35: sqrt(mse) = 0.00683950271909451\n",
      "***_________________________________***\n",
      "\n",
      "\n",
      "\n",
      "36: sqrt(mse) = 0.007180853064954085\n",
      "***_________________________________***\n",
      "\n",
      "\n",
      "\n",
      "37: sqrt(mse) = 0.0089535318159834\n",
      "***_________________________________***\n",
      "\n",
      "\n",
      "\n",
      "38: sqrt(mse) = 0.008204231006794713\n",
      "***_________________________________***\n",
      "\n",
      "\n",
      "\n",
      "39: sqrt(mse) = 0.007367611035291861\n",
      "***_________________________________***\n",
      "\n",
      "\n",
      "\n",
      "40: sqrt(mse) = 0.007746633444577771\n",
      "***_________________________________***\n",
      "\n",
      "\n",
      "\n",
      "41: sqrt(mse) = 0.00972952919388921\n",
      "***_________________________________***\n",
      "\n",
      "\n",
      "\n",
      "42: sqrt(mse) = 0.006046885708886953\n",
      "***_________________________________***\n",
      "\n",
      "\n",
      "\n",
      "43: sqrt(mse) = 0.007321902337899094\n",
      "***_________________________________***\n",
      "\n",
      "\n",
      "\n",
      "44: sqrt(mse) = 0.007189399604867832\n",
      "***_________________________________***\n",
      "\n",
      "\n",
      "\n",
      "45: sqrt(mse) = 0.00668464805890123\n",
      "***_________________________________***\n",
      "\n",
      "\n",
      "\n",
      "46: sqrt(mse) = 0.006453086614327865\n",
      "***_________________________________***\n",
      "\n",
      "\n",
      "\n",
      "47: sqrt(mse) = 0.00596979303690053\n",
      "***_________________________________***\n",
      "\n",
      "\n",
      "\n",
      "48: sqrt(mse) = 0.007911208466974493\n",
      "***_________________________________***\n",
      "\n",
      "\n",
      "\n",
      "49: sqrt(mse) = 0.006677424492884597\n",
      "***_________________________________***\n",
      "\n",
      "\n",
      "\n",
      "50: sqrt(mse) = 0.006947365640515932\n",
      "***_________________________________***\n",
      "\n",
      "\n",
      "\n"
     ]
    }
   ],
   "source": [
    "MSE_List = []\n",
    "for i in range(50):\n",
    "    #1-Split Data:\n",
    "    X_train, X_test, y_train, y_test = train_test_split(X, y, test_size=0.3, random_state=42)\n",
    "    \n",
    "    model = regression_model()\n",
    "    #2-Train:\n",
    "    model.fit(X_train, y_train, epochs=50, verbose=0)\n",
    "    \n",
    "    #Prediction:\n",
    "    y_pred = model.predict(X_test)\n",
    "    \n",
    "    #3-Evaluate_Model:\n",
    "    result = np.sqrt(mean_squared_error(y_test,y_pred))\n",
    "    print(\"{}: sqrt(mse) = {}\".format(i+1,result))\n",
    "    MSE_List.append(result)\n",
    "    print(\"***_________________________________***\\n\\n\\n\")"
   ]
  },
  {
   "cell_type": "code",
   "execution_count": 48,
   "id": "bc0bc27e",
   "metadata": {
    "_kg_hide-output": true,
    "execution": {
     "iopub.execute_input": "2022-04-24T14:43:49.068241Z",
     "iopub.status.busy": "2022-04-24T14:43:49.067917Z",
     "iopub.status.idle": "2022-04-24T14:43:49.076239Z",
     "shell.execute_reply": "2022-04-24T14:43:49.075427Z"
    },
    "papermill": {
     "duration": 0.319036,
     "end_time": "2022-04-24T14:43:49.078459",
     "exception": false,
     "start_time": "2022-04-24T14:43:48.759423",
     "status": "completed"
    },
    "tags": []
   },
   "outputs": [
    {
     "data": {
      "text/plain": [
       "[0.006230406989858119,\n",
       " 0.006953670956050892,\n",
       " 0.007687770800226865,\n",
       " 0.006832071994583188,\n",
       " 0.008261719655426472,\n",
       " 0.006136855025163935,\n",
       " 0.006801128115453124,\n",
       " 0.006729118753173897,\n",
       " 0.007686537358671594,\n",
       " 0.007293690791444673,\n",
       " 0.006817313735726845,\n",
       " 0.007045622062330836,\n",
       " 0.007735181311010573,\n",
       " 0.0070157425208156035,\n",
       " 0.006505712542647821,\n",
       " 0.00656378787307275,\n",
       " 0.007419241245878189,\n",
       " 0.00702026768661621,\n",
       " 0.00639379108247713,\n",
       " 0.0063965466440104035,\n",
       " 0.008152835061097007,\n",
       " 0.007510613859611554,\n",
       " 0.008313758040298313,\n",
       " 0.006276500071263641,\n",
       " 0.006755201659940734,\n",
       " 0.007844029340675913,\n",
       " 0.006780580963661937,\n",
       " 0.006776437992813839,\n",
       " 0.007138227303496787,\n",
       " 0.006929345155786663,\n",
       " 0.007968260346121098,\n",
       " 0.006209845880472454,\n",
       " 0.006740580229523551,\n",
       " 0.00640616597365763,\n",
       " 0.00683950271909451,\n",
       " 0.007180853064954085,\n",
       " 0.0089535318159834,\n",
       " 0.008204231006794713,\n",
       " 0.007367611035291861,\n",
       " 0.007746633444577771,\n",
       " 0.00972952919388921,\n",
       " 0.006046885708886953,\n",
       " 0.007321902337899094,\n",
       " 0.007189399604867832,\n",
       " 0.00668464805890123,\n",
       " 0.006453086614327865,\n",
       " 0.00596979303690053,\n",
       " 0.007911208466974493,\n",
       " 0.006677424492884597,\n",
       " 0.006947365640515932]"
      ]
     },
     "execution_count": 48,
     "metadata": {},
     "output_type": "execute_result"
    }
   ],
   "source": [
    "MSE_List"
   ]
  },
  {
   "cell_type": "markdown",
   "id": "7a6df69d",
   "metadata": {
    "papermill": {
     "duration": 0.307384,
     "end_time": "2022-04-24T14:43:49.696387",
     "exception": false,
     "start_time": "2022-04-24T14:43:49.389003",
     "status": "completed"
    },
    "tags": []
   },
   "source": [
    "# D. Result"
   ]
  },
  {
   "cell_type": "code",
   "execution_count": 49,
   "id": "57a39eab",
   "metadata": {
    "execution": {
     "iopub.execute_input": "2022-04-24T14:43:50.323841Z",
     "iopub.status.busy": "2022-04-24T14:43:50.323243Z",
     "iopub.status.idle": "2022-04-24T14:43:50.335517Z",
     "shell.execute_reply": "2022-04-24T14:43:50.334644Z"
    },
    "papermill": {
     "duration": 0.328907,
     "end_time": "2022-04-24T14:43:50.337983",
     "exception": false,
     "start_time": "2022-04-24T14:43:50.009076",
     "status": "completed"
    },
    "tags": []
   },
   "outputs": [
    {
     "data": {
      "text/html": [
       "<div>\n",
       "<style scoped>\n",
       "    .dataframe tbody tr th:only-of-type {\n",
       "        vertical-align: middle;\n",
       "    }\n",
       "\n",
       "    .dataframe tbody tr th {\n",
       "        vertical-align: top;\n",
       "    }\n",
       "\n",
       "    .dataframe thead th {\n",
       "        text-align: right;\n",
       "    }\n",
       "</style>\n",
       "<table border=\"1\" class=\"dataframe\">\n",
       "  <thead>\n",
       "    <tr style=\"text-align: right;\">\n",
       "      <th></th>\n",
       "      <th>Part</th>\n",
       "      <th>mean_sq_mse</th>\n",
       "      <th>std_sq_mse</th>\n",
       "    </tr>\n",
       "  </thead>\n",
       "  <tbody>\n",
       "    <tr>\n",
       "      <th>0</th>\n",
       "      <td>D</td>\n",
       "      <td>0.007131</td>\n",
       "      <td>0.000759</td>\n",
       "    </tr>\n",
       "  </tbody>\n",
       "</table>\n",
       "</div>"
      ],
      "text/plain": [
       "  Part  mean_sq_mse  std_sq_mse\n",
       "0    D     0.007131    0.000759"
      ]
     },
     "execution_count": 49,
     "metadata": {},
     "output_type": "execute_result"
    }
   ],
   "source": [
    "# Calculate the mean and the standard deviation of the metric on the 50 samplings\n",
    "mean_sqmse_D = np.mean(MSE_List)\n",
    "std_sqmse_D  = np.std(MSE_List)\n",
    "\n",
    "# Generate a data frame to store the results of the differents parts of this project\n",
    "df_results = pd.DataFrame.from_dict({\"Part\": [\"D\"],\"mean_sq_mse\": [mean_sqmse_D], \"std_sq_mse\": [std_sqmse_D]})\n",
    "df_results"
   ]
  },
  {
   "cell_type": "markdown",
   "id": "5bf86250",
   "metadata": {
    "papermill": {
     "duration": 0.468306,
     "end_time": "2022-04-24T14:43:51.273620",
     "exception": false,
     "start_time": "2022-04-24T14:43:50.805314",
     "status": "completed"
    },
    "tags": []
   },
   "source": [
    "# **D.Q: How does the mean of the mean squared errors compare to that from Step B?**\n",
    "### Both mean_sq_mse and std_sq_mse are reduced."
   ]
  },
  {
   "cell_type": "markdown",
   "id": "4626c842",
   "metadata": {
    "papermill": {
     "duration": 0.472629,
     "end_time": "2022-04-24T14:43:52.214371",
     "exception": false,
     "start_time": "2022-04-24T14:43:51.741742",
     "status": "completed"
    },
    "tags": []
   },
   "source": [
    "# **All Results**"
   ]
  },
  {
   "cell_type": "code",
   "execution_count": 50,
   "id": "462b3ff1",
   "metadata": {
    "execution": {
     "iopub.execute_input": "2022-04-24T14:43:53.159404Z",
     "iopub.status.busy": "2022-04-24T14:43:53.159084Z",
     "iopub.status.idle": "2022-04-24T14:43:53.171706Z",
     "shell.execute_reply": "2022-04-24T14:43:53.170639Z"
    },
    "papermill": {
     "duration": 0.485129,
     "end_time": "2022-04-24T14:43:53.173623",
     "exception": false,
     "start_time": "2022-04-24T14:43:52.688494",
     "status": "completed"
    },
    "tags": []
   },
   "outputs": [
    {
     "data": {
      "text/html": [
       "<div>\n",
       "<style scoped>\n",
       "    .dataframe tbody tr th:only-of-type {\n",
       "        vertical-align: middle;\n",
       "    }\n",
       "\n",
       "    .dataframe tbody tr th {\n",
       "        vertical-align: top;\n",
       "    }\n",
       "\n",
       "    .dataframe thead th {\n",
       "        text-align: right;\n",
       "    }\n",
       "</style>\n",
       "<table border=\"1\" class=\"dataframe\">\n",
       "  <thead>\n",
       "    <tr style=\"text-align: right;\">\n",
       "      <th></th>\n",
       "      <th>Part</th>\n",
       "      <th>mean_sq_mse</th>\n",
       "      <th>std_sq_mse</th>\n",
       "    </tr>\n",
       "  </thead>\n",
       "  <tbody>\n",
       "    <tr>\n",
       "      <th>0</th>\n",
       "      <td>A</td>\n",
       "      <td>10.267254</td>\n",
       "      <td>1.092846</td>\n",
       "    </tr>\n",
       "    <tr>\n",
       "      <th>1</th>\n",
       "      <td>B</td>\n",
       "      <td>0.008122</td>\n",
       "      <td>0.000954</td>\n",
       "    </tr>\n",
       "    <tr>\n",
       "      <th>2</th>\n",
       "      <td>C</td>\n",
       "      <td>0.007222</td>\n",
       "      <td>0.000844</td>\n",
       "    </tr>\n",
       "    <tr>\n",
       "      <th>3</th>\n",
       "      <td>D</td>\n",
       "      <td>0.007131</td>\n",
       "      <td>0.000759</td>\n",
       "    </tr>\n",
       "  </tbody>\n",
       "</table>\n",
       "</div>"
      ],
      "text/plain": [
       "  Part  mean_sq_mse  std_sq_mse\n",
       "0    A    10.267254    1.092846\n",
       "1    B     0.008122    0.000954\n",
       "2    C     0.007222    0.000844\n",
       "3    D     0.007131    0.000759"
      ]
     },
     "execution_count": 50,
     "metadata": {},
     "output_type": "execute_result"
    }
   ],
   "source": [
    "Results = pd.DataFrame.from_dict({\"Part\": [\"A\",\"B\", \"C\", \"D\"],\n",
    "                                  \"mean_sq_mse\": [mean_sqmse_A, mean_sqmse_B, mean_sqmse_C, mean_sqmse_D], \n",
    "                                  \"std_sq_mse\": [std_sqmse_A, std_sqmse_B, std_sqmse_C, std_sqmse_D]})\n",
    "Results"
   ]
  }
 ],
 "metadata": {
  "kernelspec": {
   "display_name": "Python 3",
   "language": "python",
   "name": "python3"
  },
  "language_info": {
   "codemirror_mode": {
    "name": "ipython",
    "version": 3
   },
   "file_extension": ".py",
   "mimetype": "text/x-python",
   "name": "python",
   "nbconvert_exporter": "python",
   "pygments_lexer": "ipython3",
   "version": "3.7.12"
  },
  "papermill": {
   "default_parameters": {},
   "duration": 725.530822,
   "end_time": "2022-04-24T14:43:57.158994",
   "environment_variables": {},
   "exception": null,
   "input_path": "__notebook__.ipynb",
   "output_path": "__notebook__.ipynb",
   "parameters": {},
   "start_time": "2022-04-24T14:31:51.628172",
   "version": "2.3.4"
  }
 },
 "nbformat": 4,
 "nbformat_minor": 5
}
