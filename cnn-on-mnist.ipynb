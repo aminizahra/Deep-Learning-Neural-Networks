{
 "cells": [
  {
   "cell_type": "markdown",
   "id": "c46e9a25",
   "metadata": {
    "papermill": {
     "duration": 0.008481,
     "end_time": "2022-06-06T14:12:07.581978",
     "exception": false,
     "start_time": "2022-06-06T14:12:07.573497",
     "status": "completed"
    },
    "tags": []
   },
   "source": [
    "<div style=\"color:#D81F26;\n",
    "           display:fill;\n",
    "           border-radius:200px;\n",
    "           border-style: solid;\n",
    "           border-width: 6px;\n",
    "           border-color:#000000;\n",
    "           background-color:#f5f5f5;\n",
    "           font-size:30px;\n",
    "           font-family:Verdana;\n",
    "           letter-spacing:0.5px\">\n",
    "<h1 style=\"text-align: center;\n",
    "           padding: 15px;\n",
    "           color:#D81F26;\">\n",
    "Design Neural Network model in Keras\n",
    "</h1>\n",
    "</div>"
   ]
  },
  {
   "cell_type": "markdown",
   "id": "60195fe8",
   "metadata": {
    "papermill": {
     "duration": 0.00532,
     "end_time": "2022-06-06T14:12:07.593022",
     "exception": false,
     "start_time": "2022-06-06T14:12:07.587702",
     "status": "completed"
    },
    "tags": []
   },
   "source": [
    "<br>\n",
    "<br>\n",
    "<br>\n",
    "<a href=\"https://imgbb.com/\" class=\"center\"><img src=\"https://i.ibb.co/TT8Wrm7/Keras.png\" alt=\"Keras\" border=\"0\"></a>\n",
    "<br>\n",
    "<br>\n",
    "<br>"
   ]
  },
  {
   "cell_type": "markdown",
   "id": "408dde31",
   "metadata": {
    "papermill": {
     "duration": 0.00497,
     "end_time": "2022-06-06T14:12:07.603223",
     "exception": false,
     "start_time": "2022-06-06T14:12:07.598253",
     "status": "completed"
    },
    "tags": []
   },
   "source": [
    "**Note: It is an educational notebook just to do my homework for the Filoger Neural Network course that teaching by Amin Alipour.**"
   ]
  },
  {
   "cell_type": "markdown",
   "id": "50ba0e2e",
   "metadata": {
    "papermill": {
     "duration": 0.005199,
     "end_time": "2022-06-06T14:12:07.613613",
     "exception": false,
     "start_time": "2022-06-06T14:12:07.608414",
     "status": "completed"
    },
    "tags": []
   },
   "source": [
    "# <p style=\"border-radius:15px;border-style:solid;border-color:#838996;border-width:3px;background-color:#f2f3f4;padding: 20px;font-family:Verdana;color:#D81F26;font-size:30px;text-align: center;\">Import Libraries</p>"
   ]
  },
  {
   "cell_type": "code",
   "execution_count": 1,
   "id": "b190397a",
   "metadata": {
    "_cell_guid": "b1076dfc-b9ad-4769-8c92-a6c4dae69d19",
    "_uuid": "8f2839f25d086af736a60e9eeb907d3b93b6e0e5",
    "execution": {
     "iopub.execute_input": "2022-06-06T14:12:07.626441Z",
     "iopub.status.busy": "2022-06-06T14:12:07.625682Z",
     "iopub.status.idle": "2022-06-06T14:12:07.637312Z",
     "shell.execute_reply": "2022-06-06T14:12:07.636717Z"
    },
    "papermill": {
     "duration": 0.020183,
     "end_time": "2022-06-06T14:12:07.639124",
     "exception": false,
     "start_time": "2022-06-06T14:12:07.618941",
     "status": "completed"
    },
    "tags": []
   },
   "outputs": [],
   "source": [
    "import numpy as np # linear algebra\n",
    "import pandas as pd # data processing, CSV file I/O (e.g. pd.read_csv)\n",
    "import matplotlib.pyplot as plt"
   ]
  },
  {
   "cell_type": "code",
   "execution_count": 2,
   "id": "25faf03a",
   "metadata": {
    "execution": {
     "iopub.execute_input": "2022-06-06T14:12:07.651096Z",
     "iopub.status.busy": "2022-06-06T14:12:07.650779Z",
     "iopub.status.idle": "2022-06-06T14:12:12.630687Z",
     "shell.execute_reply": "2022-06-06T14:12:12.629914Z"
    },
    "papermill": {
     "duration": 4.988295,
     "end_time": "2022-06-06T14:12:12.632878",
     "exception": false,
     "start_time": "2022-06-06T14:12:07.644583",
     "status": "completed"
    },
    "tags": []
   },
   "outputs": [],
   "source": [
    "import keras\n",
    "from keras.models import Sequential\n",
    "from keras.layers import Dense\n",
    "from tensorflow.keras.utils import to_categorical\n",
    "from keras.layers.convolutional import Conv2D\n",
    "from keras.layers.convolutional import MaxPooling2D\n",
    "from keras.layers import Flatten"
   ]
  },
  {
   "cell_type": "code",
   "execution_count": 3,
   "id": "18cfe17b",
   "metadata": {
    "execution": {
     "iopub.execute_input": "2022-06-06T14:12:12.645737Z",
     "iopub.status.busy": "2022-06-06T14:12:12.645158Z",
     "iopub.status.idle": "2022-06-06T14:12:12.788774Z",
     "shell.execute_reply": "2022-06-06T14:12:12.787778Z"
    },
    "papermill": {
     "duration": 0.15245,
     "end_time": "2022-06-06T14:12:12.791055",
     "exception": false,
     "start_time": "2022-06-06T14:12:12.638605",
     "status": "completed"
    },
    "tags": []
   },
   "outputs": [],
   "source": [
    "import cv2 as cv\n",
    "from keras.utils.vis_utils import plot_model"
   ]
  },
  {
   "cell_type": "markdown",
   "id": "472f3299",
   "metadata": {
    "papermill": {
     "duration": 0.005757,
     "end_time": "2022-06-06T14:12:12.802410",
     "exception": false,
     "start_time": "2022-06-06T14:12:12.796653",
     "status": "completed"
    },
    "tags": []
   },
   "source": [
    "# <p style=\"border-radius:15px;border-style:solid;border-color:#838996;border-width:3px;background-color:#f2f3f4;padding: 20px;font-family:Verdana;color:#D81F26;font-size:30px;text-align: center;\">Load Data</p>"
   ]
  },
  {
   "cell_type": "code",
   "execution_count": 4,
   "id": "3d53ab6f",
   "metadata": {
    "execution": {
     "iopub.execute_input": "2022-06-06T14:12:12.814497Z",
     "iopub.status.busy": "2022-06-06T14:12:12.814139Z",
     "iopub.status.idle": "2022-06-06T14:12:13.566883Z",
     "shell.execute_reply": "2022-06-06T14:12:13.566016Z"
    },
    "papermill": {
     "duration": 0.761139,
     "end_time": "2022-06-06T14:12:13.568877",
     "exception": false,
     "start_time": "2022-06-06T14:12:12.807738",
     "status": "completed"
    },
    "tags": []
   },
   "outputs": [
    {
     "name": "stdout",
     "output_type": "stream",
     "text": [
      "Downloading data from https://storage.googleapis.com/tensorflow/tf-keras-datasets/mnist.npz\n",
      "11493376/11490434 [==============================] - 0s 0us/step\n",
      "11501568/11490434 [==============================] - 0s 0us/step\n"
     ]
    }
   ],
   "source": [
    "from keras.datasets import mnist\n",
    "(X_train, y_train), (X_test, y_test) = mnist.load_data()"
   ]
  },
  {
   "cell_type": "code",
   "execution_count": 5,
   "id": "2918b734",
   "metadata": {
    "execution": {
     "iopub.execute_input": "2022-06-06T14:12:13.582304Z",
     "iopub.status.busy": "2022-06-06T14:12:13.581933Z",
     "iopub.status.idle": "2022-06-06T14:12:13.660505Z",
     "shell.execute_reply": "2022-06-06T14:12:13.659542Z"
    },
    "papermill": {
     "duration": 0.087285,
     "end_time": "2022-06-06T14:12:13.662371",
     "exception": false,
     "start_time": "2022-06-06T14:12:13.575086",
     "status": "completed"
    },
    "tags": []
   },
   "outputs": [
    {
     "name": "stdout",
     "output_type": "stream",
     "text": [
      "Shape of train:  (60000, 28, 28)\n"
     ]
    }
   ],
   "source": [
    "#Flatten\n",
    "print(\"Shape of train: \", X_train.shape)\n",
    "\n",
    "X_train = X_train.reshape(X_train.shape[0], 28, 28, 1).astype('float32')\n",
    "\n",
    "X_test = X_test.reshape(X_test.shape[0], 28, 28, 1).astype('float32')"
   ]
  },
  {
   "cell_type": "code",
   "execution_count": 6,
   "id": "6e152a8d",
   "metadata": {
    "execution": {
     "iopub.execute_input": "2022-06-06T14:12:13.675987Z",
     "iopub.status.busy": "2022-06-06T14:12:13.675643Z",
     "iopub.status.idle": "2022-06-06T14:12:13.760180Z",
     "shell.execute_reply": "2022-06-06T14:12:13.759108Z"
    },
    "papermill": {
     "duration": 0.094065,
     "end_time": "2022-06-06T14:12:13.762471",
     "exception": false,
     "start_time": "2022-06-06T14:12:13.668406",
     "status": "completed"
    },
    "tags": []
   },
   "outputs": [],
   "source": [
    "X_train = X_train / 255\n",
    "X_test = X_test / 255"
   ]
  },
  {
   "cell_type": "code",
   "execution_count": 7,
   "id": "b20e80d3",
   "metadata": {
    "execution": {
     "iopub.execute_input": "2022-06-06T14:12:13.776070Z",
     "iopub.status.busy": "2022-06-06T14:12:13.775666Z",
     "iopub.status.idle": "2022-06-06T14:12:13.782883Z",
     "shell.execute_reply": "2022-06-06T14:12:13.781842Z"
    },
    "papermill": {
     "duration": 0.016161,
     "end_time": "2022-06-06T14:12:13.784834",
     "exception": false,
     "start_time": "2022-06-06T14:12:13.768673",
     "status": "completed"
    },
    "tags": []
   },
   "outputs": [],
   "source": [
    "y_train = to_categorical(y_train)\n",
    "y_test = to_categorical(y_test)"
   ]
  },
  {
   "cell_type": "markdown",
   "id": "cde362b7",
   "metadata": {
    "papermill": {
     "duration": 0.006034,
     "end_time": "2022-06-06T14:12:13.796901",
     "exception": false,
     "start_time": "2022-06-06T14:12:13.790867",
     "status": "completed"
    },
    "tags": []
   },
   "source": [
    "# <p style=\"border-radius:15px;border-style:solid;border-color:#838996;border-width:3px;background-color:#f2f3f4;padding: 20px;font-family:Verdana;color:#D81F26;font-size:30px;text-align: center;\">Build a Neural Network</p>"
   ]
  },
  {
   "cell_type": "markdown",
   "id": "c09cc52e",
   "metadata": {
    "papermill": {
     "duration": 0.005856,
     "end_time": "2022-06-06T14:12:13.808726",
     "exception": false,
     "start_time": "2022-06-06T14:12:13.802870",
     "status": "completed"
    },
    "tags": []
   },
   "source": [
    "<p style = \"font-size : 15px; color : #D81F26 ; font-family : 'fantasy'; \"><b>\n",
    "<br>Design a convolutional neural network by following layers on the MNIST dataset:\n",
    "<br>--\n",
    "<br>1. Conv2d: number of kernels: 8, size of kernel and strides: desired\n",
    "<br>2. MaxPooling2d: the size of the kernel: 2x2, strides: desired\n",
    "<br>3. Conv2d: number of kernels: 16, size of kernel and strides: desired\n",
    "<br>4. MaxPooling2d: the size of the kernel: 2x2, strides: desired\n",
    "<br>5. Conv2d: number of kernels: 32, size of kernel and strides: desired\n",
    "<br>6. MaxPooling2d: the size of the kernel: 2x2, strides: desired\n",
    "<br>7. Flatten\n",
    "<br>8. Dense: number of units: 100\n",
    "<br>9. Dense: number of units = number of classes, activation: Softmax\n",
    "<br>--\n",
    "<br>** Other Hyperparameters: Desired\n",
    "<br>** Not mentioned activations: Relu</b></p>\n"
   ]
  },
  {
   "cell_type": "code",
   "execution_count": 8,
   "id": "4ab67cba",
   "metadata": {
    "execution": {
     "iopub.execute_input": "2022-06-06T14:12:13.822060Z",
     "iopub.status.busy": "2022-06-06T14:12:13.821690Z",
     "iopub.status.idle": "2022-06-06T14:12:13.831549Z",
     "shell.execute_reply": "2022-06-06T14:12:13.830623Z"
    },
    "papermill": {
     "duration": 0.018781,
     "end_time": "2022-06-06T14:12:13.833479",
     "exception": false,
     "start_time": "2022-06-06T14:12:13.814698",
     "status": "completed"
    },
    "tags": []
   },
   "outputs": [],
   "source": [
    "def conv_model():\n",
    "    model = Sequential()\n",
    "    model.add(Conv2D(8, (5, 5), strides=(1, 1), activation='relu', input_shape=(28, 28, 1)))\n",
    "    model.add(MaxPooling2D(pool_size=(2, 2), strides=(1, 1)))\n",
    "\n",
    "    model.add(Conv2D(16, (3, 3), strides=(1, 1), activation='relu'))\n",
    "    model.add(MaxPooling2D(pool_size=(2, 2), strides=(2, 2)))\n",
    "    \n",
    "    model.add(Conv2D(32, (7, 7), strides=(2, 1), activation='relu'))\n",
    "    model.add(MaxPooling2D(pool_size=(2, 2), strides=(2, 1)))\n",
    "\n",
    "    model.add(Flatten())\n",
    "    \n",
    "    model.add(Dense(100, activation='relu'))\n",
    "    model.add(Dense(10, activation='softmax'))\n",
    "    \n",
    "    model.compile(optimizer='adam', loss='categorical_crossentropy', metrics=['accuracy'])\n",
    "    \n",
    "    return model"
   ]
  },
  {
   "cell_type": "code",
   "execution_count": 9,
   "id": "743ffae4",
   "metadata": {
    "execution": {
     "iopub.execute_input": "2022-06-06T14:12:13.846934Z",
     "iopub.status.busy": "2022-06-06T14:12:13.846550Z",
     "iopub.status.idle": "2022-06-06T14:13:09.769879Z",
     "shell.execute_reply": "2022-06-06T14:13:09.768780Z"
    },
    "papermill": {
     "duration": 55.932859,
     "end_time": "2022-06-06T14:13:09.772202",
     "exception": false,
     "start_time": "2022-06-06T14:12:13.839343",
     "status": "completed"
    },
    "tags": []
   },
   "outputs": [
    {
     "name": "stderr",
     "output_type": "stream",
     "text": [
      "2022-06-06 14:12:13.883640: I tensorflow/core/common_runtime/process_util.cc:146] Creating new thread pool with default inter op setting: 2. Tune using inter_op_parallelism_threads for best performance.\n",
      "2022-06-06 14:12:14.378999: I tensorflow/compiler/mlir/mlir_graph_optimization_pass.cc:185] None of the MLIR Optimization Passes are enabled (registered 2)\n"
     ]
    },
    {
     "name": "stdout",
     "output_type": "stream",
     "text": [
      "Epoch 1/10\n",
      "270/270 - 7s - loss: 0.4378 - accuracy: 0.8702 - val_loss: 0.1296 - val_accuracy: 0.9632\n",
      "Epoch 2/10\n",
      "270/270 - 5s - loss: 0.1219 - accuracy: 0.9626 - val_loss: 0.0884 - val_accuracy: 0.9753\n",
      "Epoch 3/10\n",
      "270/270 - 5s - loss: 0.0842 - accuracy: 0.9738 - val_loss: 0.0742 - val_accuracy: 0.9782\n",
      "Epoch 4/10\n",
      "270/270 - 5s - loss: 0.0674 - accuracy: 0.9794 - val_loss: 0.0803 - val_accuracy: 0.9765\n",
      "Epoch 5/10\n",
      "270/270 - 5s - loss: 0.0580 - accuracy: 0.9813 - val_loss: 0.0622 - val_accuracy: 0.9812\n",
      "Epoch 6/10\n",
      "270/270 - 5s - loss: 0.0521 - accuracy: 0.9836 - val_loss: 0.0526 - val_accuracy: 0.9852\n",
      "Epoch 7/10\n",
      "270/270 - 5s - loss: 0.0436 - accuracy: 0.9863 - val_loss: 0.0460 - val_accuracy: 0.9853\n",
      "Epoch 8/10\n",
      "270/270 - 6s - loss: 0.0405 - accuracy: 0.9874 - val_loss: 0.0473 - val_accuracy: 0.9867\n",
      "Epoch 9/10\n",
      "270/270 - 5s - loss: 0.0351 - accuracy: 0.9890 - val_loss: 0.0484 - val_accuracy: 0.9865\n",
      "Epoch 10/10\n",
      "270/270 - 5s - loss: 0.0324 - accuracy: 0.9896 - val_loss: 0.0438 - val_accuracy: 0.9898\n"
     ]
    }
   ],
   "source": [
    "model = conv_model()\n",
    "history = model.fit(X_train, y_train, epochs=10, validation_split=0.1, batch_size=200, verbose=2)"
   ]
  },
  {
   "cell_type": "code",
   "execution_count": 10,
   "id": "8ab677f2",
   "metadata": {
    "execution": {
     "iopub.execute_input": "2022-06-06T14:13:09.788306Z",
     "iopub.status.busy": "2022-06-06T14:13:09.787845Z",
     "iopub.status.idle": "2022-06-06T14:13:10.850952Z",
     "shell.execute_reply": "2022-06-06T14:13:10.850120Z"
    },
    "papermill": {
     "duration": 1.074329,
     "end_time": "2022-06-06T14:13:10.854028",
     "exception": false,
     "start_time": "2022-06-06T14:13:09.779699",
     "status": "completed"
    },
    "tags": []
   },
   "outputs": [
    {
     "data": {
      "image/png": "[encoded data removed]",
      "text/plain": [
       "<IPython.core.display.Image object>"
      ]
     },
     "execution_count": 10,
     "metadata": {},
     "output_type": "execute_result"
    }
   ],
   "source": [
    "plot_model(model, to_file='model_plot.png', show_shapes=True, show_layer_names=True)"
   ]
  },
  {
   "cell_type": "code",
   "execution_count": 11,
   "id": "fc082808",
   "metadata": {
    "execution": {
     "iopub.execute_input": "2022-06-06T14:13:10.874398Z",
     "iopub.status.busy": "2022-06-06T14:13:10.873395Z",
     "iopub.status.idle": "2022-06-06T14:13:11.954803Z",
     "shell.execute_reply": "2022-06-06T14:13:11.954030Z"
    },
    "papermill": {
     "duration": 1.09419,
     "end_time": "2022-06-06T14:13:11.957185",
     "exception": false,
     "start_time": "2022-06-06T14:13:10.862995",
     "status": "completed"
    },
    "tags": []
   },
   "outputs": [],
   "source": [
    "scores = model.evaluate(X_test, y_test, verbose=0)"
   ]
  },
  {
   "cell_type": "code",
   "execution_count": 12,
   "id": "5acd25c7",
   "metadata": {
    "execution": {
     "iopub.execute_input": "2022-06-06T14:13:11.976510Z",
     "iopub.status.busy": "2022-06-06T14:13:11.975788Z",
     "iopub.status.idle": "2022-06-06T14:13:11.983637Z",
     "shell.execute_reply": "2022-06-06T14:13:11.983104Z"
    },
    "papermill": {
     "duration": 0.019309,
     "end_time": "2022-06-06T14:13:11.985498",
     "exception": false,
     "start_time": "2022-06-06T14:13:11.966189",
     "status": "completed"
    },
    "tags": []
   },
   "outputs": [
    {
     "data": {
      "text/plain": [
       "0.9871000051498413"
      ]
     },
     "execution_count": 12,
     "metadata": {},
     "output_type": "execute_result"
    }
   ],
   "source": [
    "scores[1]"
   ]
  },
  {
   "cell_type": "code",
   "execution_count": 13,
   "id": "daee618c",
   "metadata": {
    "execution": {
     "iopub.execute_input": "2022-06-06T14:13:12.004212Z",
     "iopub.status.busy": "2022-06-06T14:13:12.003436Z",
     "iopub.status.idle": "2022-06-06T14:13:12.195907Z",
     "shell.execute_reply": "2022-06-06T14:13:12.195038Z"
    },
    "papermill": {
     "duration": 0.204285,
     "end_time": "2022-06-06T14:13:12.198104",
     "exception": false,
     "start_time": "2022-06-06T14:13:11.993819",
     "status": "completed"
    },
    "tags": []
   },
   "outputs": [
    {
     "data": {
      "image/png": "[encoded data removed]",
      "text/plain": [
       "<Figure size 432x288 with 1 Axes>"
      ]
     },
     "metadata": {
      "needs_background": "light"
     },
     "output_type": "display_data"
    }
   ],
   "source": [
    "plt.plot(history.history['accuracy'])\n",
    "plt.plot(history.history['val_accuracy'])\n",
    "plt.show()"
   ]
  },
  {
   "cell_type": "markdown",
   "id": "746b2c4e",
   "metadata": {
    "papermill": {
     "duration": 0.00818,
     "end_time": "2022-06-06T14:13:12.215316",
     "exception": false,
     "start_time": "2022-06-06T14:13:12.207136",
     "status": "completed"
    },
    "tags": []
   },
   "source": [
    "# <p style=\"padding: 20px;font-family:Verdana;color:#D81F26;font-size:30px;text-align: center;\">Finished!</p>"
   ]
  }
 ],
 "metadata": {
  "kernelspec": {
   "display_name": "Python 3",
   "language": "python",
   "name": "python3"
  },
  "language_info": {
   "codemirror_mode": {
    "name": "ipython",
    "version": 3
   },
   "file_extension": ".py",
   "mimetype": "text/x-python",
   "name": "python",
   "nbconvert_exporter": "python",
   "pygments_lexer": "ipython3",
   "version": "3.7.12"
  },
  "papermill": {
   "default_parameters": {},
   "duration": 76.486275,
   "end_time": "2022-06-06T14:13:15.142185",
   "environment_variables": {},
   "exception": null,
   "input_path": "__notebook__.ipynb",
   "output_path": "__notebook__.ipynb",
   "parameters": {},
   "start_time": "2022-06-06T14:11:58.655910",
   "version": "2.3.4"
  }
 },
 "nbformat": 4,
 "nbformat_minor": 5
}
